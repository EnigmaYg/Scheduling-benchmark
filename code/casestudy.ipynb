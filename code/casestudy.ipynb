{
 "cells": [
  {
   "cell_type": "code",
   "execution_count": 1,
   "outputs": [],
   "source": [
    "import json"
   ],
   "metadata": {
    "collapsed": false,
    "ExecuteTime": {
     "end_time": "2025-04-13T05:53:23.460039Z",
     "start_time": "2025-04-13T05:53:23.449040100Z"
    }
   },
   "id": "4f33ad181a5a1c2c"
  },
  {
   "cell_type": "code",
   "execution_count": 17,
   "id": "initial_id",
   "metadata": {
    "collapsed": true,
    "ExecuteTime": {
     "end_time": "2025-04-10T15:17:06.558079Z",
     "start_time": "2025-04-10T15:17:06.464905Z"
    }
   },
   "outputs": [],
   "source": [
    "with open('../data/WikiHow_filtered_data.json', 'r') as f:\n",
    "    instructions = json.load(f)\n",
    "\n",
    "with open('../data/Wikihow_time_appropriate.json', 'r') as f:\n",
    "    times = json.load(f)\n",
    "\n",
    "with open('../data/WikiHow_setting.json', 'r') as f:\n",
    "    settings = json.load(f)"
   ]
  },
  {
   "cell_type": "code",
   "execution_count": 25,
   "outputs": [
    {
     "name": "stdout",
     "output_type": "stream",
     "text": [
      "How To Make Chicken Cutlets\n",
      "\n",
      "\n",
      "1. Slice the chicken breasts horizontally to 1/4 inch thickness.\n",
      "2. Combine bread crumbs, Parmesan cheese, parsley, salt, and pepper in a bowl.\n",
      "3. Beat the egg and milk together in a separate bowl.\n",
      "4. Spread flour onto a plate.\n",
      "5. Dredge each cutlet in flour, then the egg mixture, and then the bread crumb mixture.\n",
      "6. Roast the breaded chicken cutlets.\n",
      "\n",
      "\n",
      "8\n",
      "3\n",
      "2\n",
      "1\n",
      "6\n"
     ]
    }
   ],
   "source": [
    "question = 'How To Make Chicken Cutlets'\n",
    "idx = '0'\n",
    "print(question)\n",
    "print('\\n')\n",
    "print('\\n'.join(instructions[question][idx]))\n",
    "print('\\n')\n",
    "time_list = [str(i) for i in times[question][idx]]\n",
    "print('\\n'.join(time_list))\n",
    "# idx = '1'\n",
    "# print('\\n'.join(instructions[question][idx]))"
   ],
   "metadata": {
    "collapsed": false,
    "ExecuteTime": {
     "end_time": "2025-04-10T15:20:26.435883Z",
     "start_time": "2025-04-10T15:20:26.433681Z"
    }
   },
   "id": "6f6ed9d0e971110c"
  },
  {
   "cell_type": "code",
   "execution_count": 2,
   "outputs": [],
   "source": [
    "with open('../data/Wikihow_time_reanalyse.json', 'r') as f:\n",
    "    reanalyze = json.load(f)\n",
    "    \n",
    "with open('../data/WikiHow_filtered_data.json', 'r') as f:\n",
    "    data = json.load(f)\n",
    "    \n",
    "with open('../data/Wikihow_time_None.json', 'r') as f:\n",
    "    time_none = json.load(f)"
   ],
   "metadata": {
    "collapsed": false,
    "ExecuteTime": {
     "end_time": "2025-04-13T05:54:30.270098700Z",
     "start_time": "2025-04-13T05:54:30.241906500Z"
    }
   },
   "id": "c8288ea3b13f1532"
  },
  {
   "cell_type": "code",
   "execution_count": 8,
   "outputs": [],
   "source": [
    "cnt = 18"
   ],
   "metadata": {
    "collapsed": false,
    "ExecuteTime": {
     "end_time": "2025-04-13T05:56:35.910675900Z",
     "start_time": "2025-04-13T05:56:35.901676400Z"
    }
   },
   "id": "92bc0881ff8f061e"
  },
  {
   "cell_type": "code",
   "execution_count": 18,
   "outputs": [
    {
     "name": "stdout",
     "output_type": "stream",
     "text": [
      "How To Shrink Skinny Jeans\n",
      "{'0': 'None', '1': 'None'}\n",
      "{'0': ['1. Set the washing machine to high heat.', '2. Wash the skinny jeans alone in the washing machine.', '3. Dry the jeans on high heat.', '4. Repeat steps 1.1-1.3 if the jeans are still too big.'], '1': ['1. Boil a large pot of water.', '2. Turn off the heat and submerge the jeans in the boiling water.', '3. Let the jeans soak until the water cools.', '4. Dry the jeans on high heat.', '5. Repeat steps 2.1-2.4 if the jeans are still too big.']}\n",
      "{'0': 'Step 1: 2 minutes\\nStep 2: 45 minutes\\nStep 3: 45 minutes\\nStep 4: None', '1': 'Step 1: 15 minutes\\nStep 2: 2 minutes\\nStep 3: 60 minutes\\nStep 4: 45 minutes\\nStep 5: None'}\n"
     ]
    }
   ],
   "source": [
    "cnt += 1\n",
    "tmp_cnt = 0\n",
    "for key, value in reanalyze.items():\n",
    "    tmp_cnt += 1\n",
    "    if cnt > tmp_cnt:\n",
    "        continue\n",
    "    else:\n",
    "        print(key)\n",
    "        if len(value) == 0:\n",
    "            continue\n",
    "        print(value)\n",
    "        print(data[key])\n",
    "        print(time_none[key])\n",
    "        break"
   ],
   "metadata": {
    "collapsed": false,
    "ExecuteTime": {
     "end_time": "2025-04-13T06:04:43.860584700Z",
     "start_time": "2025-04-13T06:04:43.841031200Z"
    }
   },
   "id": "729eb344a6b404e5"
  },
  {
   "cell_type": "code",
   "execution_count": null,
   "outputs": [],
   "source": [],
   "metadata": {
    "collapsed": false
   },
   "id": "15285bc72e56dfec"
  }
 ],
 "metadata": {
  "kernelspec": {
   "display_name": "Python 3",
   "language": "python",
   "name": "python3"
  },
  "language_info": {
   "codemirror_mode": {
    "name": "ipython",
    "version": 2
   },
   "file_extension": ".py",
   "mimetype": "text/x-python",
   "name": "python",
   "nbconvert_exporter": "python",
   "pygments_lexer": "ipython2",
   "version": "2.7.6"
  }
 },
 "nbformat": 4,
 "nbformat_minor": 5
}

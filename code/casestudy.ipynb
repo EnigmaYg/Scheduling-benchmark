{
 "cells": [
  {
   "cell_type": "code",
   "execution_count": 1,
   "outputs": [],
   "source": [
    "import json"
   ],
   "metadata": {
    "collapsed": false,
    "ExecuteTime": {
     "end_time": "2025-03-31T12:32:49.867754800Z",
     "start_time": "2025-03-31T12:32:49.859753900Z"
    }
   },
   "id": "4f33ad181a5a1c2c"
  },
  {
   "cell_type": "code",
   "execution_count": 3,
   "id": "initial_id",
   "metadata": {
    "collapsed": true,
    "ExecuteTime": {
     "end_time": "2025-03-31T12:39:34.190385200Z",
     "start_time": "2025-03-31T12:39:34.068352Z"
    }
   },
   "outputs": [],
   "source": [
    "with open('../data/WikiHow_procedural_concrete_question.json', 'r') as f:\n",
    "    concrete_question = json.load(f)\n",
    "\n",
    "with open('../data/WikiHow_id2question.json', 'r') as f:\n",
    "    id2question = json.load(f)\n",
    "\n",
    "with open('../data/WikiHow_question2id.json', 'r') as f:\n",
    "    question2id = json.load(f)\n",
    "\n",
    "data = []\n",
    "with open('../data/WikiHowNFQA.jsonl', 'r', encoding='utf-8') as f:\n",
    "    for line in f:\n",
    "        data.append(json.loads(line))\n",
    "        \n",
    "with open('../data/WikiHow_procedural_concrete_question.json', 'r') as f:\n",
    "    results = json.load(f)"
   ]
  },
  {
   "cell_type": "code",
   "execution_count": 24,
   "outputs": [
    {
     "name": "stdout",
     "output_type": "stream",
     "text": [
      "How To Tune a Bass Guitar\n",
      "1. Turn on the tuner and play the first string on the guitar.\n",
      "2. Adjust the corresponding tuning peg until the tuner lights up green, then repeat with the rest of the strings.\n",
      "3. If you don't have a tuner, play the corresponding notes on a tuned instrument.\n",
      "4. Adjust the guitar strings with the tuning pegs until the notes match the other instrument.\n"
     ]
    }
   ],
   "source": [
    "index = 'wikihow_16'\n",
    "print(id2question[index])\n",
    "print(results[index])"
   ],
   "metadata": {
    "collapsed": false,
    "ExecuteTime": {
     "end_time": "2025-03-31T15:50:02.914433900Z",
     "start_time": "2025-03-31T15:50:02.891017300Z"
    }
   },
   "id": "6f6ed9d0e971110c"
  },
  {
   "cell_type": "code",
   "execution_count": null,
   "outputs": [],
   "source": [],
   "metadata": {
    "collapsed": false
   },
   "id": "c8288ea3b13f1532"
  }
 ],
 "metadata": {
  "kernelspec": {
   "display_name": "Python 3",
   "language": "python",
   "name": "python3"
  },
  "language_info": {
   "codemirror_mode": {
    "name": "ipython",
    "version": 2
   },
   "file_extension": ".py",
   "mimetype": "text/x-python",
   "name": "python",
   "nbconvert_exporter": "python",
   "pygments_lexer": "ipython2",
   "version": "2.7.6"
  }
 },
 "nbformat": 4,
 "nbformat_minor": 5
}

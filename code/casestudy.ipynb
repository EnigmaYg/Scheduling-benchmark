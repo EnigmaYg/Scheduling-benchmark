{
 "cells": [
  {
   "cell_type": "code",
   "execution_count": 4,
   "outputs": [],
   "source": [
    "import json"
   ],
   "metadata": {
    "collapsed": false,
    "ExecuteTime": {
     "end_time": "2025-05-06T06:57:45.282731500Z",
     "start_time": "2025-05-06T06:57:45.273733100Z"
    }
   },
   "id": "4f33ad181a5a1c2c"
  },
  {
   "cell_type": "code",
   "execution_count": 2,
   "id": "initial_id",
   "metadata": {
    "collapsed": true,
    "ExecuteTime": {
     "end_time": "2025-04-14T12:07:34.168165Z",
     "start_time": "2025-04-14T12:07:34.143916Z"
    }
   },
   "outputs": [],
   "source": [
    "with open('../data/Wikihow_filtered_instructions.json', 'r') as f:\n",
    "    instruct_answers = json.load(f)\n",
    "\n",
    "with open('../data/Wikihow_time_filtered.json', 'r') as f:\n",
    "    times = json.load(f)\n",
    "\n",
    "with open('../data/tmp/Wikihow_sample_paired.json', 'r') as f:\n",
    "    paired = json.load(f)\n",
    "\n",
    "with open('../data/tmp/Wikihow_sample_tools_parse.json', 'r') as f:\n",
    "    tools = json.load(f)\n",
    "\n",
    "with open('../data/tmp/Wikihow_sample_tools_retrieved_parse.json', 'r') as f:\n",
    "    other_tools = json.load(f)\n"
   ]
  },
  {
   "cell_type": "code",
   "execution_count": 14,
   "outputs": [
    {
     "name": "stdout",
     "output_type": "stream",
     "text": [
      "How To Freeze Okra\n",
      "1. Rinse the okra under cool running water.\n",
      "2. Slice the stem off of each okra pod.\n",
      "3. Blanch the okra in boiling water for 3-4 minutes.\n",
      "4. Transfer the okra to a bowl of ice water for 3-4 minutes.\n",
      "5. Air-dry the okra on a cutting board.\n",
      "6. Slice the okra into bite-sized pieces.\n",
      "7. Place the okra pieces on a baking sheet.\n",
      "8. Freeze the okra on the baking sheet for 1 hour.\n",
      "9. Transfer the frozen okra to a resealable container or plastic bag.\n",
      "****\n",
      "[2, 4, 3, 3, 5, 6, 2, 60, 2]\n",
      "****\n",
      "{'Knife': 1, 'Pot': 1, 'Bowl': 1, 'Cutting board': 1, 'Baking sheet': 1}\n",
      "****\n",
      "{'1': 'None', '2': 'Knife', '3': 'Pot', '4': 'Bowl', '5': 'Cutting board', '6': 'Knife', '7': 'Baking sheet', '8': 'None', '9': 'None'}\n",
      "****\n",
      "How To Freeze Cilantro\n",
      "1. Rinse the cilantro in a bowl of cool water.\n",
      "2. Pat the cilantro dry with a paper towel.\n",
      "3. Blanch the cilantro by dipping it into boiling water for 15-30 seconds and then in ice-cold water for a few seconds.\n",
      "4. Pinch off the leaves and discard the stems.\n",
      "5. Toss the cilantro leaves with olive oil.\n",
      "6. Place the cilantro in a resealable freezer bag.\n",
      "7. Lay the cilantro flat in the freezer.\n",
      "****\n",
      "[4, 2, 0.75, 5, 2, 1, 1]\n",
      "****\n",
      "{'Bowl': 1, 'Pot': 1, 'Cutting board': 1, 'Knife': 1, 'Baking sheet': 1}\n",
      "****\n",
      "{'1': 'Bowl', '2': 'None', '3': 'Pot, Bowl', '4': 'Knife', '5': 'None', '6': 'None', '7': 'Baking sheet'}\n"
     ]
    }
   ],
   "source": [
    "target = 'How To Freeze Okra_0'\n",
    "question = target.split('_')[0]\n",
    "idx = target.split('_')[1]\n",
    "\n",
    "print(question)\n",
    "print('\\n'.join(instruct_answers[question][idx]))\n",
    "print('****')\n",
    "print(times[question][idx])\n",
    "print('****')\n",
    "print(tools[target]['Tools'])\n",
    "print('****')\n",
    "print(tools[target]['Tool_steps'])\n",
    "print('****')\n",
    "\n",
    "pairs = paired[target][2]\n",
    "question = pairs.split('_')[0]\n",
    "idx = pairs.split('_')[1]\n",
    "\n",
    "print(question)\n",
    "print('\\n'.join(instruct_answers[question][idx]))\n",
    "print('****')\n",
    "print(times[question][idx])\n",
    "print('****')\n",
    "print(other_tools[pairs]['Tools'])\n",
    "print('****')\n",
    "print(other_tools[pairs]['Tool_steps'])"
   ],
   "metadata": {
    "collapsed": false,
    "ExecuteTime": {
     "end_time": "2025-04-14T14:08:15.337744Z",
     "start_time": "2025-04-14T14:08:15.333009Z"
    }
   },
   "id": "6f6ed9d0e971110c"
  },
  {
   "cell_type": "code",
   "execution_count": null,
   "outputs": [],
   "source": [],
   "metadata": {
    "collapsed": false
   },
   "id": "15285bc72e56dfec"
  },
  {
   "cell_type": "code",
   "execution_count": 54,
   "outputs": [],
   "source": [
    "with open('../data/GPT4o_sample_results.json', 'r') as f:\n",
    "    gpt_results = json.load(f)\n",
    "\n",
    "with open('../data/GPT4o_sample_results_with_tools.json', 'r') as f:\n",
    "    gpt_results_with = json.load(f)\n",
    "\n",
    "with open('../data/Wikihow_sample_best_scheduling.json', 'r') as f:\n",
    "    best_results = json.load(f)\n",
    "\n",
    "with open('../data/GPT4o_sample_with_tools_prompts.json', 'r') as f:\n",
    "    prompts = json.load(f)"
   ],
   "metadata": {
    "collapsed": false,
    "ExecuteTime": {
     "end_time": "2025-04-15T00:28:50.971811Z",
     "start_time": "2025-04-15T00:28:50.966062Z"
    }
   },
   "id": "1d66a45b7dd6d8e0"
  },
  {
   "cell_type": "code",
   "execution_count": 55,
   "outputs": [
    {
     "name": "stdout",
     "output_type": "stream",
     "text": [
      "17.0\n",
      "A.1 (start at minutes 0, end at minutes 4) Tool: Dry mop or duster  \n",
      "B.1 (start at minutes 4, end at minutes 9) Tool: None  \n",
      "A.2 (start at minutes 9, end at minutes 15) Tool: None  \n",
      "B.2 (start at minutes 15, end at minutes 22) Tool: Soft cloth  \n",
      "A.3 (start at minutes 22, end at minutes 27) Tool: Soft cloth  \n",
      "\n",
      "Total time: 27 minutes\n",
      "{'1': 'Dry mop or duster', '2': 'None', '3': 'Soft cloth'}\n",
      "{'1': 'None', '2': 'Soft cloth'}\n",
      "You are an expert in solving procedural problems. I now have two procedural problems and give the steps to solve them and the time and tools required for each step. However, I only have valid tools, but unlimited materials. I need you to plan whether it is possible to complete these two tasks at the same time based on these valid tools, and give the best method.\n",
      "[Question A:] \n",
      "How To Clean Granite Tiles\n",
      "[Answer A:]\n",
      "1. Wipe down the granite tile surface with a dry mop or duster to remove loose dirt or debris.(Time: 4 minutes) (Tools: Dry mop or duster)\n",
      "2. Wipe down the granite surface with a damp microfiber cloth, working from one end of the tile to the other.(Time: 6 minutes) (Tools: None)\n",
      "3. Dry the tiles with a soft cloth, wiping in a circular motion to avoid streaks.(Time: 5 minutes) (Tools: Soft cloth)\n",
      "\n",
      "\n",
      "[Question B:] \n",
      "How To Clean Granite Countertops\n",
      " [Answer B:]\n",
      "1. Apply a special granite cleaner to the countertops.(Time: 5 minutes)(Tools: None)\n",
      "2. Buff and dry the counters with a clean, soft cloth.(Time: 7 minutes)(Tools: Soft cloth)\n",
      "\n",
      "\n",
      "\n",
      "Now there are the following tools, the number of which is in brackets: Dry mop or duster(1), Soft cloth(1), Soft towel(1), \n",
      "And unlimited materials, such as: Microfiber cloth, Water, Household detergent, Warm water, Cleaning solutionWarm soapy waterSpecial granite cleaner\n",
      "Please analyze whether you can complete this task and give the most efficient operation plan. If you can complete it, please output the results in the order of steps, indicating which step of the problem it is, and the tools used. Finally, calculate the total time to complete all tasks. The shortest time is required, that is, the most efficient operation. Please follow the following format:\n",
      "A.1 (start at minutes x, end at minutes x) Tool X \n",
      "B.1 (start at minutes x, end at minutes x) Tool X \n",
      "A.1 (start at minutes x, end at minutes x) Tool X \n",
      "\n",
      "If it cannot be completed, directly output FAIL\n",
      "\n",
      "Please respond without any other explanation or irrelevant information.\n",
      "Your response:\n"
     ]
    }
   ],
   "source": [
    "key = 'How To Clean Granite Tiles_0'\n",
    "v_key = 'How To Clean Granite Countertops_1'\n",
    "\n",
    "print(best_results[key][v_key][\"makespan\"] / 100)\n",
    "print(gpt_results_with[key][v_key])\n",
    "print(tools[key]['Tool_steps'])\n",
    "print(other_tools[v_key]['Tool_steps'])\n",
    "print(prompts[key][v_key])\n"
   ],
   "metadata": {
    "collapsed": false,
    "ExecuteTime": {
     "end_time": "2025-04-15T00:28:51.701638Z",
     "start_time": "2025-04-15T00:28:51.697429Z"
    }
   },
   "id": "21cbfe29389612ce"
  },
  {
   "cell_type": "code",
   "execution_count": 60,
   "outputs": [
    {
     "name": "stdout",
     "output_type": "stream",
     "text": [
      "FAIL\n",
      "FAIL\n",
      "FAIL\n",
      "FAIL\n",
      "1 22 5\n"
     ]
    }
   ],
   "source": [
    "import re\n",
    "\n",
    "cnt_fail = 0\n",
    "cnt_not_best = 0\n",
    "cnt_correct = 0\n",
    "for key, value in gpt_results_with.items():\n",
    "    for v_key, v_value in value.items():\n",
    "        v_value_list = v_value.split('\\n')\n",
    "        for line in v_value_list:\n",
    "            if ('Total time' in line) or ('Total Time' in line):\n",
    "                minutes = line.split(':')[1].replace('minutes', '')\n",
    "                match = re.search(r'[+-]?\\d+(\\.\\d+)?', minutes)\n",
    "                # print(key)\n",
    "                # print(v_key)\n",
    "                # print(minutes)\n",
    "                try:\n",
    "                    minutes = float(match.group())\n",
    "                    # print(best_results[key][v_key][\"makespan\"] / 100)\n",
    "                    if minutes > best_results[key][v_key][\"makespan\"] / 100:\n",
    "                        cnt_not_best += 1\n",
    "                    elif minutes == best_results[key][v_key][\"makespan\"] / 100:\n",
    "                        cnt_correct += 1\n",
    "                    else:\n",
    "                        cnt_fail += 1\n",
    "                except:\n",
    "                    print('FAIL')\n",
    "print(cnt_correct, cnt_not_best, cnt_fail)"
   ],
   "metadata": {
    "collapsed": false,
    "ExecuteTime": {
     "end_time": "2025-04-15T00:32:35.674377Z",
     "start_time": "2025-04-15T00:32:35.669739Z"
    }
   },
   "id": "7110ed9b0edbfd95"
  },
  {
   "cell_type": "code",
   "execution_count": 1,
   "outputs": [],
   "source": [
    "import json"
   ],
   "metadata": {
    "collapsed": false,
    "ExecuteTime": {
     "end_time": "2025-05-07T02:25:18.844151100Z",
     "start_time": "2025-05-07T02:25:18.832643300Z"
    }
   },
   "id": "9859e05a0b8e1141"
  },
  {
   "cell_type": "code",
   "execution_count": 6,
   "outputs": [
    {
     "name": "stdout",
     "output_type": "stream",
     "text": [
      "11.818452380952381\n",
      "6.205357142857143\n",
      "83.23776785714286\n",
      "2.056547619047619\n",
      "{7: 10, 12: 43, 10: 54, 9: 39, 11: 48, 15: 21, 8: 24, 13: 31, 14: 29, 16: 11, 17: 11, 20: 2, 23: 1, 18: 8, 19: 2, 21: 2}\n",
      "{3: 84, 4: 15, 2: 145, 1: 89, 0: 3}\n"
     ]
    }
   ],
   "source": [
    "with open('../data/filtered_instructions/Wikihow_filtered_instructions.json', 'r') as f:\n",
    "    instruct_answers = json.load(f)\n",
    "with open('../data/match_tools/pair_tools_cars.json', 'r') as f:\n",
    "    pair1 = json.load(f)\n",
    "with open('../data/match_tools/pair_tools_pets.json', 'r') as f:\n",
    "    pair2 = json.load(f)\n",
    "with open('../data/time_step/Wikihow_time_GT10.json', 'r') as f:\n",
    "    times = json.load(f)\n",
    "tool_cnt = 0\n",
    "sum_cnt = 0\n",
    "instruct_cnt = 0\n",
    "time_cnt = 0\n",
    "conflict_tool = 0\n",
    "instruct_dic = {}\n",
    "tool_dic = {}\n",
    "save_instruct = {}\n",
    "save_tool = {}\n",
    "for key, value in pair1.items():\n",
    "    question = key.split('_')[0]\n",
    "    idx = key.split('_')[1]\n",
    "    for v_key, v_value in value.items():\n",
    "        time_cnt += sum(times[question][idx])\n",
    "        time_cnt += sum(times[v_key.split('_')[0]][v_key.split('_')[1]])\n",
    "        tmp_set = set()\n",
    "        for tmp_key, tmp_value in v_value[1].items():\n",
    "            for x in tmp_value.split(','):\n",
    "                if (x.strip(' ') != 'None'):\n",
    "                    tmp_set.add(x.strip(' '))\n",
    "        conflict_tool_set = set()\n",
    "        for tmp_key, tmp_value in v_value[0].items():\n",
    "            for x in tmp_value.split(','):\n",
    "                if (x.strip(' ') in tmp_set) and (x.strip(' ') != 'None'):\n",
    "                    conflict_tool_set.add(x.strip(' '))\n",
    "                tmp_set.add(x.strip(' '))\n",
    "        instruct_cnt += len(v_value[0])\n",
    "        instruct_cnt += len(v_value[1])\n",
    "        save_instruct[key+'+'+v_key] = len(v_value[1]) + len(v_value[0])\n",
    "        save_tool[key+'+'+v_key] = len(conflict_tool_set)\n",
    "        conflict_tool += len(conflict_tool_set)\n",
    "        if (len(v_value[0]) + len(v_value[1])) not in instruct_dic:\n",
    "            instruct_dic[(len(v_value[0]) + len(v_value[1]))] = 1\n",
    "        else:\n",
    "            instruct_dic[(len(v_value[0]) + len(v_value[1]))] += 1\n",
    "        if (len(conflict_tool_set)) not in tool_dic:\n",
    "            tool_dic[len(conflict_tool_set)] = 1\n",
    "        else:\n",
    "            tool_dic[len(conflict_tool_set)] += 1\n",
    "        tool_cnt += len(tmp_set)\n",
    "        sum_cnt += 1\n",
    "    # instruct_cnt += len(instruct_answers[question][idx])\n",
    "    # tool_cnt += len(tmp_set)\n",
    "    # sum_cnt += 1\n",
    "# for key, value in pair2.items():\n",
    "#     question = key.split('_')[0]\n",
    "#     idx = key.split('_')[1]\n",
    "#     for v_key, v_value in value.items():\n",
    "#         time_cnt += sum(times[question][idx])\n",
    "#         time_cnt += sum(times[v_key.split('_')[0]][v_key.split('_')[1]])\n",
    "#         tmp_set = set()\n",
    "#         for tmp_key, tmp_value in v_value[1].items():\n",
    "#             for x in tmp_value.split(','):\n",
    "#                 tmp_set.add(x.strip(' '))\n",
    "#         for tmp_key, tmp_value in v_value[0].items():\n",
    "#             for x in tmp_value.split(','):\n",
    "#                 if (x.strip(' ') in tmp_set) and (x.strip(' ') != 'None'):\n",
    "#                     conflict_tool += 1\n",
    "#                 tmp_set.add(x.strip(' '))\n",
    "#         instruct_cnt += len(v_value[0])\n",
    "#         instruct_cnt += len(v_value[1])\n",
    "#         if (len(v_value[0]) + len(v_value[1])) not in instruct_dic:\n",
    "#             instruct_dic[(len(v_value[0]) + len(v_value[1]))] = 1\n",
    "#         else:\n",
    "#             instruct_dic[(len(v_value[0]) + len(v_value[1]))] += 1\n",
    "#         tool_cnt += len(tmp_set)\n",
    "#         sum_cnt += 1\n",
    "    # instruct_cnt += len(instruct_answers[question][idx])\n",
    "    # tool_cnt += len(tmp_set)\n",
    "    # sum_cnt += 1\n",
    "print(instruct_cnt / sum_cnt)\n",
    "print(tool_cnt / sum_cnt)\n",
    "print(time_cnt / sum_cnt)\n",
    "print(conflict_tool / sum_cnt)\n",
    "print(instruct_dic)\n",
    "print(tool_dic)\n",
    "with open('../data/setting_setup/cars_instruct_statistic.json', 'w') as f:\n",
    "    json.dump(save_instruct, f, indent=4)\n",
    "with open('../data/setting_setup/cars_tool_statistic.json', 'w') as f:\n",
    "    json.dump(save_tool, f, indent=4)"
   ],
   "metadata": {
    "collapsed": false,
    "ExecuteTime": {
     "end_time": "2025-05-07T02:38:17.278182600Z",
     "start_time": "2025-05-07T02:38:17.232183100Z"
    }
   },
   "id": "282b57c98b18112c"
  },
  {
   "cell_type": "code",
   "execution_count": null,
   "outputs": [],
   "source": [],
   "metadata": {
    "collapsed": false
   },
   "id": "273e2f7c50889c57"
  },
  {
   "cell_type": "code",
   "outputs": [],
   "source": [],
   "metadata": {
    "collapsed": false
   },
   "id": "f7f7ddb6f2f6d786"
  },
  {
   "cell_type": "markdown",
   "source": [
    "# Final Human Analyse"
   ],
   "metadata": {
    "collapsed": false
   },
   "id": "50bc99350d3e0ea1"
  },
  {
   "cell_type": "code",
   "outputs": [],
   "source": [
    "import json\n",
    "\n",
    "with open('../data/match_tools/pair_tools_cars.json', 'r') as f:\n",
    "    results = json.load(f)\n",
    "    \n",
    "with open('../data/filtered_instructions/Wikihow_filtered_instructions.json', 'r') as f:\n",
    "    instructions = json.load(f)\n",
    "key_list = list(results.keys())\n",
    "idx = -1"
   ],
   "metadata": {
    "collapsed": false,
    "ExecuteTime": {
     "end_time": "2025-05-19T01:03:31.123870200Z",
     "start_time": "2025-05-19T01:03:31.078991400Z"
    }
   },
   "id": "1f44b345a2228c92",
   "execution_count": 5
  },
  {
   "cell_type": "code",
   "outputs": [
    {
     "ename": "IndexError",
     "evalue": "list index out of range",
     "output_type": "error",
     "traceback": [
      "\u001B[1;31m---------------------------------------------------------------------------\u001B[0m",
      "\u001B[1;31mIndexError\u001B[0m                                Traceback (most recent call last)",
      "\u001B[1;32m<ipython-input-223-b8effa82913b>\u001B[0m in \u001B[0;36m<module>\u001B[1;34m\u001B[0m\n\u001B[0;32m      1\u001B[0m \u001B[0midx\u001B[0m \u001B[1;33m+=\u001B[0m \u001B[1;36m1\u001B[0m\u001B[1;33m\u001B[0m\u001B[1;33m\u001B[0m\u001B[0m\n\u001B[1;32m----> 2\u001B[1;33m \u001B[0mkey_question_set\u001B[0m \u001B[1;33m=\u001B[0m \u001B[0mkey_list\u001B[0m\u001B[1;33m[\u001B[0m\u001B[0midx\u001B[0m\u001B[1;33m]\u001B[0m\u001B[1;33m\u001B[0m\u001B[1;33m\u001B[0m\u001B[0m\n\u001B[0m\u001B[0;32m      3\u001B[0m \u001B[0mkey_question\u001B[0m \u001B[1;33m=\u001B[0m \u001B[0mkey_question_set\u001B[0m\u001B[1;33m.\u001B[0m\u001B[0msplit\u001B[0m\u001B[1;33m(\u001B[0m\u001B[1;34m'_'\u001B[0m\u001B[1;33m)\u001B[0m\u001B[1;33m[\u001B[0m\u001B[1;36m0\u001B[0m\u001B[1;33m]\u001B[0m\u001B[1;33m\u001B[0m\u001B[1;33m\u001B[0m\u001B[0m\n\u001B[0;32m      4\u001B[0m \u001B[0mkey_idx\u001B[0m \u001B[1;33m=\u001B[0m \u001B[0mkey_question_set\u001B[0m\u001B[1;33m.\u001B[0m\u001B[0msplit\u001B[0m\u001B[1;33m(\u001B[0m\u001B[1;34m'_'\u001B[0m\u001B[1;33m)\u001B[0m\u001B[1;33m[\u001B[0m\u001B[1;36m1\u001B[0m\u001B[1;33m]\u001B[0m\u001B[1;33m\u001B[0m\u001B[1;33m\u001B[0m\u001B[0m\n\u001B[0;32m      5\u001B[0m \u001B[1;33m\u001B[0m\u001B[0m\n",
      "\u001B[1;31mIndexError\u001B[0m: list index out of range"
     ]
    }
   ],
   "source": [
    "idx += 1\n",
    "key_question_set = key_list[idx]\n",
    "key_question = key_question_set.split('_')[0]\n",
    "key_idx = key_question_set.split('_')[1]\n"
   ],
   "metadata": {
    "collapsed": false,
    "ExecuteTime": {
     "end_time": "2025-05-19T03:13:05.284043700Z",
     "start_time": "2025-05-19T03:13:05.252129800Z"
    }
   },
   "id": "3a1a16eefb73391b",
   "execution_count": 223
  },
  {
   "cell_type": "code",
   "outputs": [
    {
     "ename": "IndexError",
     "evalue": "list index out of range",
     "output_type": "error",
     "traceback": [
      "\u001B[1;31m---------------------------------------------------------------------------\u001B[0m",
      "\u001B[1;31mIndexError\u001B[0m                                Traceback (most recent call last)",
      "\u001B[1;32m<ipython-input-224-0f4f132d5464>\u001B[0m in \u001B[0;36m<module>\u001B[1;34m\u001B[0m\n\u001B[1;32m----> 1\u001B[1;33m \u001B[0mtmp_key_list\u001B[0m \u001B[1;33m=\u001B[0m \u001B[0mlist\u001B[0m\u001B[1;33m(\u001B[0m\u001B[0mresults\u001B[0m\u001B[1;33m[\u001B[0m\u001B[0mkey_list\u001B[0m\u001B[1;33m[\u001B[0m\u001B[0midx\u001B[0m\u001B[1;33m]\u001B[0m\u001B[1;33m]\u001B[0m\u001B[1;33m.\u001B[0m\u001B[0mkeys\u001B[0m\u001B[1;33m(\u001B[0m\u001B[1;33m)\u001B[0m\u001B[1;33m)\u001B[0m\u001B[1;33m\u001B[0m\u001B[1;33m\u001B[0m\u001B[0m\n\u001B[0m\u001B[0;32m      2\u001B[0m \u001B[0mtmp_idx\u001B[0m \u001B[1;33m=\u001B[0m \u001B[1;33m-\u001B[0m\u001B[1;36m1\u001B[0m\u001B[1;33m\u001B[0m\u001B[1;33m\u001B[0m\u001B[0m\n",
      "\u001B[1;31mIndexError\u001B[0m: list index out of range"
     ]
    }
   ],
   "source": [
    "tmp_key_list = list(results[key_list[idx]].keys())\n",
    "tmp_idx = -1"
   ],
   "metadata": {
    "collapsed": false,
    "ExecuteTime": {
     "end_time": "2025-05-19T03:13:05.574805500Z",
     "start_time": "2025-05-19T03:13:05.542890700Z"
    }
   },
   "id": "8da497076d5c6972",
   "execution_count": 224
  },
  {
   "cell_type": "code",
   "outputs": [
    {
     "name": "stdout",
     "output_type": "stream",
     "text": [
      "How To Fix a Flat Tire\n",
      "1. Inspect the tire for holes or protruding objects to locate where the air is escaping.\n",
      "2. Inflate the tire and listen for a hissing sound.\n",
      "3. Remove any objects from the tire using pliers.\n",
      "4. Turn the wheel until the valve is at the top and unscrew the valve cap.\n",
      "5. Attach the sealant's nozzle to the valve stem and release the contents.\n",
      "6. Drive your car a few feet to distribute the sealant.\n",
      "{'1': 'None', '2': 'Pump', '3': 'Pliers', '4': 'Wrench', '5': 'Wrench', '6': 'None'}\n",
      "=================\n",
      "How To Clean a Car Engine\n",
      "1. Remove debris from the engine bay.\n",
      "2. Disconnect the battery.\n",
      "3. Cover any electronics or wires.\n",
      "4. Apply engine degreaser from the bottom of the engine up.\n",
      "5. Allow the degreaser to soak for 5 minutes.\n",
      "6. Scrub off grime using a stiff-bristled brush.\n",
      "7. Rinse the engine with a garden hose.\n",
      "{'1': 'None', '2': 'Wrench', '3': 'None', '4': 'Spray bottle', '5': 'None', '6': 'Stiff brush', '7': 'Hose'}\n"
     ]
    }
   ],
   "source": [
    "tmp_idx += 1\n",
    "pair_question_set = tmp_key_list[tmp_idx]\n",
    "pair_question = pair_question_set.split('_')[0]\n",
    "pair_idx = pair_question_set.split('_')[1]\n",
    "print(key_question)\n",
    "print('\\n'.join(instructions[key_question][key_idx]))\n",
    "print(results[key_question_set][pair_question_set][0])\n",
    "print('=================')\n",
    "print(pair_question)\n",
    "print('\\n'.join(instructions[pair_question][pair_idx]))\n",
    "print(results[key_question_set][pair_question_set][1])"
   ],
   "metadata": {
    "collapsed": false,
    "ExecuteTime": {
     "end_time": "2025-05-19T03:12:31.548875700Z",
     "start_time": "2025-05-19T03:12:31.537905100Z"
    }
   },
   "id": "727b5dde92ecfe82",
   "execution_count": 222
  },
  {
   "cell_type": "code",
   "outputs": [],
   "source": [],
   "metadata": {
    "collapsed": false
   },
   "id": "fa5fb3a03e4e8a5f"
  }
 ],
 "metadata": {
  "kernelspec": {
   "display_name": "Python 3",
   "language": "python",
   "name": "python3"
  },
  "language_info": {
   "codemirror_mode": {
    "name": "ipython",
    "version": 2
   },
   "file_extension": ".py",
   "mimetype": "text/x-python",
   "name": "python",
   "nbconvert_exporter": "python",
   "pygments_lexer": "ipython2",
   "version": "2.7.6"
  }
 },
 "nbformat": 4,
 "nbformat_minor": 5
}

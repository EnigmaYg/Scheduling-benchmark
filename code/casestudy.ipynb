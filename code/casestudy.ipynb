{
 "cells": [
  {
   "cell_type": "code",
   "execution_count": 1,
   "outputs": [],
   "source": [
    "import json"
   ],
   "metadata": {
    "collapsed": false,
    "ExecuteTime": {
     "end_time": "2025-04-14T12:07:34.135016Z",
     "start_time": "2025-04-14T12:07:34.122262Z"
    }
   },
   "id": "4f33ad181a5a1c2c"
  },
  {
   "cell_type": "code",
   "execution_count": 2,
   "id": "initial_id",
   "metadata": {
    "collapsed": true,
    "ExecuteTime": {
     "end_time": "2025-04-14T12:07:34.168165Z",
     "start_time": "2025-04-14T12:07:34.143916Z"
    }
   },
   "outputs": [],
   "source": [
    "with open('../data/Wikihow_filtered_instructions.json', 'r') as f:\n",
    "    instruct_answers = json.load(f)\n",
    "\n",
    "with open('../data/Wikihow_time_filtered.json', 'r') as f:\n",
    "    times = json.load(f)\n",
    "\n",
    "with open('../data/tmp/Wikihow_sample_paired.json', 'r') as f:\n",
    "    paired = json.load(f)\n",
    "\n",
    "with open('../data/tmp/Wikihow_sample_tools_parse.json', 'r') as f:\n",
    "    tools = json.load(f)\n",
    "\n",
    "with open('../data/tmp/Wikihow_sample_tools_retrieved_parse.json', 'r') as f:\n",
    "    other_tools = json.load(f)\n"
   ]
  },
  {
   "cell_type": "code",
   "execution_count": 14,
   "outputs": [
    {
     "name": "stdout",
     "output_type": "stream",
     "text": [
      "How To Freeze Okra\n",
      "1. Rinse the okra under cool running water.\n",
      "2. Slice the stem off of each okra pod.\n",
      "3. Blanch the okra in boiling water for 3-4 minutes.\n",
      "4. Transfer the okra to a bowl of ice water for 3-4 minutes.\n",
      "5. Air-dry the okra on a cutting board.\n",
      "6. Slice the okra into bite-sized pieces.\n",
      "7. Place the okra pieces on a baking sheet.\n",
      "8. Freeze the okra on the baking sheet for 1 hour.\n",
      "9. Transfer the frozen okra to a resealable container or plastic bag.\n",
      "****\n",
      "[2, 4, 3, 3, 5, 6, 2, 60, 2]\n",
      "****\n",
      "{'Knife': 1, 'Pot': 1, 'Bowl': 1, 'Cutting board': 1, 'Baking sheet': 1}\n",
      "****\n",
      "{'1': 'None', '2': 'Knife', '3': 'Pot', '4': 'Bowl', '5': 'Cutting board', '6': 'Knife', '7': 'Baking sheet', '8': 'None', '9': 'None'}\n",
      "****\n",
      "How To Freeze Cilantro\n",
      "1. Rinse the cilantro in a bowl of cool water.\n",
      "2. Pat the cilantro dry with a paper towel.\n",
      "3. Blanch the cilantro by dipping it into boiling water for 15-30 seconds and then in ice-cold water for a few seconds.\n",
      "4. Pinch off the leaves and discard the stems.\n",
      "5. Toss the cilantro leaves with olive oil.\n",
      "6. Place the cilantro in a resealable freezer bag.\n",
      "7. Lay the cilantro flat in the freezer.\n",
      "****\n",
      "[4, 2, 0.75, 5, 2, 1, 1]\n",
      "****\n",
      "{'Bowl': 1, 'Pot': 1, 'Cutting board': 1, 'Knife': 1, 'Baking sheet': 1}\n",
      "****\n",
      "{'1': 'Bowl', '2': 'None', '3': 'Pot, Bowl', '4': 'Knife', '5': 'None', '6': 'None', '7': 'Baking sheet'}\n"
     ]
    }
   ],
   "source": [
    "target = 'How To Freeze Okra_0'\n",
    "question = target.split('_')[0]\n",
    "idx = target.split('_')[1]\n",
    "\n",
    "print(question)\n",
    "print('\\n'.join(instruct_answers[question][idx]))\n",
    "print('****')\n",
    "print(times[question][idx])\n",
    "print('****')\n",
    "print(tools[target]['Tools'])\n",
    "print('****')\n",
    "print(tools[target]['Tool_steps'])\n",
    "print('****')\n",
    "\n",
    "pairs = paired[target][2]\n",
    "question = pairs.split('_')[0]\n",
    "idx = pairs.split('_')[1]\n",
    "\n",
    "print(question)\n",
    "print('\\n'.join(instruct_answers[question][idx]))\n",
    "print('****')\n",
    "print(times[question][idx])\n",
    "print('****')\n",
    "print(other_tools[pairs]['Tools'])\n",
    "print('****')\n",
    "print(other_tools[pairs]['Tool_steps'])"
   ],
   "metadata": {
    "collapsed": false,
    "ExecuteTime": {
     "end_time": "2025-04-14T14:08:15.337744Z",
     "start_time": "2025-04-14T14:08:15.333009Z"
    }
   },
   "id": "6f6ed9d0e971110c"
  },
  {
   "cell_type": "code",
   "execution_count": null,
   "outputs": [],
   "source": [],
   "metadata": {
    "collapsed": false
   },
   "id": "15285bc72e56dfec"
  },
  {
   "cell_type": "code",
   "execution_count": 54,
   "outputs": [],
   "source": [
    "with open('../data/GPT4o_sample_results.json', 'r') as f:\n",
    "    gpt_results = json.load(f)\n",
    "\n",
    "with open('../data/GPT4o_sample_results_with_tools.json', 'r') as f:\n",
    "    gpt_results_with = json.load(f)\n",
    "\n",
    "with open('../data/Wikihow_sample_best_scheduling.json', 'r') as f:\n",
    "    best_results = json.load(f)\n",
    "\n",
    "with open('../data/GPT4o_sample_with_tools_prompts.json', 'r') as f:\n",
    "    prompts = json.load(f)"
   ],
   "metadata": {
    "collapsed": false,
    "ExecuteTime": {
     "end_time": "2025-04-15T00:28:50.971811Z",
     "start_time": "2025-04-15T00:28:50.966062Z"
    }
   }
  },
  {
   "cell_type": "code",
   "execution_count": 55,
   "outputs": [
    {
     "name": "stdout",
     "output_type": "stream",
     "text": [
      "17.0\n",
      "A.1 (start at minutes 0, end at minutes 4) Tool: Dry mop or duster  \n",
      "B.1 (start at minutes 4, end at minutes 9) Tool: None  \n",
      "A.2 (start at minutes 9, end at minutes 15) Tool: None  \n",
      "B.2 (start at minutes 15, end at minutes 22) Tool: Soft cloth  \n",
      "A.3 (start at minutes 22, end at minutes 27) Tool: Soft cloth  \n",
      "\n",
      "Total time: 27 minutes\n",
      "{'1': 'Dry mop or duster', '2': 'None', '3': 'Soft cloth'}\n",
      "{'1': 'None', '2': 'Soft cloth'}\n",
      "You are an expert in solving procedural problems. I now have two procedural problems and give the steps to solve them and the time and tools required for each step. However, I only have valid tools, but unlimited materials. I need you to plan whether it is possible to complete these two tasks at the same time based on these valid tools, and give the best method.\n",
      "[Question A:] \n",
      "How To Clean Granite Tiles\n",
      "[Answer A:]\n",
      "1. Wipe down the granite tile surface with a dry mop or duster to remove loose dirt or debris.(Time: 4 minutes) (Tools: Dry mop or duster)\n",
      "2. Wipe down the granite surface with a damp microfiber cloth, working from one end of the tile to the other.(Time: 6 minutes) (Tools: None)\n",
      "3. Dry the tiles with a soft cloth, wiping in a circular motion to avoid streaks.(Time: 5 minutes) (Tools: Soft cloth)\n",
      "\n",
      "\n",
      "[Question B:] \n",
      "How To Clean Granite Countertops\n",
      " [Answer B:]\n",
      "1. Apply a special granite cleaner to the countertops.(Time: 5 minutes)(Tools: None)\n",
      "2. Buff and dry the counters with a clean, soft cloth.(Time: 7 minutes)(Tools: Soft cloth)\n",
      "\n",
      "\n",
      "\n",
      "Now there are the following tools, the number of which is in brackets: Dry mop or duster(1), Soft cloth(1), Soft towel(1), \n",
      "And unlimited materials, such as: Microfiber cloth, Water, Household detergent, Warm water, Cleaning solutionWarm soapy waterSpecial granite cleaner\n",
      "Please analyze whether you can complete this task and give the most efficient operation plan. If you can complete it, please output the results in the order of steps, indicating which step of the problem it is, and the tools used. Finally, calculate the total time to complete all tasks. The shortest time is required, that is, the most efficient operation. Please follow the following format:\n",
      "A.1 (start at minutes x, end at minutes x) Tool X \n",
      "B.1 (start at minutes x, end at minutes x) Tool X \n",
      "A.1 (start at minutes x, end at minutes x) Tool X \n",
      "\n",
      "If it cannot be completed, directly output FAIL\n",
      "\n",
      "Please respond without any other explanation or irrelevant information.\n",
      "Your response:\n",
      "\n",
      "\n"
     ]
    }
   ],
   "source": [
    "key = 'How To Clean Granite Tiles_0'\n",
    "v_key = 'How To Clean Granite Countertops_1'\n",
    "\n",
    "print(best_results[key][v_key][\"makespan\"] / 100)\n",
    "print(gpt_results_with[key][v_key])\n",
    "print(tools[key]['Tool_steps'])\n",
    "print(other_tools[v_key]['Tool_steps'])\n",
    "print(prompts[key][v_key])\n"
   ],
   "metadata": {
    "collapsed": false,
    "ExecuteTime": {
     "end_time": "2025-04-15T00:28:51.701638Z",
     "start_time": "2025-04-15T00:28:51.697429Z"
    }
   }
  },
  {
   "cell_type": "code",
   "execution_count": 60,
   "outputs": [
    {
     "name": "stdout",
     "output_type": "stream",
     "text": [
      "FAIL\n",
      "FAIL\n",
      "FAIL\n",
      "FAIL\n",
      "1 22 5\n"
     ]
    }
   ],
   "source": [
    "import re\n",
    "\n",
    "cnt_fail = 0\n",
    "cnt_not_best = 0\n",
    "cnt_correct = 0\n",
    "for key, value in gpt_results_with.items():\n",
    "    for v_key, v_value in value.items():\n",
    "        v_value_list = v_value.split('\\n')\n",
    "        for line in v_value_list:\n",
    "            if ('Total time' in line) or ('Total Time' in line):\n",
    "                minutes = line.split(':')[1].replace('minutes', '')\n",
    "                match = re.search(r'[+-]?\\d+(\\.\\d+)?', minutes)\n",
    "                # print(key)\n",
    "                # print(v_key)\n",
    "                # print(minutes)\n",
    "                try:\n",
    "                    minutes = float(match.group())\n",
    "                    # print(best_results[key][v_key][\"makespan\"] / 100)\n",
    "                    if minutes > best_results[key][v_key][\"makespan\"] / 100:\n",
    "                        cnt_not_best += 1\n",
    "                    elif minutes == best_results[key][v_key][\"makespan\"] / 100:\n",
    "                        cnt_correct += 1\n",
    "                    else:\n",
    "                        cnt_fail += 1\n",
    "                except:\n",
    "                    print('FAIL')\n",
    "print(cnt_correct, cnt_not_best, cnt_fail)"
   ],
   "metadata": {
    "collapsed": false,
    "ExecuteTime": {
     "end_time": "2025-04-15T00:32:35.674377Z",
     "start_time": "2025-04-15T00:32:35.669739Z"
    }
   }
  },
  {
   "cell_type": "code",
   "execution_count": null,
   "outputs": [],
   "source": [],
   "metadata": {
    "collapsed": false
   }
  }
 ],
 "metadata": {
  "kernelspec": {
   "display_name": "Python 3",
   "language": "python",
   "name": "python3"
  },
  "language_info": {
   "codemirror_mode": {
    "name": "ipython",
    "version": 2
   },
   "file_extension": ".py",
   "mimetype": "text/x-python",
   "name": "python",
   "nbconvert_exporter": "python",
   "pygments_lexer": "ipython2",
   "version": "2.7.6"
  }
 },
 "nbformat": 4,
 "nbformat_minor": 5
}

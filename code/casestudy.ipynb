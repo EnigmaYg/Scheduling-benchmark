{
 "cells": [
  {
   "cell_type": "code",
   "execution_count": 16,
   "outputs": [],
   "source": [
    "import json"
   ],
   "metadata": {
    "collapsed": false,
    "ExecuteTime": {
     "end_time": "2025-04-10T15:17:06.132460Z",
     "start_time": "2025-04-10T15:17:06.129686Z"
    }
   },
   "id": "4f33ad181a5a1c2c"
  },
  {
   "cell_type": "code",
   "execution_count": 17,
   "id": "initial_id",
   "metadata": {
    "collapsed": true,
    "ExecuteTime": {
     "end_time": "2025-04-10T15:17:06.558079Z",
     "start_time": "2025-04-10T15:17:06.464905Z"
    }
   },
   "outputs": [],
   "source": [
    "with open('../data/WikiHow_filtered_data.json', 'r') as f:\n",
    "    instructions = json.load(f)\n",
    "\n",
    "with open('../data/Wikihow_time_appropriate.json', 'r') as f:\n",
    "    times = json.load(f)\n",
    "\n",
    "with open('../data/WikiHow_setting.json', 'r') as f:\n",
    "    settings = json.load(f)"
   ]
  },
  {
   "cell_type": "code",
   "execution_count": 25,
   "outputs": [
    {
     "name": "stdout",
     "output_type": "stream",
     "text": [
      "How To Make Chicken Cutlets\n",
      "\n",
      "\n",
      "1. Slice the chicken breasts horizontally to 1/4 inch thickness.\n",
      "2. Combine bread crumbs, Parmesan cheese, parsley, salt, and pepper in a bowl.\n",
      "3. Beat the egg and milk together in a separate bowl.\n",
      "4. Spread flour onto a plate.\n",
      "5. Dredge each cutlet in flour, then the egg mixture, and then the bread crumb mixture.\n",
      "6. Roast the breaded chicken cutlets.\n",
      "\n",
      "\n",
      "8\n",
      "3\n",
      "2\n",
      "1\n",
      "6\n"
     ]
    }
   ],
   "source": [
    "question = 'How To Make Chicken Cutlets'\n",
    "idx = '0'\n",
    "print(question)\n",
    "print('\\n')\n",
    "print('\\n'.join(instructions[question][idx]))\n",
    "print('\\n')\n",
    "time_list = [str(i) for i in times[question][idx]]\n",
    "print('\\n'.join(time_list))\n",
    "# idx = '1'\n",
    "# print('\\n'.join(instructions[question][idx]))"
   ],
   "metadata": {
    "collapsed": false,
    "ExecuteTime": {
     "end_time": "2025-04-10T15:20:26.435883Z",
     "start_time": "2025-04-10T15:20:26.433681Z"
    }
   },
   "id": "6f6ed9d0e971110c"
  },
  {
   "cell_type": "code",
   "execution_count": 8,
   "outputs": [],
   "source": [],
   "metadata": {
    "collapsed": false,
    "ExecuteTime": {
     "end_time": "2025-04-10T15:15:36.256281Z",
     "start_time": "2025-04-10T15:15:36.249534Z"
    }
   },
   "id": "c8288ea3b13f1532"
  },
  {
   "cell_type": "code",
   "execution_count": null,
   "outputs": [],
   "source": [],
   "metadata": {
    "collapsed": false
   }
  }
 ],
 "metadata": {
  "kernelspec": {
   "display_name": "Python 3",
   "language": "python",
   "name": "python3"
  },
  "language_info": {
   "codemirror_mode": {
    "name": "ipython",
    "version": 2
   },
   "file_extension": ".py",
   "mimetype": "text/x-python",
   "name": "python",
   "nbconvert_exporter": "python",
   "pygments_lexer": "ipython2",
   "version": "2.7.6"
  }
 },
 "nbformat": 4,
 "nbformat_minor": 5
}

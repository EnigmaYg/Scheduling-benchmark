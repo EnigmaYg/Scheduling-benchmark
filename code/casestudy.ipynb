{
 "cells": [
  {
   "cell_type": "code",
   "execution_count": 1,
   "outputs": [],
   "source": [
    "import json"
   ],
   "metadata": {
    "collapsed": false,
    "ExecuteTime": {
     "end_time": "2025-04-07T14:28:51.593392200Z",
     "start_time": "2025-04-07T14:28:51.585391600Z"
    }
   },
   "id": "4f33ad181a5a1c2c"
  },
  {
   "cell_type": "code",
   "execution_count": 2,
   "id": "initial_id",
   "metadata": {
    "collapsed": true,
    "ExecuteTime": {
     "end_time": "2025-04-07T14:28:51.625390600Z",
     "start_time": "2025-04-07T14:28:51.592391500Z"
    }
   },
   "outputs": [],
   "source": [
    "with open('../data/WikiHow_instructions_rewrite.json', 'r') as f:\n",
    "    instructions = json.load(f)"
   ]
  },
  {
   "cell_type": "code",
   "execution_count": 9,
   "outputs": [
    {
     "name": "stdout",
     "output_type": "stream",
     "text": [
      "1. Preheat the oven to 400°F (204°C).\n",
      "2. Place the pork tenderloin in a roasting pan.\n",
      "3. Roast the pork tenderloin in the oven for 55 minutes, turning it over halfway through.\n"
     ]
    }
   ],
   "source": [
    "question = 'How To Cook Pork Tenderloin'\n",
    "idx = '0'\n",
    "print('\\n'.join(instructions[question][idx]))"
   ],
   "metadata": {
    "collapsed": false,
    "ExecuteTime": {
     "end_time": "2025-04-07T15:01:32.420462700Z",
     "start_time": "2025-04-07T15:01:32.400732100Z"
    }
   },
   "id": "6f6ed9d0e971110c"
  },
  {
   "cell_type": "code",
   "execution_count": null,
   "outputs": [],
   "source": [],
   "metadata": {
    "collapsed": false
   },
   "id": "c8288ea3b13f1532"
  }
 ],
 "metadata": {
  "kernelspec": {
   "display_name": "Python 3",
   "language": "python",
   "name": "python3"
  },
  "language_info": {
   "codemirror_mode": {
    "name": "ipython",
    "version": 2
   },
   "file_extension": ".py",
   "mimetype": "text/x-python",
   "name": "python",
   "nbconvert_exporter": "python",
   "pygments_lexer": "ipython2",
   "version": "2.7.6"
  }
 },
 "nbformat": 4,
 "nbformat_minor": 5
}

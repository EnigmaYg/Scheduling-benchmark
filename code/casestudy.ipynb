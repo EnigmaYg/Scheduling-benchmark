{
 "cells": [
  {
   "cell_type": "code",
   "execution_count": 1,
   "outputs": [],
   "source": [
    "import json"
   ],
   "metadata": {
    "collapsed": false,
    "ExecuteTime": {
     "end_time": "2025-04-08T00:07:19.913718Z",
     "start_time": "2025-04-08T00:07:19.896655Z"
    }
   },
   "id": "4f33ad181a5a1c2c"
  },
  {
   "cell_type": "code",
   "execution_count": 2,
   "id": "initial_id",
   "metadata": {
    "collapsed": true,
    "ExecuteTime": {
     "end_time": "2025-04-08T00:07:25.943764Z",
     "start_time": "2025-04-08T00:07:25.870850Z"
    }
   },
   "outputs": [],
   "source": [
    "with open('../data/WikiHow_instructions_rewrite.json', 'r') as f:\n",
    "    instructions = json.load(f)"
   ]
  },
  {
   "cell_type": "code",
   "execution_count": 4,
   "outputs": [
    {
     "name": "stdout",
     "output_type": "stream",
     "text": [
      "1. Cut the broccoli into small pieces and place it in a microwave-safe bowl with 3 tablespoons of water.\n",
      "2. Cover the bowl with a lid and microwave for 3 to 4 minutes until the broccoli is tender.\n",
      "\n",
      "\n",
      "1. Add ¼ cup of water to a skillet and bring it to a boil.\n",
      "2. Add the broccoli to the skillet and cover it with a lid.\n",
      "3. Cook the broccoli on high heat for 3 minutes.\n",
      "4. Reduce the heat and let the broccoli simmer for another 3 minutes.\n"
     ]
    }
   ],
   "source": [
    "question = 'How To Steam Broccoli Without a Steamer'\n",
    "idx = '0'\n",
    "print('\\n'.join(instructions[question][idx]))\n",
    "print('\\n')\n",
    "idx = '1'\n",
    "print('\\n'.join(instructions[question][idx]))"
   ],
   "metadata": {
    "collapsed": false,
    "ExecuteTime": {
     "end_time": "2025-04-08T00:07:32.413440Z",
     "start_time": "2025-04-08T00:07:32.366626Z"
    }
   },
   "id": "6f6ed9d0e971110c"
  },
  {
   "cell_type": "code",
   "execution_count": null,
   "outputs": [],
   "source": [],
   "metadata": {
    "collapsed": false
   },
   "id": "c8288ea3b13f1532"
  }
 ],
 "metadata": {
  "kernelspec": {
   "display_name": "Python 3",
   "language": "python",
   "name": "python3"
  },
  "language_info": {
   "codemirror_mode": {
    "name": "ipython",
    "version": 2
   },
   "file_extension": ".py",
   "mimetype": "text/x-python",
   "name": "python",
   "nbconvert_exporter": "python",
   "pygments_lexer": "ipython2",
   "version": "2.7.6"
  }
 },
 "nbformat": 4,
 "nbformat_minor": 5
}

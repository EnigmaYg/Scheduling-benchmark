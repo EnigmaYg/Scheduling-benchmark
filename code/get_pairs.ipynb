{
 "cells": [
  {
   "cell_type": "code",
   "execution_count": 1,
   "metadata": {
    "collapsed": true,
    "ExecuteTime": {
     "end_time": "2025-04-23T04:00:10.475383800Z",
     "start_time": "2025-04-23T04:00:10.467383Z"
    }
   },
   "outputs": [],
   "source": [
    "import json"
   ]
  },
  {
   "cell_type": "code",
   "execution_count": 3622,
   "outputs": [],
   "source": [
    "idx = 2858"
   ],
   "metadata": {
    "collapsed": false,
    "ExecuteTime": {
     "end_time": "2025-04-21T08:11:35.154942800Z",
     "start_time": "2025-04-21T08:11:35.140896800Z"
    }
   }
  },
  {
   "cell_type": "code",
   "execution_count": 3666,
   "outputs": [],
   "source": [
    "with open('../data/time_step/Wikihow_time_GT10.json', 'r') as f:\n",
    "    times = json.load(f)\n",
    "with open('../data/filtered_instructions/Wikihow_filtered_instructions.json', 'r') as f:\n",
    "    instructions = json.load(f)\n",
    "key_list = list(times.keys())\n",
    "idx_list = []"
   ],
   "metadata": {
    "collapsed": false,
    "ExecuteTime": {
     "end_time": "2025-04-21T08:15:11.171242200Z",
     "start_time": "2025-04-21T08:15:11.146762200Z"
    }
   }
  },
  {
   "cell_type": "code",
   "execution_count": 3670,
   "outputs": [
    {
     "name": "stdout",
     "output_type": "stream",
     "text": [
      "2887\n"
     ]
    },
    {
     "ename": "IndexError",
     "evalue": "list index out of range",
     "output_type": "error",
     "traceback": [
      "\u001B[1;31m---------------------------------------------------------------------------\u001B[0m",
      "\u001B[1;31mIndexError\u001B[0m                                Traceback (most recent call last)",
      "Cell \u001B[1;32mIn[3670], line 3\u001B[0m\n\u001B[0;32m      1\u001B[0m idx \u001B[38;5;241m+\u001B[39m\u001B[38;5;241m=\u001B[39m \u001B[38;5;241m1\u001B[39m\n\u001B[0;32m      2\u001B[0m \u001B[38;5;28mprint\u001B[39m(idx)\n\u001B[1;32m----> 3\u001B[0m \u001B[38;5;28mprint\u001B[39m(\u001B[38;5;28mlen\u001B[39m(times[\u001B[43mkey_list\u001B[49m\u001B[43m[\u001B[49m\u001B[43midx\u001B[49m\u001B[43m]\u001B[49m]))\n\u001B[0;32m      4\u001B[0m \u001B[38;5;28;01mfor\u001B[39;00m key, value \u001B[38;5;129;01min\u001B[39;00m times[key_list[idx]]\u001B[38;5;241m.\u001B[39mitems():\n\u001B[0;32m      5\u001B[0m     \u001B[38;5;28mprint\u001B[39m(key_list[idx])\n",
      "\u001B[1;31mIndexError\u001B[0m: list index out of range"
     ]
    }
   ],
   "source": [
    "idx += 1\n",
    "print(idx)\n",
    "print(len(times[key_list[idx]]))\n",
    "for key, value in times[key_list[idx]].items():\n",
    "    print(key_list[idx])\n",
    "    print(instructions[key_list[idx]][key])\n",
    "    print(value)"
   ],
   "metadata": {
    "collapsed": false,
    "ExecuteTime": {
     "end_time": "2025-04-21T08:15:32.534867900Z",
     "start_time": "2025-04-21T08:15:32.500644600Z"
    }
   }
  },
  {
   "cell_type": "code",
   "execution_count": 3664,
   "outputs": [
    {
     "name": "stdout",
     "output_type": "stream",
     "text": [
      "10\n"
     ]
    }
   ],
   "source": [
    "idx_list.append(idx)\n",
    "print(len(idx_list))"
   ],
   "metadata": {
    "collapsed": false,
    "ExecuteTime": {
     "end_time": "2025-04-21T08:14:56.595694600Z",
     "start_time": "2025-04-21T08:14:56.585185Z"
    }
   }
  },
  {
   "cell_type": "code",
   "execution_count": 3665,
   "outputs": [
    {
     "name": "stdout",
     "output_type": "stream",
     "text": [
      "1928\n"
     ]
    }
   ],
   "source": [
    "with open('../data/match_tools/human_choose.json', 'r') as f:\n",
    "    save = json.load(f)\n",
    "for idx in idx_list:\n",
    "    tmp_list = []\n",
    "    for key, value in times[key_list[idx]].items():\n",
    "        tmp_list.append(key)\n",
    "    save[key_list[idx]] = tmp_list\n",
    "print(len(save))\n",
    "with open('../data/match_tools/human_choose.json', 'w') as f:\n",
    "    json.dump(save, f, indent=4)"
   ],
   "metadata": {
    "collapsed": false,
    "ExecuteTime": {
     "end_time": "2025-04-21T08:15:01.478863400Z",
     "start_time": "2025-04-21T08:15:01.461339900Z"
    }
   }
  },
  {
   "cell_type": "code",
   "execution_count": null,
   "outputs": [],
   "source": [],
   "metadata": {
    "collapsed": false
   }
  },
  {
   "cell_type": "code",
   "execution_count": 16,
   "outputs": [],
   "source": [
    "idx = 6"
   ],
   "metadata": {
    "collapsed": false,
    "ExecuteTime": {
     "end_time": "2025-04-24T14:15:42.762893400Z",
     "start_time": "2025-04-24T14:15:42.752920700Z"
    }
   }
  },
  {
   "cell_type": "code",
   "execution_count": 5,
   "outputs": [],
   "source": [
    "import json\n",
    "with open('../data/time_step/Wikihow_time_GT10.json', 'r') as f:\n",
    "    times = json.load(f)\n",
    "with open('../data/filtered_instructions/Wikihow_filtered_instructions.json', 'r') as f:\n",
    "    instructions = json.load(f)\n",
    "with open('../data/match_tools/tools_analyse_parse.json', 'r') as f:\n",
    "    tools = json.load(f)\n",
    "key_list = list(tools.keys())"
   ],
   "metadata": {
    "collapsed": false,
    "ExecuteTime": {
     "end_time": "2025-04-24T14:06:43.223049400Z",
     "start_time": "2025-04-24T14:06:43.170190400Z"
    }
   }
  },
  {
   "cell_type": "code",
   "execution_count": 52,
   "outputs": [
    {
     "name": "stdout",
     "output_type": "stream",
     "text": [
      "973\n",
      "How To Cook Baked Chicken\n",
      "102\n",
      "1. Put balls of dryer lint into a pressed paper egg carton.\n",
      "2. Melt old candles or broken crayons and pour the wax over the lint balls.\n",
      "3. Let the wax cool and harden for 45 minutes.\n",
      "4. Use a wax-covered lint ball to start a fire.\n",
      "{'Tool_steps': {'1': 'Pressed paper egg carton', '2': 'Heat source (stove or similar), Container for melting wax', '3': 'None', '4': 'None'}, 'Materials': 'Dryer lint, Old candles or broken crayons, Wax-covered lint ball, ', 'Tools': {'Pressed paper egg carton': 1, 'Heat source': 1, 'Container for melting wax': 1}}\n"
     ]
    }
   ],
   "source": [
    "idx += 1\n",
    "# print(idx)\n",
    "print(key_list[idx])\n",
    "key_id = 'How To Make a Fire Starter'\n",
    "print(key_list.index(key_id))\n",
    "# key_id = key_list[idx]\n",
    "for key, value in tools[key_id].items():\n",
    "    print('\\n'.join(instructions[key_id][key]))\n",
    "    print(value)"
   ],
   "metadata": {
    "collapsed": false,
    "ExecuteTime": {
     "end_time": "2025-04-24T15:01:16.564402600Z",
     "start_time": "2025-04-24T15:01:16.558418600Z"
    }
   }
  },
  {
   "cell_type": "code",
   "outputs": [],
   "source": [],
   "metadata": {
    "collapsed": false,
    "ExecuteTime": {
     "end_time": "2025-04-25T04:39:30.950325400Z",
     "start_time": "2025-04-25T04:39:30.936363Z"
    }
   },
   "execution_count": 6
  },
  {
   "cell_type": "code",
   "execution_count": 16,
   "outputs": [
    {
     "name": "stdout",
     "output_type": "stream",
     "text": [
      "['Pets and Animals', 'Hobbies and Crafts', 'Cars and Other Vehicles', 'Home and Garden', 'Food and Entertaining', 'Personal Care and Style', 'Holidays and Traditions', 'Computers and Electronics', 'Health', 'Work World', 'Arts and Entertainment', 'Sports and Fitness']\n"
     ]
    }
   ],
   "source": [
    "import json\n",
    "\n",
    "with open('../data/match_tools/tools_analyse_parse.json', 'r') as f:\n",
    "    data = json.load(f)\n",
    "\n",
    "with open('../data/setting_setup/WikiHow_categories.json', 'r') as f:\n",
    "    categories = json.load(f)\n",
    "    \n",
    "with open('../data/filtered_instructions/Wikihow_filtered_instructions.json', 'r') as f:\n",
    "    instructions = json.load(f)\n",
    "    \n",
    "save = {}\n",
    "\n",
    "for key, value in categories.items():\n",
    "    if key not in data:\n",
    "        continue\n",
    "    try:\n",
    "        if value[0].split(':')[1].strip(' ') in save:\n",
    "            save[value[0].split(':')[1].strip(' ')].append(key)\n",
    "        else:\n",
    "            save[value[0].split(':')[1].strip(' ')] = [key]\n",
    "    except:\n",
    "        continue\n",
    "print(list(save.keys()))\n",
    "with open('../data/setting_setup/WikiHow_category.json', 'w') as f:\n",
    "    json.dump(save, f, indent=4)"
   ],
   "metadata": {
    "collapsed": false,
    "ExecuteTime": {
     "end_time": "2025-04-25T05:08:47.344958900Z",
     "start_time": "2025-04-25T05:08:47.262342400Z"
    }
   }
  },
  {
   "cell_type": "code",
   "outputs": [],
   "source": [],
   "metadata": {
    "collapsed": false
   }
  }
 ],
 "metadata": {
  "kernelspec": {
   "display_name": "Python 3",
   "language": "python",
   "name": "python3"
  },
  "language_info": {
   "codemirror_mode": {
    "name": "ipython",
    "version": 2
   },
   "file_extension": ".py",
   "mimetype": "text/x-python",
   "name": "python",
   "nbconvert_exporter": "python",
   "pygments_lexer": "ipython2",
   "version": "2.7.6"
  }
 },
 "nbformat": 4,
 "nbformat_minor": 0
}

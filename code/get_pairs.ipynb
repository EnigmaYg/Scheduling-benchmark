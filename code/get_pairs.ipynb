{
 "cells": [
  {
   "cell_type": "code",
   "execution_count": 17,
   "metadata": {
    "collapsed": true,
    "ExecuteTime": {
     "end_time": "2025-04-20T06:47:29.621892Z",
     "start_time": "2025-04-20T06:47:29.618513Z"
    }
   },
   "outputs": [],
   "source": [
    "import json"
   ]
  },
  {
   "cell_type": "code",
   "execution_count": 417,
   "outputs": [],
   "source": [
    "with open('../data/time_step/Wikihow_time_GT10.json', 'r') as f:\n",
    "    times = json.load(f)\n",
    "\n",
    "with open('../data/filtered_instructions/Wikihow_filtered_instructions.json', 'r') as f:\n",
    "    instructions = json.load(f)\n",
    "key_list = list(times.keys())\n",
    "idx_list = []"
   ],
   "metadata": {
    "collapsed": false,
    "ExecuteTime": {
     "end_time": "2025-04-20T07:43:19.308958Z",
     "start_time": "2025-04-20T07:43:19.282171Z"
    }
   }
  },
  {
   "cell_type": "code",
   "execution_count": 362,
   "outputs": [],
   "source": [
    "idx = 170"
   ],
   "metadata": {
    "collapsed": false,
    "ExecuteTime": {
     "end_time": "2025-04-20T07:38:28.908263Z",
     "start_time": "2025-04-20T07:38:28.902072Z"
    }
   }
  },
  {
   "cell_type": "code",
   "execution_count": 415,
   "outputs": [
    {
     "name": "stdout",
     "output_type": "stream",
     "text": [
      "200\n",
      "How To Prepare for Nuclear War\n",
      "['1. Add 2 liters of water to the survival kit.', '2. Add packaged food to the survival kit.', '3. Add a battery-powered radio to the survival kit.', '4. Add a flashlight to the survival kit.', '5. Add maps to the survival kit.', '6. Add matches to the survival kit.', '7. Add a blanket or sleeping bag to the survival kit.', '8. Add a change of clothes to the survival kit.']\n",
      "[2, 3, 1, 1, 2, 1, 2, 4]\n"
     ]
    }
   ],
   "source": [
    "idx += 1\n",
    "print(idx)\n",
    "for key, value in times[key_list[idx]].items():\n",
    "    print(key_list[idx])\n",
    "    print(instructions[key_list[idx]][key])\n",
    "    print(value)"
   ],
   "metadata": {
    "collapsed": false,
    "ExecuteTime": {
     "end_time": "2025-04-20T07:43:10.559463Z",
     "start_time": "2025-04-20T07:43:10.554576Z"
    }
   }
  },
  {
   "cell_type": "code",
   "execution_count": 414,
   "outputs": [
    {
     "name": "stdout",
     "output_type": "stream",
     "text": [
      "11\n"
     ]
    }
   ],
   "source": [
    "idx_list.append(idx)\n",
    "print(len(idx_list))"
   ],
   "metadata": {
    "collapsed": false,
    "ExecuteTime": {
     "end_time": "2025-04-20T07:43:08.938286Z",
     "start_time": "2025-04-20T07:43:08.933321Z"
    }
   }
  },
  {
   "cell_type": "code",
   "execution_count": 416,
   "outputs": [
    {
     "name": "stdout",
     "output_type": "stream",
     "text": [
      "131\n"
     ]
    }
   ],
   "source": [
    "with open('../data/match_tools/human_choose.json', 'r') as f:\n",
    "    save = json.load(f)\n",
    "for idx in idx_list:\n",
    "    tmp_list = []\n",
    "    for key, value in times[key_list[idx]].items():\n",
    "        tmp_list.append(key)\n",
    "    save[key_list[idx]] = tmp_list\n",
    "print(len(save))\n",
    "with open('../data/match_tools/human_choose.json', 'w') as f:\n",
    "    json.dump(save, f, indent=4)"
   ],
   "metadata": {
    "collapsed": false,
    "ExecuteTime": {
     "end_time": "2025-04-20T07:43:17.035867Z",
     "start_time": "2025-04-20T07:43:17.031286Z"
    }
   }
  },
  {
   "cell_type": "code",
   "execution_count": null,
   "outputs": [],
   "source": [],
   "metadata": {
    "collapsed": false
   }
  }
 ],
 "metadata": {
  "kernelspec": {
   "display_name": "Python 3",
   "language": "python",
   "name": "python3"
  },
  "language_info": {
   "codemirror_mode": {
    "name": "ipython",
    "version": 2
   },
   "file_extension": ".py",
   "mimetype": "text/x-python",
   "name": "python",
   "nbconvert_exporter": "python",
   "pygments_lexer": "ipython2",
   "version": "2.7.6"
  }
 },
 "nbformat": 4,
 "nbformat_minor": 0
}

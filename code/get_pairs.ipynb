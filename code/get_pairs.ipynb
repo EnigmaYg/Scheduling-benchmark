{
 "cells": [
  {
   "cell_type": "code",
   "execution_count": 1,
   "metadata": {
    "collapsed": true,
    "ExecuteTime": {
     "end_time": "2025-04-23T04:00:10.475383800Z",
     "start_time": "2025-04-23T04:00:10.467383Z"
    }
   },
   "outputs": [],
   "source": [
    "import json"
   ]
  },
  {
   "cell_type": "code",
   "execution_count": 3622,
   "outputs": [],
   "source": [
    "idx = 2858"
   ],
   "metadata": {
    "collapsed": false,
    "ExecuteTime": {
     "end_time": "2025-04-21T08:11:35.154942800Z",
     "start_time": "2025-04-21T08:11:35.140896800Z"
    }
   }
  },
  {
   "cell_type": "code",
   "execution_count": 3666,
   "outputs": [],
   "source": [
    "with open('../data/time_step/Wikihow_time_GT10.json', 'r') as f:\n",
    "    times = json.load(f)\n",
    "with open('../data/filtered_instructions/Wikihow_filtered_instructions.json', 'r') as f:\n",
    "    instructions = json.load(f)\n",
    "key_list = list(times.keys())\n",
    "idx_list = []"
   ],
   "metadata": {
    "collapsed": false,
    "ExecuteTime": {
     "end_time": "2025-04-21T08:15:11.171242200Z",
     "start_time": "2025-04-21T08:15:11.146762200Z"
    }
   }
  },
  {
   "cell_type": "code",
   "execution_count": 3670,
   "outputs": [
    {
     "name": "stdout",
     "output_type": "stream",
     "text": [
      "2887\n"
     ]
    },
    {
     "ename": "IndexError",
     "evalue": "list index out of range",
     "output_type": "error",
     "traceback": [
      "\u001B[1;31m---------------------------------------------------------------------------\u001B[0m",
      "\u001B[1;31mIndexError\u001B[0m                                Traceback (most recent call last)",
      "Cell \u001B[1;32mIn[3670], line 3\u001B[0m\n\u001B[0;32m      1\u001B[0m idx \u001B[38;5;241m+\u001B[39m\u001B[38;5;241m=\u001B[39m \u001B[38;5;241m1\u001B[39m\n\u001B[0;32m      2\u001B[0m \u001B[38;5;28mprint\u001B[39m(idx)\n\u001B[1;32m----> 3\u001B[0m \u001B[38;5;28mprint\u001B[39m(\u001B[38;5;28mlen\u001B[39m(times[\u001B[43mkey_list\u001B[49m\u001B[43m[\u001B[49m\u001B[43midx\u001B[49m\u001B[43m]\u001B[49m]))\n\u001B[0;32m      4\u001B[0m \u001B[38;5;28;01mfor\u001B[39;00m key, value \u001B[38;5;129;01min\u001B[39;00m times[key_list[idx]]\u001B[38;5;241m.\u001B[39mitems():\n\u001B[0;32m      5\u001B[0m     \u001B[38;5;28mprint\u001B[39m(key_list[idx])\n",
      "\u001B[1;31mIndexError\u001B[0m: list index out of range"
     ]
    }
   ],
   "source": [
    "idx += 1\n",
    "print(idx)\n",
    "print(len(times[key_list[idx]]))\n",
    "for key, value in times[key_list[idx]].items():\n",
    "    print(key_list[idx])\n",
    "    print(instructions[key_list[idx]][key])\n",
    "    print(value)"
   ],
   "metadata": {
    "collapsed": false,
    "ExecuteTime": {
     "end_time": "2025-04-21T08:15:32.534867900Z",
     "start_time": "2025-04-21T08:15:32.500644600Z"
    }
   }
  },
  {
   "cell_type": "code",
   "execution_count": 3664,
   "outputs": [
    {
     "name": "stdout",
     "output_type": "stream",
     "text": [
      "10\n"
     ]
    }
   ],
   "source": [
    "idx_list.append(idx)\n",
    "print(len(idx_list))"
   ],
   "metadata": {
    "collapsed": false,
    "ExecuteTime": {
     "end_time": "2025-04-21T08:14:56.595694600Z",
     "start_time": "2025-04-21T08:14:56.585185Z"
    }
   }
  },
  {
   "cell_type": "code",
   "execution_count": 3665,
   "outputs": [
    {
     "name": "stdout",
     "output_type": "stream",
     "text": [
      "1928\n"
     ]
    }
   ],
   "source": [
    "with open('../data/match_tools/human_choose.json', 'r') as f:\n",
    "    save = json.load(f)\n",
    "for idx in idx_list:\n",
    "    tmp_list = []\n",
    "    for key, value in times[key_list[idx]].items():\n",
    "        tmp_list.append(key)\n",
    "    save[key_list[idx]] = tmp_list\n",
    "print(len(save))\n",
    "with open('../data/match_tools/human_choose.json', 'w') as f:\n",
    "    json.dump(save, f, indent=4)"
   ],
   "metadata": {
    "collapsed": false,
    "ExecuteTime": {
     "end_time": "2025-04-21T08:15:01.478863400Z",
     "start_time": "2025-04-21T08:15:01.461339900Z"
    }
   }
  },
  {
   "cell_type": "code",
   "execution_count": null,
   "outputs": [],
   "source": [],
   "metadata": {
    "collapsed": false
   }
  },
  {
   "cell_type": "code",
   "execution_count": 16,
   "outputs": [],
   "source": [
    "idx = 6"
   ],
   "metadata": {
    "collapsed": false,
    "ExecuteTime": {
     "end_time": "2025-04-24T14:15:42.762893400Z",
     "start_time": "2025-04-24T14:15:42.752920700Z"
    }
   }
  },
  {
   "cell_type": "code",
   "execution_count": 5,
   "outputs": [],
   "source": [
    "import json\n",
    "with open('../data/time_step/Wikihow_time_GT10.json', 'r') as f:\n",
    "    times = json.load(f)\n",
    "with open('../data/filtered_instructions/Wikihow_filtered_instructions.json', 'r') as f:\n",
    "    instructions = json.load(f)\n",
    "with open('../data/match_tools/tools_analyse_parse.json', 'r') as f:\n",
    "    tools = json.load(f)\n",
    "key_list = list(tools.keys())"
   ],
   "metadata": {
    "collapsed": false,
    "ExecuteTime": {
     "end_time": "2025-04-24T14:06:43.223049400Z",
     "start_time": "2025-04-24T14:06:43.170190400Z"
    }
   }
  },
  {
   "cell_type": "code",
   "execution_count": 52,
   "outputs": [
    {
     "name": "stdout",
     "output_type": "stream",
     "text": [
      "973\n",
      "How To Cook Baked Chicken\n",
      "102\n",
      "1. Put balls of dryer lint into a pressed paper egg carton.\n",
      "2. Melt old candles or broken crayons and pour the wax over the lint balls.\n",
      "3. Let the wax cool and harden for 45 minutes.\n",
      "4. Use a wax-covered lint ball to start a fire.\n",
      "{'Tool_steps': {'1': 'Pressed paper egg carton', '2': 'Heat source (stove or similar), Container for melting wax', '3': 'None', '4': 'None'}, 'Materials': 'Dryer lint, Old candles or broken crayons, Wax-covered lint ball, ', 'Tools': {'Pressed paper egg carton': 1, 'Heat source': 1, 'Container for melting wax': 1}}\n"
     ]
    }
   ],
   "source": [
    "idx += 1\n",
    "# print(idx)\n",
    "print(key_list[idx])\n",
    "key_id = 'How To Make a Fire Starter'\n",
    "print(key_list.index(key_id))\n",
    "# key_id = key_list[idx]\n",
    "for key, value in tools[key_id].items():\n",
    "    print('\\n'.join(instructions[key_id][key]))\n",
    "    print(value)"
   ],
   "metadata": {
    "collapsed": false,
    "ExecuteTime": {
     "end_time": "2025-04-24T15:01:16.564402600Z",
     "start_time": "2025-04-24T15:01:16.558418600Z"
    }
   }
  },
  {
   "cell_type": "code",
   "outputs": [],
   "source": [
    "def get_prompt(question, answer):\n",
    "    Prompt = f'''You are an expert in wikiHow's categorization system. Your task is to determine which of wikiHow's 19 main categories a question best fits. Use your deep understanding of these categories to make an informed decision.\n",
    "\n",
    "Choose one category from the list below:\n",
    "1. Health: Articles related to physical and mental health, personal hygiene, medical conditions, and wellness.\n",
    "2. Home and Garden: Covers topics like home maintenance, cleaning, interior decorating, and gardening.\n",
    "3. Personal Care and Style: Focuses on skincare, makeup, hairstyling, personal grooming, and dressing tips.\n",
    "4. Hobbies and Crafts: Encompasses creative activities, crafting, hands-on projects, and building things.\n",
    "5. Food and Entertaining: Includes cooking recipes, food preparation, hosting gatherings, and etiquette.\n",
    "6. Relationships: Involves romantic relationships, friendships, family dynamics, and interpersonal communication.\n",
    "7. Computers and Electronics: Covers using computers, mobile devices, software, and solving tech-related issues.\n",
    "8. Education and Communication: Topics related to studying, learning techniques, teaching, and effective communication.\n",
    "9. Youth: Tailored for teenage audiences with content about school life, self-image, peer relationships, and personal growth.\n",
    "10. Pets and Animals: Involves pet care, animal behavior, training, and general animal knowledge.\n",
    "11. Arts and Entertainment: Covers music, film, television, games, and other forms of artistic or leisure expression.\n",
    "12. Sports and Fitness: Topics include exercise routines, sports techniques, physical fitness, and staying active.\n",
    "13. Family Life: Focuses on parenting, child development, household dynamics, and family bonding.\n",
    "14. Finance and Business: Articles related to entrepreneurship, managing money, budgeting, and financial planning.\n",
    "15. Work World: Involves career advice, job searching, workplace skills, and professional development.\n",
    "16. Cars and Other Vehicles: Covers car maintenance, driving, buying vehicles, and transportation tips.\n",
    "17. Philosophy and Religion: Encompasses belief systems, religious practices, ethics, and philosophical questions.\n",
    "18. Travel: Topics about planning trips, travel hacks, cultural awareness, and navigating new places.\n",
    "19. Holidays and Traditions: Focuses on celebrating holidays, cultural customs, and seasonal events.\n",
    "\n",
    "\n",
    "Output format:\n",
    "Category: [Chosen category name]\n",
    "\n",
    "Given a question and its answer below. Please respond without any other explanation or irrelevant information.\n",
    "[Procedural Question:]\n",
    "{question}\n",
    "[Instructional Answer:]\n",
    "{answer}\n",
    "\n",
    "Your response:\n",
    "    '''\n",
    "    return Prompt\n",
    "\n",
    "def run_llm(prompt):\n",
    "    completion = client.chat.completions.create(\n",
    "        model=\"gpt-4o-mini\",\n",
    "        messages=[\n",
    "            {\n",
    "                \"role\": \"user\",\n",
    "                \"content\": prompt,\n",
    "            },\n",
    "        ],\n",
    "    )\n",
    "    return completion.choices[0].message.content"
   ],
   "metadata": {
    "collapsed": false,
    "ExecuteTime": {
     "end_time": "2025-04-25T04:39:30.950325400Z",
     "start_time": "2025-04-25T04:39:30.936363Z"
    }
   },
   "execution_count": 6
  },
  {
   "cell_type": "code",
   "execution_count": 7,
   "outputs": [
    {
     "name": "stdout",
     "output_type": "stream",
     "text": [
      "How To Make Gingerbread\n"
     ]
    },
    {
     "ename": "APIConnectionError",
     "evalue": "Connection error.",
     "output_type": "error",
     "traceback": [
      "\u001B[1;31m---------------------------------------------------------------------------\u001B[0m",
      "\u001B[1;31mOSError\u001B[0m                                   Traceback (most recent call last)",
      "\u001B[1;32m~\\Anaconda3\\lib\\site-packages\\httpcore\\_exceptions.py\u001B[0m in \u001B[0;36mmap_exceptions\u001B[1;34m(map)\u001B[0m\n\u001B[0;32m      9\u001B[0m     \u001B[1;32mtry\u001B[0m\u001B[1;33m:\u001B[0m\u001B[1;33m\u001B[0m\u001B[1;33m\u001B[0m\u001B[0m\n\u001B[1;32m---> 10\u001B[1;33m         \u001B[1;32myield\u001B[0m\u001B[1;33m\u001B[0m\u001B[1;33m\u001B[0m\u001B[0m\n\u001B[0m\u001B[0;32m     11\u001B[0m     \u001B[1;32mexcept\u001B[0m \u001B[0mException\u001B[0m \u001B[1;32mas\u001B[0m \u001B[0mexc\u001B[0m\u001B[1;33m:\u001B[0m  \u001B[1;31m# noqa: PIE786\u001B[0m\u001B[1;33m\u001B[0m\u001B[1;33m\u001B[0m\u001B[0m\n",
      "\u001B[1;32m~\\Anaconda3\\lib\\site-packages\\httpcore\\_backends\\sync.py\u001B[0m in \u001B[0;36mstart_tls\u001B[1;34m(self, ssl_context, server_hostname, timeout)\u001B[0m\n\u001B[0;32m     61\u001B[0m                 \u001B[0mself\u001B[0m\u001B[1;33m.\u001B[0m\u001B[0mclose\u001B[0m\u001B[1;33m(\u001B[0m\u001B[1;33m)\u001B[0m\u001B[1;33m\u001B[0m\u001B[1;33m\u001B[0m\u001B[0m\n\u001B[1;32m---> 62\u001B[1;33m                 \u001B[1;32mraise\u001B[0m \u001B[0mexc\u001B[0m\u001B[1;33m\u001B[0m\u001B[1;33m\u001B[0m\u001B[0m\n\u001B[0m\u001B[0;32m     63\u001B[0m         \u001B[1;32mreturn\u001B[0m \u001B[0mSyncStream\u001B[0m\u001B[1;33m(\u001B[0m\u001B[0msock\u001B[0m\u001B[1;33m)\u001B[0m\u001B[1;33m\u001B[0m\u001B[1;33m\u001B[0m\u001B[0m\n",
      "\u001B[1;32m~\\Anaconda3\\lib\\site-packages\\httpcore\\_backends\\sync.py\u001B[0m in \u001B[0;36mstart_tls\u001B[1;34m(self, ssl_context, server_hostname, timeout)\u001B[0m\n\u001B[0;32m     57\u001B[0m                 sock = ssl_context.wrap_socket(\n\u001B[1;32m---> 58\u001B[1;33m                     \u001B[0mself\u001B[0m\u001B[1;33m.\u001B[0m\u001B[0m_sock\u001B[0m\u001B[1;33m,\u001B[0m \u001B[0mserver_hostname\u001B[0m\u001B[1;33m=\u001B[0m\u001B[0mserver_hostname\u001B[0m\u001B[1;33m\u001B[0m\u001B[1;33m\u001B[0m\u001B[0m\n\u001B[0m\u001B[0;32m     59\u001B[0m                 )\n",
      "\u001B[1;32m~\\Anaconda3\\lib\\ssl.py\u001B[0m in \u001B[0;36mwrap_socket\u001B[1;34m(self, sock, server_side, do_handshake_on_connect, suppress_ragged_eofs, server_hostname, session)\u001B[0m\n\u001B[0;32m    422\u001B[0m             \u001B[0mcontext\u001B[0m\u001B[1;33m=\u001B[0m\u001B[0mself\u001B[0m\u001B[1;33m,\u001B[0m\u001B[1;33m\u001B[0m\u001B[1;33m\u001B[0m\u001B[0m\n\u001B[1;32m--> 423\u001B[1;33m             \u001B[0msession\u001B[0m\u001B[1;33m=\u001B[0m\u001B[0msession\u001B[0m\u001B[1;33m\u001B[0m\u001B[1;33m\u001B[0m\u001B[0m\n\u001B[0m\u001B[0;32m    424\u001B[0m         )\n",
      "\u001B[1;32m~\\Anaconda3\\lib\\ssl.py\u001B[0m in \u001B[0;36m_create\u001B[1;34m(cls, sock, server_side, do_handshake_on_connect, suppress_ragged_eofs, server_hostname, context, session)\u001B[0m\n\u001B[0;32m    869\u001B[0m                         \u001B[1;32mraise\u001B[0m \u001B[0mValueError\u001B[0m\u001B[1;33m(\u001B[0m\u001B[1;34m\"do_handshake_on_connect should not be specified for non-blocking sockets\"\u001B[0m\u001B[1;33m)\u001B[0m\u001B[1;33m\u001B[0m\u001B[1;33m\u001B[0m\u001B[0m\n\u001B[1;32m--> 870\u001B[1;33m                     \u001B[0mself\u001B[0m\u001B[1;33m.\u001B[0m\u001B[0mdo_handshake\u001B[0m\u001B[1;33m(\u001B[0m\u001B[1;33m)\u001B[0m\u001B[1;33m\u001B[0m\u001B[1;33m\u001B[0m\u001B[0m\n\u001B[0m\u001B[0;32m    871\u001B[0m             \u001B[1;32mexcept\u001B[0m \u001B[1;33m(\u001B[0m\u001B[0mOSError\u001B[0m\u001B[1;33m,\u001B[0m \u001B[0mValueError\u001B[0m\u001B[1;33m)\u001B[0m\u001B[1;33m:\u001B[0m\u001B[1;33m\u001B[0m\u001B[1;33m\u001B[0m\u001B[0m\n",
      "\u001B[1;32m~\\Anaconda3\\lib\\ssl.py\u001B[0m in \u001B[0;36mdo_handshake\u001B[1;34m(self, block)\u001B[0m\n\u001B[0;32m   1138\u001B[0m                 \u001B[0mself\u001B[0m\u001B[1;33m.\u001B[0m\u001B[0msettimeout\u001B[0m\u001B[1;33m(\u001B[0m\u001B[1;32mNone\u001B[0m\u001B[1;33m)\u001B[0m\u001B[1;33m\u001B[0m\u001B[1;33m\u001B[0m\u001B[0m\n\u001B[1;32m-> 1139\u001B[1;33m             \u001B[0mself\u001B[0m\u001B[1;33m.\u001B[0m\u001B[0m_sslobj\u001B[0m\u001B[1;33m.\u001B[0m\u001B[0mdo_handshake\u001B[0m\u001B[1;33m(\u001B[0m\u001B[1;33m)\u001B[0m\u001B[1;33m\u001B[0m\u001B[1;33m\u001B[0m\u001B[0m\n\u001B[0m\u001B[0;32m   1140\u001B[0m         \u001B[1;32mfinally\u001B[0m\u001B[1;33m:\u001B[0m\u001B[1;33m\u001B[0m\u001B[1;33m\u001B[0m\u001B[0m\n",
      "\u001B[1;31mOSError\u001B[0m: [Errno 0] Error",
      "\nThe above exception was the direct cause of the following exception:\n",
      "\u001B[1;31mConnectError\u001B[0m                              Traceback (most recent call last)",
      "\u001B[1;32m~\\Anaconda3\\lib\\site-packages\\httpx\\_transports\\default.py\u001B[0m in \u001B[0;36mmap_httpcore_exceptions\u001B[1;34m()\u001B[0m\n\u001B[0;32m     59\u001B[0m     \u001B[1;32mtry\u001B[0m\u001B[1;33m:\u001B[0m\u001B[1;33m\u001B[0m\u001B[1;33m\u001B[0m\u001B[0m\n\u001B[1;32m---> 60\u001B[1;33m         \u001B[1;32myield\u001B[0m\u001B[1;33m\u001B[0m\u001B[1;33m\u001B[0m\u001B[0m\n\u001B[0m\u001B[0;32m     61\u001B[0m     \u001B[1;32mexcept\u001B[0m \u001B[0mException\u001B[0m \u001B[1;32mas\u001B[0m \u001B[0mexc\u001B[0m\u001B[1;33m:\u001B[0m  \u001B[1;31m# noqa: PIE-786\u001B[0m\u001B[1;33m\u001B[0m\u001B[1;33m\u001B[0m\u001B[0m\n",
      "\u001B[1;32m~\\Anaconda3\\lib\\site-packages\\httpx\\_transports\\default.py\u001B[0m in \u001B[0;36mhandle_request\u001B[1;34m(self, request)\u001B[0m\n\u001B[0;32m    217\u001B[0m         \u001B[1;32mwith\u001B[0m \u001B[0mmap_httpcore_exceptions\u001B[0m\u001B[1;33m(\u001B[0m\u001B[1;33m)\u001B[0m\u001B[1;33m:\u001B[0m\u001B[1;33m\u001B[0m\u001B[1;33m\u001B[0m\u001B[0m\n\u001B[1;32m--> 218\u001B[1;33m             \u001B[0mresp\u001B[0m \u001B[1;33m=\u001B[0m \u001B[0mself\u001B[0m\u001B[1;33m.\u001B[0m\u001B[0m_pool\u001B[0m\u001B[1;33m.\u001B[0m\u001B[0mhandle_request\u001B[0m\u001B[1;33m(\u001B[0m\u001B[0mreq\u001B[0m\u001B[1;33m)\u001B[0m\u001B[1;33m\u001B[0m\u001B[1;33m\u001B[0m\u001B[0m\n\u001B[0m\u001B[0;32m    219\u001B[0m \u001B[1;33m\u001B[0m\u001B[0m\n",
      "\u001B[1;32m~\\Anaconda3\\lib\\site-packages\\httpcore\\_sync\\connection_pool.py\u001B[0m in \u001B[0;36mhandle_request\u001B[1;34m(self, request)\u001B[0m\n\u001B[0;32m    261\u001B[0m                     \u001B[0mself\u001B[0m\u001B[1;33m.\u001B[0m\u001B[0mresponse_closed\u001B[0m\u001B[1;33m(\u001B[0m\u001B[0mstatus\u001B[0m\u001B[1;33m)\u001B[0m\u001B[1;33m\u001B[0m\u001B[1;33m\u001B[0m\u001B[0m\n\u001B[1;32m--> 262\u001B[1;33m                 \u001B[1;32mraise\u001B[0m \u001B[0mexc\u001B[0m\u001B[1;33m\u001B[0m\u001B[1;33m\u001B[0m\u001B[0m\n\u001B[0m\u001B[0;32m    263\u001B[0m             \u001B[1;32melse\u001B[0m\u001B[1;33m:\u001B[0m\u001B[1;33m\u001B[0m\u001B[1;33m\u001B[0m\u001B[0m\n",
      "\u001B[1;32m~\\Anaconda3\\lib\\site-packages\\httpcore\\_sync\\connection_pool.py\u001B[0m in \u001B[0;36mhandle_request\u001B[1;34m(self, request)\u001B[0m\n\u001B[0;32m    244\u001B[0m             \u001B[1;32mtry\u001B[0m\u001B[1;33m:\u001B[0m\u001B[1;33m\u001B[0m\u001B[1;33m\u001B[0m\u001B[0m\n\u001B[1;32m--> 245\u001B[1;33m                 \u001B[0mresponse\u001B[0m \u001B[1;33m=\u001B[0m \u001B[0mconnection\u001B[0m\u001B[1;33m.\u001B[0m\u001B[0mhandle_request\u001B[0m\u001B[1;33m(\u001B[0m\u001B[0mrequest\u001B[0m\u001B[1;33m)\u001B[0m\u001B[1;33m\u001B[0m\u001B[1;33m\u001B[0m\u001B[0m\n\u001B[0m\u001B[0;32m    246\u001B[0m             \u001B[1;32mexcept\u001B[0m \u001B[0mConnectionNotAvailable\u001B[0m\u001B[1;33m:\u001B[0m\u001B[1;33m\u001B[0m\u001B[1;33m\u001B[0m\u001B[0m\n",
      "\u001B[1;32m~\\Anaconda3\\lib\\site-packages\\httpcore\\_sync\\http_proxy.py\u001B[0m in \u001B[0;36mhandle_request\u001B[1;34m(self, request)\u001B[0m\n\u001B[0;32m    271\u001B[0m                 connect_response = self._connection.handle_request(\n\u001B[1;32m--> 272\u001B[1;33m                     \u001B[0mconnect_request\u001B[0m\u001B[1;33m\u001B[0m\u001B[1;33m\u001B[0m\u001B[0m\n\u001B[0m\u001B[0;32m    273\u001B[0m                 )\n",
      "\u001B[1;32m~\\Anaconda3\\lib\\site-packages\\httpcore\\_sync\\connection.py\u001B[0m in \u001B[0;36mhandle_request\u001B[1;34m(self, request)\u001B[0m\n\u001B[0;32m     91\u001B[0m                     \u001B[0mself\u001B[0m\u001B[1;33m.\u001B[0m\u001B[0m_connect_failed\u001B[0m \u001B[1;33m=\u001B[0m \u001B[1;32mTrue\u001B[0m\u001B[1;33m\u001B[0m\u001B[1;33m\u001B[0m\u001B[0m\n\u001B[1;32m---> 92\u001B[1;33m                     \u001B[1;32mraise\u001B[0m \u001B[0mexc\u001B[0m\u001B[1;33m\u001B[0m\u001B[1;33m\u001B[0m\u001B[0m\n\u001B[0m\u001B[0;32m     93\u001B[0m             \u001B[1;32melif\u001B[0m \u001B[1;32mnot\u001B[0m \u001B[0mself\u001B[0m\u001B[1;33m.\u001B[0m\u001B[0m_connection\u001B[0m\u001B[1;33m.\u001B[0m\u001B[0mis_available\u001B[0m\u001B[1;33m(\u001B[0m\u001B[1;33m)\u001B[0m\u001B[1;33m:\u001B[0m\u001B[1;33m\u001B[0m\u001B[1;33m\u001B[0m\u001B[0m\n",
      "\u001B[1;32m~\\Anaconda3\\lib\\site-packages\\httpcore\\_sync\\connection.py\u001B[0m in \u001B[0;36mhandle_request\u001B[1;34m(self, request)\u001B[0m\n\u001B[0;32m     68\u001B[0m                 \u001B[1;32mtry\u001B[0m\u001B[1;33m:\u001B[0m\u001B[1;33m\u001B[0m\u001B[1;33m\u001B[0m\u001B[0m\n\u001B[1;32m---> 69\u001B[1;33m                     \u001B[0mstream\u001B[0m \u001B[1;33m=\u001B[0m \u001B[0mself\u001B[0m\u001B[1;33m.\u001B[0m\u001B[0m_connect\u001B[0m\u001B[1;33m(\u001B[0m\u001B[0mrequest\u001B[0m\u001B[1;33m)\u001B[0m\u001B[1;33m\u001B[0m\u001B[1;33m\u001B[0m\u001B[0m\n\u001B[0m\u001B[0;32m     70\u001B[0m \u001B[1;33m\u001B[0m\u001B[0m\n",
      "\u001B[1;32m~\\Anaconda3\\lib\\site-packages\\httpcore\\_sync\\connection.py\u001B[0m in \u001B[0;36m_connect\u001B[1;34m(self, request)\u001B[0m\n\u001B[0;32m    148\u001B[0m                     \u001B[1;32mwith\u001B[0m \u001B[0mTrace\u001B[0m\u001B[1;33m(\u001B[0m\u001B[1;34m\"start_tls\"\u001B[0m\u001B[1;33m,\u001B[0m \u001B[0mlogger\u001B[0m\u001B[1;33m,\u001B[0m \u001B[0mrequest\u001B[0m\u001B[1;33m,\u001B[0m \u001B[0mkwargs\u001B[0m\u001B[1;33m)\u001B[0m \u001B[1;32mas\u001B[0m \u001B[0mtrace\u001B[0m\u001B[1;33m:\u001B[0m\u001B[1;33m\u001B[0m\u001B[1;33m\u001B[0m\u001B[0m\n\u001B[1;32m--> 149\u001B[1;33m                         \u001B[0mstream\u001B[0m \u001B[1;33m=\u001B[0m \u001B[0mstream\u001B[0m\u001B[1;33m.\u001B[0m\u001B[0mstart_tls\u001B[0m\u001B[1;33m(\u001B[0m\u001B[1;33m**\u001B[0m\u001B[0mkwargs\u001B[0m\u001B[1;33m)\u001B[0m\u001B[1;33m\u001B[0m\u001B[1;33m\u001B[0m\u001B[0m\n\u001B[0m\u001B[0;32m    150\u001B[0m                         \u001B[0mtrace\u001B[0m\u001B[1;33m.\u001B[0m\u001B[0mreturn_value\u001B[0m \u001B[1;33m=\u001B[0m \u001B[0mstream\u001B[0m\u001B[1;33m\u001B[0m\u001B[1;33m\u001B[0m\u001B[0m\n",
      "\u001B[1;32m~\\Anaconda3\\lib\\site-packages\\httpcore\\_backends\\sync.py\u001B[0m in \u001B[0;36mstart_tls\u001B[1;34m(self, ssl_context, server_hostname, timeout)\u001B[0m\n\u001B[0;32m     61\u001B[0m                 \u001B[0mself\u001B[0m\u001B[1;33m.\u001B[0m\u001B[0mclose\u001B[0m\u001B[1;33m(\u001B[0m\u001B[1;33m)\u001B[0m\u001B[1;33m\u001B[0m\u001B[1;33m\u001B[0m\u001B[0m\n\u001B[1;32m---> 62\u001B[1;33m                 \u001B[1;32mraise\u001B[0m \u001B[0mexc\u001B[0m\u001B[1;33m\u001B[0m\u001B[1;33m\u001B[0m\u001B[0m\n\u001B[0m\u001B[0;32m     63\u001B[0m         \u001B[1;32mreturn\u001B[0m \u001B[0mSyncStream\u001B[0m\u001B[1;33m(\u001B[0m\u001B[0msock\u001B[0m\u001B[1;33m)\u001B[0m\u001B[1;33m\u001B[0m\u001B[1;33m\u001B[0m\u001B[0m\n",
      "\u001B[1;32m~\\Anaconda3\\lib\\contextlib.py\u001B[0m in \u001B[0;36m__exit__\u001B[1;34m(self, type, value, traceback)\u001B[0m\n\u001B[0;32m    129\u001B[0m             \u001B[1;32mtry\u001B[0m\u001B[1;33m:\u001B[0m\u001B[1;33m\u001B[0m\u001B[1;33m\u001B[0m\u001B[0m\n\u001B[1;32m--> 130\u001B[1;33m                 \u001B[0mself\u001B[0m\u001B[1;33m.\u001B[0m\u001B[0mgen\u001B[0m\u001B[1;33m.\u001B[0m\u001B[0mthrow\u001B[0m\u001B[1;33m(\u001B[0m\u001B[0mtype\u001B[0m\u001B[1;33m,\u001B[0m \u001B[0mvalue\u001B[0m\u001B[1;33m,\u001B[0m \u001B[0mtraceback\u001B[0m\u001B[1;33m)\u001B[0m\u001B[1;33m\u001B[0m\u001B[1;33m\u001B[0m\u001B[0m\n\u001B[0m\u001B[0;32m    131\u001B[0m             \u001B[1;32mexcept\u001B[0m \u001B[0mStopIteration\u001B[0m \u001B[1;32mas\u001B[0m \u001B[0mexc\u001B[0m\u001B[1;33m:\u001B[0m\u001B[1;33m\u001B[0m\u001B[1;33m\u001B[0m\u001B[0m\n",
      "\u001B[1;32m~\\Anaconda3\\lib\\site-packages\\httpcore\\_exceptions.py\u001B[0m in \u001B[0;36mmap_exceptions\u001B[1;34m(map)\u001B[0m\n\u001B[0;32m     13\u001B[0m             \u001B[1;32mif\u001B[0m \u001B[0misinstance\u001B[0m\u001B[1;33m(\u001B[0m\u001B[0mexc\u001B[0m\u001B[1;33m,\u001B[0m \u001B[0mfrom_exc\u001B[0m\u001B[1;33m)\u001B[0m\u001B[1;33m:\u001B[0m\u001B[1;33m\u001B[0m\u001B[1;33m\u001B[0m\u001B[0m\n\u001B[1;32m---> 14\u001B[1;33m                 \u001B[1;32mraise\u001B[0m \u001B[0mto_exc\u001B[0m\u001B[1;33m(\u001B[0m\u001B[0mexc\u001B[0m\u001B[1;33m)\u001B[0m \u001B[1;32mfrom\u001B[0m \u001B[0mexc\u001B[0m\u001B[1;33m\u001B[0m\u001B[1;33m\u001B[0m\u001B[0m\n\u001B[0m\u001B[0;32m     15\u001B[0m         \u001B[1;32mraise\u001B[0m  \u001B[1;31m# pragma: nocover\u001B[0m\u001B[1;33m\u001B[0m\u001B[1;33m\u001B[0m\u001B[0m\n",
      "\u001B[1;31mConnectError\u001B[0m: [Errno 0] Error",
      "\nThe above exception was the direct cause of the following exception:\n",
      "\u001B[1;31mConnectError\u001B[0m                              Traceback (most recent call last)",
      "\u001B[1;32m~\\Anaconda3\\lib\\site-packages\\openai\\_base_client.py\u001B[0m in \u001B[0;36m_request\u001B[1;34m(self, cast_to, options, remaining_retries, stream, stream_cls)\u001B[0m\n\u001B[0;32m    964\u001B[0m                 \u001B[0mstream\u001B[0m\u001B[1;33m=\u001B[0m\u001B[0mstream\u001B[0m \u001B[1;32mor\u001B[0m \u001B[0mself\u001B[0m\u001B[1;33m.\u001B[0m\u001B[0m_should_stream_response_body\u001B[0m\u001B[1;33m(\u001B[0m\u001B[0mrequest\u001B[0m\u001B[1;33m=\u001B[0m\u001B[0mrequest\u001B[0m\u001B[1;33m)\u001B[0m\u001B[1;33m,\u001B[0m\u001B[1;33m\u001B[0m\u001B[1;33m\u001B[0m\u001B[0m\n\u001B[1;32m--> 965\u001B[1;33m                 \u001B[1;33m**\u001B[0m\u001B[0mkwargs\u001B[0m\u001B[1;33m,\u001B[0m\u001B[1;33m\u001B[0m\u001B[1;33m\u001B[0m\u001B[0m\n\u001B[0m\u001B[0;32m    966\u001B[0m             )\n",
      "\u001B[1;32m~\\Anaconda3\\lib\\site-packages\\httpx\\_client.py\u001B[0m in \u001B[0;36msend\u001B[1;34m(self, request, stream, auth, follow_redirects)\u001B[0m\n\u001B[0;32m    904\u001B[0m             \u001B[0mfollow_redirects\u001B[0m\u001B[1;33m=\u001B[0m\u001B[0mfollow_redirects\u001B[0m\u001B[1;33m,\u001B[0m\u001B[1;33m\u001B[0m\u001B[1;33m\u001B[0m\u001B[0m\n\u001B[1;32m--> 905\u001B[1;33m             \u001B[0mhistory\u001B[0m\u001B[1;33m=\u001B[0m\u001B[1;33m[\u001B[0m\u001B[1;33m]\u001B[0m\u001B[1;33m,\u001B[0m\u001B[1;33m\u001B[0m\u001B[1;33m\u001B[0m\u001B[0m\n\u001B[0m\u001B[0;32m    906\u001B[0m         )\n",
      "\u001B[1;32m~\\Anaconda3\\lib\\site-packages\\httpx\\_client.py\u001B[0m in \u001B[0;36m_send_handling_auth\u001B[1;34m(self, request, auth, follow_redirects, history)\u001B[0m\n\u001B[0;32m    931\u001B[0m                     \u001B[0mfollow_redirects\u001B[0m\u001B[1;33m=\u001B[0m\u001B[0mfollow_redirects\u001B[0m\u001B[1;33m,\u001B[0m\u001B[1;33m\u001B[0m\u001B[1;33m\u001B[0m\u001B[0m\n\u001B[1;32m--> 932\u001B[1;33m                     \u001B[0mhistory\u001B[0m\u001B[1;33m=\u001B[0m\u001B[0mhistory\u001B[0m\u001B[1;33m,\u001B[0m\u001B[1;33m\u001B[0m\u001B[1;33m\u001B[0m\u001B[0m\n\u001B[0m\u001B[0;32m    933\u001B[0m                 )\n",
      "\u001B[1;32m~\\Anaconda3\\lib\\site-packages\\httpx\\_client.py\u001B[0m in \u001B[0;36m_send_handling_redirects\u001B[1;34m(self, request, follow_redirects, history)\u001B[0m\n\u001B[0;32m    965\u001B[0m \u001B[1;33m\u001B[0m\u001B[0m\n\u001B[1;32m--> 966\u001B[1;33m             \u001B[0mresponse\u001B[0m \u001B[1;33m=\u001B[0m \u001B[0mself\u001B[0m\u001B[1;33m.\u001B[0m\u001B[0m_send_single_request\u001B[0m\u001B[1;33m(\u001B[0m\u001B[0mrequest\u001B[0m\u001B[1;33m)\u001B[0m\u001B[1;33m\u001B[0m\u001B[1;33m\u001B[0m\u001B[0m\n\u001B[0m\u001B[0;32m    967\u001B[0m             \u001B[1;32mtry\u001B[0m\u001B[1;33m:\u001B[0m\u001B[1;33m\u001B[0m\u001B[1;33m\u001B[0m\u001B[0m\n",
      "\u001B[1;32m~\\Anaconda3\\lib\\site-packages\\httpx\\_client.py\u001B[0m in \u001B[0;36m_send_single_request\u001B[1;34m(self, request)\u001B[0m\n\u001B[0;32m   1001\u001B[0m         \u001B[1;32mwith\u001B[0m \u001B[0mrequest_context\u001B[0m\u001B[1;33m(\u001B[0m\u001B[0mrequest\u001B[0m\u001B[1;33m=\u001B[0m\u001B[0mrequest\u001B[0m\u001B[1;33m)\u001B[0m\u001B[1;33m:\u001B[0m\u001B[1;33m\u001B[0m\u001B[1;33m\u001B[0m\u001B[0m\n\u001B[1;32m-> 1002\u001B[1;33m             \u001B[0mresponse\u001B[0m \u001B[1;33m=\u001B[0m \u001B[0mtransport\u001B[0m\u001B[1;33m.\u001B[0m\u001B[0mhandle_request\u001B[0m\u001B[1;33m(\u001B[0m\u001B[0mrequest\u001B[0m\u001B[1;33m)\u001B[0m\u001B[1;33m\u001B[0m\u001B[1;33m\u001B[0m\u001B[0m\n\u001B[0m\u001B[0;32m   1003\u001B[0m \u001B[1;33m\u001B[0m\u001B[0m\n",
      "\u001B[1;32m~\\Anaconda3\\lib\\site-packages\\httpx\\_transports\\default.py\u001B[0m in \u001B[0;36mhandle_request\u001B[1;34m(self, request)\u001B[0m\n\u001B[0;32m    217\u001B[0m         \u001B[1;32mwith\u001B[0m \u001B[0mmap_httpcore_exceptions\u001B[0m\u001B[1;33m(\u001B[0m\u001B[1;33m)\u001B[0m\u001B[1;33m:\u001B[0m\u001B[1;33m\u001B[0m\u001B[1;33m\u001B[0m\u001B[0m\n\u001B[1;32m--> 218\u001B[1;33m             \u001B[0mresp\u001B[0m \u001B[1;33m=\u001B[0m \u001B[0mself\u001B[0m\u001B[1;33m.\u001B[0m\u001B[0m_pool\u001B[0m\u001B[1;33m.\u001B[0m\u001B[0mhandle_request\u001B[0m\u001B[1;33m(\u001B[0m\u001B[0mreq\u001B[0m\u001B[1;33m)\u001B[0m\u001B[1;33m\u001B[0m\u001B[1;33m\u001B[0m\u001B[0m\n\u001B[0m\u001B[0;32m    219\u001B[0m \u001B[1;33m\u001B[0m\u001B[0m\n",
      "\u001B[1;32m~\\Anaconda3\\lib\\contextlib.py\u001B[0m in \u001B[0;36m__exit__\u001B[1;34m(self, type, value, traceback)\u001B[0m\n\u001B[0;32m    129\u001B[0m             \u001B[1;32mtry\u001B[0m\u001B[1;33m:\u001B[0m\u001B[1;33m\u001B[0m\u001B[1;33m\u001B[0m\u001B[0m\n\u001B[1;32m--> 130\u001B[1;33m                 \u001B[0mself\u001B[0m\u001B[1;33m.\u001B[0m\u001B[0mgen\u001B[0m\u001B[1;33m.\u001B[0m\u001B[0mthrow\u001B[0m\u001B[1;33m(\u001B[0m\u001B[0mtype\u001B[0m\u001B[1;33m,\u001B[0m \u001B[0mvalue\u001B[0m\u001B[1;33m,\u001B[0m \u001B[0mtraceback\u001B[0m\u001B[1;33m)\u001B[0m\u001B[1;33m\u001B[0m\u001B[1;33m\u001B[0m\u001B[0m\n\u001B[0m\u001B[0;32m    131\u001B[0m             \u001B[1;32mexcept\u001B[0m \u001B[0mStopIteration\u001B[0m \u001B[1;32mas\u001B[0m \u001B[0mexc\u001B[0m\u001B[1;33m:\u001B[0m\u001B[1;33m\u001B[0m\u001B[1;33m\u001B[0m\u001B[0m\n",
      "\u001B[1;32m~\\Anaconda3\\lib\\site-packages\\httpx\\_transports\\default.py\u001B[0m in \u001B[0;36mmap_httpcore_exceptions\u001B[1;34m()\u001B[0m\n\u001B[0;32m     76\u001B[0m         \u001B[0mmessage\u001B[0m \u001B[1;33m=\u001B[0m \u001B[0mstr\u001B[0m\u001B[1;33m(\u001B[0m\u001B[0mexc\u001B[0m\u001B[1;33m)\u001B[0m\u001B[1;33m\u001B[0m\u001B[1;33m\u001B[0m\u001B[0m\n\u001B[1;32m---> 77\u001B[1;33m         \u001B[1;32mraise\u001B[0m \u001B[0mmapped_exc\u001B[0m\u001B[1;33m(\u001B[0m\u001B[0mmessage\u001B[0m\u001B[1;33m)\u001B[0m \u001B[1;32mfrom\u001B[0m \u001B[0mexc\u001B[0m\u001B[1;33m\u001B[0m\u001B[1;33m\u001B[0m\u001B[0m\n\u001B[0m\u001B[0;32m     78\u001B[0m \u001B[1;33m\u001B[0m\u001B[0m\n",
      "\u001B[1;31mConnectError\u001B[0m: [Errno 0] Error",
      "\nDuring handling of the above exception, another exception occurred:\n",
      "\u001B[1;31mOSError\u001B[0m                                   Traceback (most recent call last)",
      "\u001B[1;32m~\\Anaconda3\\lib\\site-packages\\httpcore\\_exceptions.py\u001B[0m in \u001B[0;36mmap_exceptions\u001B[1;34m(map)\u001B[0m\n\u001B[0;32m      9\u001B[0m     \u001B[1;32mtry\u001B[0m\u001B[1;33m:\u001B[0m\u001B[1;33m\u001B[0m\u001B[1;33m\u001B[0m\u001B[0m\n\u001B[1;32m---> 10\u001B[1;33m         \u001B[1;32myield\u001B[0m\u001B[1;33m\u001B[0m\u001B[1;33m\u001B[0m\u001B[0m\n\u001B[0m\u001B[0;32m     11\u001B[0m     \u001B[1;32mexcept\u001B[0m \u001B[0mException\u001B[0m \u001B[1;32mas\u001B[0m \u001B[0mexc\u001B[0m\u001B[1;33m:\u001B[0m  \u001B[1;31m# noqa: PIE786\u001B[0m\u001B[1;33m\u001B[0m\u001B[1;33m\u001B[0m\u001B[0m\n",
      "\u001B[1;32m~\\Anaconda3\\lib\\site-packages\\httpcore\\_backends\\sync.py\u001B[0m in \u001B[0;36mstart_tls\u001B[1;34m(self, ssl_context, server_hostname, timeout)\u001B[0m\n\u001B[0;32m     61\u001B[0m                 \u001B[0mself\u001B[0m\u001B[1;33m.\u001B[0m\u001B[0mclose\u001B[0m\u001B[1;33m(\u001B[0m\u001B[1;33m)\u001B[0m\u001B[1;33m\u001B[0m\u001B[1;33m\u001B[0m\u001B[0m\n\u001B[1;32m---> 62\u001B[1;33m                 \u001B[1;32mraise\u001B[0m \u001B[0mexc\u001B[0m\u001B[1;33m\u001B[0m\u001B[1;33m\u001B[0m\u001B[0m\n\u001B[0m\u001B[0;32m     63\u001B[0m         \u001B[1;32mreturn\u001B[0m \u001B[0mSyncStream\u001B[0m\u001B[1;33m(\u001B[0m\u001B[0msock\u001B[0m\u001B[1;33m)\u001B[0m\u001B[1;33m\u001B[0m\u001B[1;33m\u001B[0m\u001B[0m\n",
      "\u001B[1;32m~\\Anaconda3\\lib\\site-packages\\httpcore\\_backends\\sync.py\u001B[0m in \u001B[0;36mstart_tls\u001B[1;34m(self, ssl_context, server_hostname, timeout)\u001B[0m\n\u001B[0;32m     57\u001B[0m                 sock = ssl_context.wrap_socket(\n\u001B[1;32m---> 58\u001B[1;33m                     \u001B[0mself\u001B[0m\u001B[1;33m.\u001B[0m\u001B[0m_sock\u001B[0m\u001B[1;33m,\u001B[0m \u001B[0mserver_hostname\u001B[0m\u001B[1;33m=\u001B[0m\u001B[0mserver_hostname\u001B[0m\u001B[1;33m\u001B[0m\u001B[1;33m\u001B[0m\u001B[0m\n\u001B[0m\u001B[0;32m     59\u001B[0m                 )\n",
      "\u001B[1;32m~\\Anaconda3\\lib\\ssl.py\u001B[0m in \u001B[0;36mwrap_socket\u001B[1;34m(self, sock, server_side, do_handshake_on_connect, suppress_ragged_eofs, server_hostname, session)\u001B[0m\n\u001B[0;32m    422\u001B[0m             \u001B[0mcontext\u001B[0m\u001B[1;33m=\u001B[0m\u001B[0mself\u001B[0m\u001B[1;33m,\u001B[0m\u001B[1;33m\u001B[0m\u001B[1;33m\u001B[0m\u001B[0m\n\u001B[1;32m--> 423\u001B[1;33m             \u001B[0msession\u001B[0m\u001B[1;33m=\u001B[0m\u001B[0msession\u001B[0m\u001B[1;33m\u001B[0m\u001B[1;33m\u001B[0m\u001B[0m\n\u001B[0m\u001B[0;32m    424\u001B[0m         )\n",
      "\u001B[1;32m~\\Anaconda3\\lib\\ssl.py\u001B[0m in \u001B[0;36m_create\u001B[1;34m(cls, sock, server_side, do_handshake_on_connect, suppress_ragged_eofs, server_hostname, context, session)\u001B[0m\n\u001B[0;32m    869\u001B[0m                         \u001B[1;32mraise\u001B[0m \u001B[0mValueError\u001B[0m\u001B[1;33m(\u001B[0m\u001B[1;34m\"do_handshake_on_connect should not be specified for non-blocking sockets\"\u001B[0m\u001B[1;33m)\u001B[0m\u001B[1;33m\u001B[0m\u001B[1;33m\u001B[0m\u001B[0m\n\u001B[1;32m--> 870\u001B[1;33m                     \u001B[0mself\u001B[0m\u001B[1;33m.\u001B[0m\u001B[0mdo_handshake\u001B[0m\u001B[1;33m(\u001B[0m\u001B[1;33m)\u001B[0m\u001B[1;33m\u001B[0m\u001B[1;33m\u001B[0m\u001B[0m\n\u001B[0m\u001B[0;32m    871\u001B[0m             \u001B[1;32mexcept\u001B[0m \u001B[1;33m(\u001B[0m\u001B[0mOSError\u001B[0m\u001B[1;33m,\u001B[0m \u001B[0mValueError\u001B[0m\u001B[1;33m)\u001B[0m\u001B[1;33m:\u001B[0m\u001B[1;33m\u001B[0m\u001B[1;33m\u001B[0m\u001B[0m\n",
      "\u001B[1;32m~\\Anaconda3\\lib\\ssl.py\u001B[0m in \u001B[0;36mdo_handshake\u001B[1;34m(self, block)\u001B[0m\n\u001B[0;32m   1138\u001B[0m                 \u001B[0mself\u001B[0m\u001B[1;33m.\u001B[0m\u001B[0msettimeout\u001B[0m\u001B[1;33m(\u001B[0m\u001B[1;32mNone\u001B[0m\u001B[1;33m)\u001B[0m\u001B[1;33m\u001B[0m\u001B[1;33m\u001B[0m\u001B[0m\n\u001B[1;32m-> 1139\u001B[1;33m             \u001B[0mself\u001B[0m\u001B[1;33m.\u001B[0m\u001B[0m_sslobj\u001B[0m\u001B[1;33m.\u001B[0m\u001B[0mdo_handshake\u001B[0m\u001B[1;33m(\u001B[0m\u001B[1;33m)\u001B[0m\u001B[1;33m\u001B[0m\u001B[1;33m\u001B[0m\u001B[0m\n\u001B[0m\u001B[0;32m   1140\u001B[0m         \u001B[1;32mfinally\u001B[0m\u001B[1;33m:\u001B[0m\u001B[1;33m\u001B[0m\u001B[1;33m\u001B[0m\u001B[0m\n",
      "\u001B[1;31mOSError\u001B[0m: [Errno 0] Error",
      "\nThe above exception was the direct cause of the following exception:\n",
      "\u001B[1;31mConnectError\u001B[0m                              Traceback (most recent call last)",
      "\u001B[1;32m~\\Anaconda3\\lib\\site-packages\\httpx\\_transports\\default.py\u001B[0m in \u001B[0;36mmap_httpcore_exceptions\u001B[1;34m()\u001B[0m\n\u001B[0;32m     59\u001B[0m     \u001B[1;32mtry\u001B[0m\u001B[1;33m:\u001B[0m\u001B[1;33m\u001B[0m\u001B[1;33m\u001B[0m\u001B[0m\n\u001B[1;32m---> 60\u001B[1;33m         \u001B[1;32myield\u001B[0m\u001B[1;33m\u001B[0m\u001B[1;33m\u001B[0m\u001B[0m\n\u001B[0m\u001B[0;32m     61\u001B[0m     \u001B[1;32mexcept\u001B[0m \u001B[0mException\u001B[0m \u001B[1;32mas\u001B[0m \u001B[0mexc\u001B[0m\u001B[1;33m:\u001B[0m  \u001B[1;31m# noqa: PIE-786\u001B[0m\u001B[1;33m\u001B[0m\u001B[1;33m\u001B[0m\u001B[0m\n",
      "\u001B[1;32m~\\Anaconda3\\lib\\site-packages\\httpx\\_transports\\default.py\u001B[0m in \u001B[0;36mhandle_request\u001B[1;34m(self, request)\u001B[0m\n\u001B[0;32m    217\u001B[0m         \u001B[1;32mwith\u001B[0m \u001B[0mmap_httpcore_exceptions\u001B[0m\u001B[1;33m(\u001B[0m\u001B[1;33m)\u001B[0m\u001B[1;33m:\u001B[0m\u001B[1;33m\u001B[0m\u001B[1;33m\u001B[0m\u001B[0m\n\u001B[1;32m--> 218\u001B[1;33m             \u001B[0mresp\u001B[0m \u001B[1;33m=\u001B[0m \u001B[0mself\u001B[0m\u001B[1;33m.\u001B[0m\u001B[0m_pool\u001B[0m\u001B[1;33m.\u001B[0m\u001B[0mhandle_request\u001B[0m\u001B[1;33m(\u001B[0m\u001B[0mreq\u001B[0m\u001B[1;33m)\u001B[0m\u001B[1;33m\u001B[0m\u001B[1;33m\u001B[0m\u001B[0m\n\u001B[0m\u001B[0;32m    219\u001B[0m \u001B[1;33m\u001B[0m\u001B[0m\n",
      "\u001B[1;32m~\\Anaconda3\\lib\\site-packages\\httpcore\\_sync\\connection_pool.py\u001B[0m in \u001B[0;36mhandle_request\u001B[1;34m(self, request)\u001B[0m\n\u001B[0;32m    261\u001B[0m                     \u001B[0mself\u001B[0m\u001B[1;33m.\u001B[0m\u001B[0mresponse_closed\u001B[0m\u001B[1;33m(\u001B[0m\u001B[0mstatus\u001B[0m\u001B[1;33m)\u001B[0m\u001B[1;33m\u001B[0m\u001B[1;33m\u001B[0m\u001B[0m\n\u001B[1;32m--> 262\u001B[1;33m                 \u001B[1;32mraise\u001B[0m \u001B[0mexc\u001B[0m\u001B[1;33m\u001B[0m\u001B[1;33m\u001B[0m\u001B[0m\n\u001B[0m\u001B[0;32m    263\u001B[0m             \u001B[1;32melse\u001B[0m\u001B[1;33m:\u001B[0m\u001B[1;33m\u001B[0m\u001B[1;33m\u001B[0m\u001B[0m\n",
      "\u001B[1;32m~\\Anaconda3\\lib\\site-packages\\httpcore\\_sync\\connection_pool.py\u001B[0m in \u001B[0;36mhandle_request\u001B[1;34m(self, request)\u001B[0m\n\u001B[0;32m    244\u001B[0m             \u001B[1;32mtry\u001B[0m\u001B[1;33m:\u001B[0m\u001B[1;33m\u001B[0m\u001B[1;33m\u001B[0m\u001B[0m\n\u001B[1;32m--> 245\u001B[1;33m                 \u001B[0mresponse\u001B[0m \u001B[1;33m=\u001B[0m \u001B[0mconnection\u001B[0m\u001B[1;33m.\u001B[0m\u001B[0mhandle_request\u001B[0m\u001B[1;33m(\u001B[0m\u001B[0mrequest\u001B[0m\u001B[1;33m)\u001B[0m\u001B[1;33m\u001B[0m\u001B[1;33m\u001B[0m\u001B[0m\n\u001B[0m\u001B[0;32m    246\u001B[0m             \u001B[1;32mexcept\u001B[0m \u001B[0mConnectionNotAvailable\u001B[0m\u001B[1;33m:\u001B[0m\u001B[1;33m\u001B[0m\u001B[1;33m\u001B[0m\u001B[0m\n",
      "\u001B[1;32m~\\Anaconda3\\lib\\site-packages\\httpcore\\_sync\\http_proxy.py\u001B[0m in \u001B[0;36mhandle_request\u001B[1;34m(self, request)\u001B[0m\n\u001B[0;32m    271\u001B[0m                 connect_response = self._connection.handle_request(\n\u001B[1;32m--> 272\u001B[1;33m                     \u001B[0mconnect_request\u001B[0m\u001B[1;33m\u001B[0m\u001B[1;33m\u001B[0m\u001B[0m\n\u001B[0m\u001B[0;32m    273\u001B[0m                 )\n",
      "\u001B[1;32m~\\Anaconda3\\lib\\site-packages\\httpcore\\_sync\\connection.py\u001B[0m in \u001B[0;36mhandle_request\u001B[1;34m(self, request)\u001B[0m\n\u001B[0;32m     91\u001B[0m                     \u001B[0mself\u001B[0m\u001B[1;33m.\u001B[0m\u001B[0m_connect_failed\u001B[0m \u001B[1;33m=\u001B[0m \u001B[1;32mTrue\u001B[0m\u001B[1;33m\u001B[0m\u001B[1;33m\u001B[0m\u001B[0m\n\u001B[1;32m---> 92\u001B[1;33m                     \u001B[1;32mraise\u001B[0m \u001B[0mexc\u001B[0m\u001B[1;33m\u001B[0m\u001B[1;33m\u001B[0m\u001B[0m\n\u001B[0m\u001B[0;32m     93\u001B[0m             \u001B[1;32melif\u001B[0m \u001B[1;32mnot\u001B[0m \u001B[0mself\u001B[0m\u001B[1;33m.\u001B[0m\u001B[0m_connection\u001B[0m\u001B[1;33m.\u001B[0m\u001B[0mis_available\u001B[0m\u001B[1;33m(\u001B[0m\u001B[1;33m)\u001B[0m\u001B[1;33m:\u001B[0m\u001B[1;33m\u001B[0m\u001B[1;33m\u001B[0m\u001B[0m\n",
      "\u001B[1;32m~\\Anaconda3\\lib\\site-packages\\httpcore\\_sync\\connection.py\u001B[0m in \u001B[0;36mhandle_request\u001B[1;34m(self, request)\u001B[0m\n\u001B[0;32m     68\u001B[0m                 \u001B[1;32mtry\u001B[0m\u001B[1;33m:\u001B[0m\u001B[1;33m\u001B[0m\u001B[1;33m\u001B[0m\u001B[0m\n\u001B[1;32m---> 69\u001B[1;33m                     \u001B[0mstream\u001B[0m \u001B[1;33m=\u001B[0m \u001B[0mself\u001B[0m\u001B[1;33m.\u001B[0m\u001B[0m_connect\u001B[0m\u001B[1;33m(\u001B[0m\u001B[0mrequest\u001B[0m\u001B[1;33m)\u001B[0m\u001B[1;33m\u001B[0m\u001B[1;33m\u001B[0m\u001B[0m\n\u001B[0m\u001B[0;32m     70\u001B[0m \u001B[1;33m\u001B[0m\u001B[0m\n",
      "\u001B[1;32m~\\Anaconda3\\lib\\site-packages\\httpcore\\_sync\\connection.py\u001B[0m in \u001B[0;36m_connect\u001B[1;34m(self, request)\u001B[0m\n\u001B[0;32m    148\u001B[0m                     \u001B[1;32mwith\u001B[0m \u001B[0mTrace\u001B[0m\u001B[1;33m(\u001B[0m\u001B[1;34m\"start_tls\"\u001B[0m\u001B[1;33m,\u001B[0m \u001B[0mlogger\u001B[0m\u001B[1;33m,\u001B[0m \u001B[0mrequest\u001B[0m\u001B[1;33m,\u001B[0m \u001B[0mkwargs\u001B[0m\u001B[1;33m)\u001B[0m \u001B[1;32mas\u001B[0m \u001B[0mtrace\u001B[0m\u001B[1;33m:\u001B[0m\u001B[1;33m\u001B[0m\u001B[1;33m\u001B[0m\u001B[0m\n\u001B[1;32m--> 149\u001B[1;33m                         \u001B[0mstream\u001B[0m \u001B[1;33m=\u001B[0m \u001B[0mstream\u001B[0m\u001B[1;33m.\u001B[0m\u001B[0mstart_tls\u001B[0m\u001B[1;33m(\u001B[0m\u001B[1;33m**\u001B[0m\u001B[0mkwargs\u001B[0m\u001B[1;33m)\u001B[0m\u001B[1;33m\u001B[0m\u001B[1;33m\u001B[0m\u001B[0m\n\u001B[0m\u001B[0;32m    150\u001B[0m                         \u001B[0mtrace\u001B[0m\u001B[1;33m.\u001B[0m\u001B[0mreturn_value\u001B[0m \u001B[1;33m=\u001B[0m \u001B[0mstream\u001B[0m\u001B[1;33m\u001B[0m\u001B[1;33m\u001B[0m\u001B[0m\n",
      "\u001B[1;32m~\\Anaconda3\\lib\\site-packages\\httpcore\\_backends\\sync.py\u001B[0m in \u001B[0;36mstart_tls\u001B[1;34m(self, ssl_context, server_hostname, timeout)\u001B[0m\n\u001B[0;32m     61\u001B[0m                 \u001B[0mself\u001B[0m\u001B[1;33m.\u001B[0m\u001B[0mclose\u001B[0m\u001B[1;33m(\u001B[0m\u001B[1;33m)\u001B[0m\u001B[1;33m\u001B[0m\u001B[1;33m\u001B[0m\u001B[0m\n\u001B[1;32m---> 62\u001B[1;33m                 \u001B[1;32mraise\u001B[0m \u001B[0mexc\u001B[0m\u001B[1;33m\u001B[0m\u001B[1;33m\u001B[0m\u001B[0m\n\u001B[0m\u001B[0;32m     63\u001B[0m         \u001B[1;32mreturn\u001B[0m \u001B[0mSyncStream\u001B[0m\u001B[1;33m(\u001B[0m\u001B[0msock\u001B[0m\u001B[1;33m)\u001B[0m\u001B[1;33m\u001B[0m\u001B[1;33m\u001B[0m\u001B[0m\n",
      "\u001B[1;32m~\\Anaconda3\\lib\\contextlib.py\u001B[0m in \u001B[0;36m__exit__\u001B[1;34m(self, type, value, traceback)\u001B[0m\n\u001B[0;32m    129\u001B[0m             \u001B[1;32mtry\u001B[0m\u001B[1;33m:\u001B[0m\u001B[1;33m\u001B[0m\u001B[1;33m\u001B[0m\u001B[0m\n\u001B[1;32m--> 130\u001B[1;33m                 \u001B[0mself\u001B[0m\u001B[1;33m.\u001B[0m\u001B[0mgen\u001B[0m\u001B[1;33m.\u001B[0m\u001B[0mthrow\u001B[0m\u001B[1;33m(\u001B[0m\u001B[0mtype\u001B[0m\u001B[1;33m,\u001B[0m \u001B[0mvalue\u001B[0m\u001B[1;33m,\u001B[0m \u001B[0mtraceback\u001B[0m\u001B[1;33m)\u001B[0m\u001B[1;33m\u001B[0m\u001B[1;33m\u001B[0m\u001B[0m\n\u001B[0m\u001B[0;32m    131\u001B[0m             \u001B[1;32mexcept\u001B[0m \u001B[0mStopIteration\u001B[0m \u001B[1;32mas\u001B[0m \u001B[0mexc\u001B[0m\u001B[1;33m:\u001B[0m\u001B[1;33m\u001B[0m\u001B[1;33m\u001B[0m\u001B[0m\n",
      "\u001B[1;32m~\\Anaconda3\\lib\\site-packages\\httpcore\\_exceptions.py\u001B[0m in \u001B[0;36mmap_exceptions\u001B[1;34m(map)\u001B[0m\n\u001B[0;32m     13\u001B[0m             \u001B[1;32mif\u001B[0m \u001B[0misinstance\u001B[0m\u001B[1;33m(\u001B[0m\u001B[0mexc\u001B[0m\u001B[1;33m,\u001B[0m \u001B[0mfrom_exc\u001B[0m\u001B[1;33m)\u001B[0m\u001B[1;33m:\u001B[0m\u001B[1;33m\u001B[0m\u001B[1;33m\u001B[0m\u001B[0m\n\u001B[1;32m---> 14\u001B[1;33m                 \u001B[1;32mraise\u001B[0m \u001B[0mto_exc\u001B[0m\u001B[1;33m(\u001B[0m\u001B[0mexc\u001B[0m\u001B[1;33m)\u001B[0m \u001B[1;32mfrom\u001B[0m \u001B[0mexc\u001B[0m\u001B[1;33m\u001B[0m\u001B[1;33m\u001B[0m\u001B[0m\n\u001B[0m\u001B[0;32m     15\u001B[0m         \u001B[1;32mraise\u001B[0m  \u001B[1;31m# pragma: nocover\u001B[0m\u001B[1;33m\u001B[0m\u001B[1;33m\u001B[0m\u001B[0m\n",
      "\u001B[1;31mConnectError\u001B[0m: [Errno 0] Error",
      "\nThe above exception was the direct cause of the following exception:\n",
      "\u001B[1;31mConnectError\u001B[0m                              Traceback (most recent call last)",
      "\u001B[1;32m~\\Anaconda3\\lib\\site-packages\\openai\\_base_client.py\u001B[0m in \u001B[0;36m_request\u001B[1;34m(self, cast_to, options, remaining_retries, stream, stream_cls)\u001B[0m\n\u001B[0;32m    964\u001B[0m                 \u001B[0mstream\u001B[0m\u001B[1;33m=\u001B[0m\u001B[0mstream\u001B[0m \u001B[1;32mor\u001B[0m \u001B[0mself\u001B[0m\u001B[1;33m.\u001B[0m\u001B[0m_should_stream_response_body\u001B[0m\u001B[1;33m(\u001B[0m\u001B[0mrequest\u001B[0m\u001B[1;33m=\u001B[0m\u001B[0mrequest\u001B[0m\u001B[1;33m)\u001B[0m\u001B[1;33m,\u001B[0m\u001B[1;33m\u001B[0m\u001B[1;33m\u001B[0m\u001B[0m\n\u001B[1;32m--> 965\u001B[1;33m                 \u001B[1;33m**\u001B[0m\u001B[0mkwargs\u001B[0m\u001B[1;33m,\u001B[0m\u001B[1;33m\u001B[0m\u001B[1;33m\u001B[0m\u001B[0m\n\u001B[0m\u001B[0;32m    966\u001B[0m             )\n",
      "\u001B[1;32m~\\Anaconda3\\lib\\site-packages\\httpx\\_client.py\u001B[0m in \u001B[0;36msend\u001B[1;34m(self, request, stream, auth, follow_redirects)\u001B[0m\n\u001B[0;32m    904\u001B[0m             \u001B[0mfollow_redirects\u001B[0m\u001B[1;33m=\u001B[0m\u001B[0mfollow_redirects\u001B[0m\u001B[1;33m,\u001B[0m\u001B[1;33m\u001B[0m\u001B[1;33m\u001B[0m\u001B[0m\n\u001B[1;32m--> 905\u001B[1;33m             \u001B[0mhistory\u001B[0m\u001B[1;33m=\u001B[0m\u001B[1;33m[\u001B[0m\u001B[1;33m]\u001B[0m\u001B[1;33m,\u001B[0m\u001B[1;33m\u001B[0m\u001B[1;33m\u001B[0m\u001B[0m\n\u001B[0m\u001B[0;32m    906\u001B[0m         )\n",
      "\u001B[1;32m~\\Anaconda3\\lib\\site-packages\\httpx\\_client.py\u001B[0m in \u001B[0;36m_send_handling_auth\u001B[1;34m(self, request, auth, follow_redirects, history)\u001B[0m\n\u001B[0;32m    931\u001B[0m                     \u001B[0mfollow_redirects\u001B[0m\u001B[1;33m=\u001B[0m\u001B[0mfollow_redirects\u001B[0m\u001B[1;33m,\u001B[0m\u001B[1;33m\u001B[0m\u001B[1;33m\u001B[0m\u001B[0m\n\u001B[1;32m--> 932\u001B[1;33m                     \u001B[0mhistory\u001B[0m\u001B[1;33m=\u001B[0m\u001B[0mhistory\u001B[0m\u001B[1;33m,\u001B[0m\u001B[1;33m\u001B[0m\u001B[1;33m\u001B[0m\u001B[0m\n\u001B[0m\u001B[0;32m    933\u001B[0m                 )\n",
      "\u001B[1;32m~\\Anaconda3\\lib\\site-packages\\httpx\\_client.py\u001B[0m in \u001B[0;36m_send_handling_redirects\u001B[1;34m(self, request, follow_redirects, history)\u001B[0m\n\u001B[0;32m    965\u001B[0m \u001B[1;33m\u001B[0m\u001B[0m\n\u001B[1;32m--> 966\u001B[1;33m             \u001B[0mresponse\u001B[0m \u001B[1;33m=\u001B[0m \u001B[0mself\u001B[0m\u001B[1;33m.\u001B[0m\u001B[0m_send_single_request\u001B[0m\u001B[1;33m(\u001B[0m\u001B[0mrequest\u001B[0m\u001B[1;33m)\u001B[0m\u001B[1;33m\u001B[0m\u001B[1;33m\u001B[0m\u001B[0m\n\u001B[0m\u001B[0;32m    967\u001B[0m             \u001B[1;32mtry\u001B[0m\u001B[1;33m:\u001B[0m\u001B[1;33m\u001B[0m\u001B[1;33m\u001B[0m\u001B[0m\n",
      "\u001B[1;32m~\\Anaconda3\\lib\\site-packages\\httpx\\_client.py\u001B[0m in \u001B[0;36m_send_single_request\u001B[1;34m(self, request)\u001B[0m\n\u001B[0;32m   1001\u001B[0m         \u001B[1;32mwith\u001B[0m \u001B[0mrequest_context\u001B[0m\u001B[1;33m(\u001B[0m\u001B[0mrequest\u001B[0m\u001B[1;33m=\u001B[0m\u001B[0mrequest\u001B[0m\u001B[1;33m)\u001B[0m\u001B[1;33m:\u001B[0m\u001B[1;33m\u001B[0m\u001B[1;33m\u001B[0m\u001B[0m\n\u001B[1;32m-> 1002\u001B[1;33m             \u001B[0mresponse\u001B[0m \u001B[1;33m=\u001B[0m \u001B[0mtransport\u001B[0m\u001B[1;33m.\u001B[0m\u001B[0mhandle_request\u001B[0m\u001B[1;33m(\u001B[0m\u001B[0mrequest\u001B[0m\u001B[1;33m)\u001B[0m\u001B[1;33m\u001B[0m\u001B[1;33m\u001B[0m\u001B[0m\n\u001B[0m\u001B[0;32m   1003\u001B[0m \u001B[1;33m\u001B[0m\u001B[0m\n",
      "\u001B[1;32m~\\Anaconda3\\lib\\site-packages\\httpx\\_transports\\default.py\u001B[0m in \u001B[0;36mhandle_request\u001B[1;34m(self, request)\u001B[0m\n\u001B[0;32m    217\u001B[0m         \u001B[1;32mwith\u001B[0m \u001B[0mmap_httpcore_exceptions\u001B[0m\u001B[1;33m(\u001B[0m\u001B[1;33m)\u001B[0m\u001B[1;33m:\u001B[0m\u001B[1;33m\u001B[0m\u001B[1;33m\u001B[0m\u001B[0m\n\u001B[1;32m--> 218\u001B[1;33m             \u001B[0mresp\u001B[0m \u001B[1;33m=\u001B[0m \u001B[0mself\u001B[0m\u001B[1;33m.\u001B[0m\u001B[0m_pool\u001B[0m\u001B[1;33m.\u001B[0m\u001B[0mhandle_request\u001B[0m\u001B[1;33m(\u001B[0m\u001B[0mreq\u001B[0m\u001B[1;33m)\u001B[0m\u001B[1;33m\u001B[0m\u001B[1;33m\u001B[0m\u001B[0m\n\u001B[0m\u001B[0;32m    219\u001B[0m \u001B[1;33m\u001B[0m\u001B[0m\n",
      "\u001B[1;32m~\\Anaconda3\\lib\\contextlib.py\u001B[0m in \u001B[0;36m__exit__\u001B[1;34m(self, type, value, traceback)\u001B[0m\n\u001B[0;32m    129\u001B[0m             \u001B[1;32mtry\u001B[0m\u001B[1;33m:\u001B[0m\u001B[1;33m\u001B[0m\u001B[1;33m\u001B[0m\u001B[0m\n\u001B[1;32m--> 130\u001B[1;33m                 \u001B[0mself\u001B[0m\u001B[1;33m.\u001B[0m\u001B[0mgen\u001B[0m\u001B[1;33m.\u001B[0m\u001B[0mthrow\u001B[0m\u001B[1;33m(\u001B[0m\u001B[0mtype\u001B[0m\u001B[1;33m,\u001B[0m \u001B[0mvalue\u001B[0m\u001B[1;33m,\u001B[0m \u001B[0mtraceback\u001B[0m\u001B[1;33m)\u001B[0m\u001B[1;33m\u001B[0m\u001B[1;33m\u001B[0m\u001B[0m\n\u001B[0m\u001B[0;32m    131\u001B[0m             \u001B[1;32mexcept\u001B[0m \u001B[0mStopIteration\u001B[0m \u001B[1;32mas\u001B[0m \u001B[0mexc\u001B[0m\u001B[1;33m:\u001B[0m\u001B[1;33m\u001B[0m\u001B[1;33m\u001B[0m\u001B[0m\n",
      "\u001B[1;32m~\\Anaconda3\\lib\\site-packages\\httpx\\_transports\\default.py\u001B[0m in \u001B[0;36mmap_httpcore_exceptions\u001B[1;34m()\u001B[0m\n\u001B[0;32m     76\u001B[0m         \u001B[0mmessage\u001B[0m \u001B[1;33m=\u001B[0m \u001B[0mstr\u001B[0m\u001B[1;33m(\u001B[0m\u001B[0mexc\u001B[0m\u001B[1;33m)\u001B[0m\u001B[1;33m\u001B[0m\u001B[1;33m\u001B[0m\u001B[0m\n\u001B[1;32m---> 77\u001B[1;33m         \u001B[1;32mraise\u001B[0m \u001B[0mmapped_exc\u001B[0m\u001B[1;33m(\u001B[0m\u001B[0mmessage\u001B[0m\u001B[1;33m)\u001B[0m \u001B[1;32mfrom\u001B[0m \u001B[0mexc\u001B[0m\u001B[1;33m\u001B[0m\u001B[1;33m\u001B[0m\u001B[0m\n\u001B[0m\u001B[0;32m     78\u001B[0m \u001B[1;33m\u001B[0m\u001B[0m\n",
      "\u001B[1;31mConnectError\u001B[0m: [Errno 0] Error",
      "\nDuring handling of the above exception, another exception occurred:\n",
      "\u001B[1;31mOSError\u001B[0m                                   Traceback (most recent call last)",
      "\u001B[1;32m~\\Anaconda3\\lib\\site-packages\\httpcore\\_exceptions.py\u001B[0m in \u001B[0;36mmap_exceptions\u001B[1;34m(map)\u001B[0m\n\u001B[0;32m      9\u001B[0m     \u001B[1;32mtry\u001B[0m\u001B[1;33m:\u001B[0m\u001B[1;33m\u001B[0m\u001B[1;33m\u001B[0m\u001B[0m\n\u001B[1;32m---> 10\u001B[1;33m         \u001B[1;32myield\u001B[0m\u001B[1;33m\u001B[0m\u001B[1;33m\u001B[0m\u001B[0m\n\u001B[0m\u001B[0;32m     11\u001B[0m     \u001B[1;32mexcept\u001B[0m \u001B[0mException\u001B[0m \u001B[1;32mas\u001B[0m \u001B[0mexc\u001B[0m\u001B[1;33m:\u001B[0m  \u001B[1;31m# noqa: PIE786\u001B[0m\u001B[1;33m\u001B[0m\u001B[1;33m\u001B[0m\u001B[0m\n",
      "\u001B[1;32m~\\Anaconda3\\lib\\site-packages\\httpcore\\_backends\\sync.py\u001B[0m in \u001B[0;36mstart_tls\u001B[1;34m(self, ssl_context, server_hostname, timeout)\u001B[0m\n\u001B[0;32m     61\u001B[0m                 \u001B[0mself\u001B[0m\u001B[1;33m.\u001B[0m\u001B[0mclose\u001B[0m\u001B[1;33m(\u001B[0m\u001B[1;33m)\u001B[0m\u001B[1;33m\u001B[0m\u001B[1;33m\u001B[0m\u001B[0m\n\u001B[1;32m---> 62\u001B[1;33m                 \u001B[1;32mraise\u001B[0m \u001B[0mexc\u001B[0m\u001B[1;33m\u001B[0m\u001B[1;33m\u001B[0m\u001B[0m\n\u001B[0m\u001B[0;32m     63\u001B[0m         \u001B[1;32mreturn\u001B[0m \u001B[0mSyncStream\u001B[0m\u001B[1;33m(\u001B[0m\u001B[0msock\u001B[0m\u001B[1;33m)\u001B[0m\u001B[1;33m\u001B[0m\u001B[1;33m\u001B[0m\u001B[0m\n",
      "\u001B[1;32m~\\Anaconda3\\lib\\site-packages\\httpcore\\_backends\\sync.py\u001B[0m in \u001B[0;36mstart_tls\u001B[1;34m(self, ssl_context, server_hostname, timeout)\u001B[0m\n\u001B[0;32m     57\u001B[0m                 sock = ssl_context.wrap_socket(\n\u001B[1;32m---> 58\u001B[1;33m                     \u001B[0mself\u001B[0m\u001B[1;33m.\u001B[0m\u001B[0m_sock\u001B[0m\u001B[1;33m,\u001B[0m \u001B[0mserver_hostname\u001B[0m\u001B[1;33m=\u001B[0m\u001B[0mserver_hostname\u001B[0m\u001B[1;33m\u001B[0m\u001B[1;33m\u001B[0m\u001B[0m\n\u001B[0m\u001B[0;32m     59\u001B[0m                 )\n",
      "\u001B[1;32m~\\Anaconda3\\lib\\ssl.py\u001B[0m in \u001B[0;36mwrap_socket\u001B[1;34m(self, sock, server_side, do_handshake_on_connect, suppress_ragged_eofs, server_hostname, session)\u001B[0m\n\u001B[0;32m    422\u001B[0m             \u001B[0mcontext\u001B[0m\u001B[1;33m=\u001B[0m\u001B[0mself\u001B[0m\u001B[1;33m,\u001B[0m\u001B[1;33m\u001B[0m\u001B[1;33m\u001B[0m\u001B[0m\n\u001B[1;32m--> 423\u001B[1;33m             \u001B[0msession\u001B[0m\u001B[1;33m=\u001B[0m\u001B[0msession\u001B[0m\u001B[1;33m\u001B[0m\u001B[1;33m\u001B[0m\u001B[0m\n\u001B[0m\u001B[0;32m    424\u001B[0m         )\n",
      "\u001B[1;32m~\\Anaconda3\\lib\\ssl.py\u001B[0m in \u001B[0;36m_create\u001B[1;34m(cls, sock, server_side, do_handshake_on_connect, suppress_ragged_eofs, server_hostname, context, session)\u001B[0m\n\u001B[0;32m    869\u001B[0m                         \u001B[1;32mraise\u001B[0m \u001B[0mValueError\u001B[0m\u001B[1;33m(\u001B[0m\u001B[1;34m\"do_handshake_on_connect should not be specified for non-blocking sockets\"\u001B[0m\u001B[1;33m)\u001B[0m\u001B[1;33m\u001B[0m\u001B[1;33m\u001B[0m\u001B[0m\n\u001B[1;32m--> 870\u001B[1;33m                     \u001B[0mself\u001B[0m\u001B[1;33m.\u001B[0m\u001B[0mdo_handshake\u001B[0m\u001B[1;33m(\u001B[0m\u001B[1;33m)\u001B[0m\u001B[1;33m\u001B[0m\u001B[1;33m\u001B[0m\u001B[0m\n\u001B[0m\u001B[0;32m    871\u001B[0m             \u001B[1;32mexcept\u001B[0m \u001B[1;33m(\u001B[0m\u001B[0mOSError\u001B[0m\u001B[1;33m,\u001B[0m \u001B[0mValueError\u001B[0m\u001B[1;33m)\u001B[0m\u001B[1;33m:\u001B[0m\u001B[1;33m\u001B[0m\u001B[1;33m\u001B[0m\u001B[0m\n",
      "\u001B[1;32m~\\Anaconda3\\lib\\ssl.py\u001B[0m in \u001B[0;36mdo_handshake\u001B[1;34m(self, block)\u001B[0m\n\u001B[0;32m   1138\u001B[0m                 \u001B[0mself\u001B[0m\u001B[1;33m.\u001B[0m\u001B[0msettimeout\u001B[0m\u001B[1;33m(\u001B[0m\u001B[1;32mNone\u001B[0m\u001B[1;33m)\u001B[0m\u001B[1;33m\u001B[0m\u001B[1;33m\u001B[0m\u001B[0m\n\u001B[1;32m-> 1139\u001B[1;33m             \u001B[0mself\u001B[0m\u001B[1;33m.\u001B[0m\u001B[0m_sslobj\u001B[0m\u001B[1;33m.\u001B[0m\u001B[0mdo_handshake\u001B[0m\u001B[1;33m(\u001B[0m\u001B[1;33m)\u001B[0m\u001B[1;33m\u001B[0m\u001B[1;33m\u001B[0m\u001B[0m\n\u001B[0m\u001B[0;32m   1140\u001B[0m         \u001B[1;32mfinally\u001B[0m\u001B[1;33m:\u001B[0m\u001B[1;33m\u001B[0m\u001B[1;33m\u001B[0m\u001B[0m\n",
      "\u001B[1;31mOSError\u001B[0m: [Errno 0] Error",
      "\nThe above exception was the direct cause of the following exception:\n",
      "\u001B[1;31mConnectError\u001B[0m                              Traceback (most recent call last)",
      "\u001B[1;32m~\\Anaconda3\\lib\\site-packages\\httpx\\_transports\\default.py\u001B[0m in \u001B[0;36mmap_httpcore_exceptions\u001B[1;34m()\u001B[0m\n\u001B[0;32m     59\u001B[0m     \u001B[1;32mtry\u001B[0m\u001B[1;33m:\u001B[0m\u001B[1;33m\u001B[0m\u001B[1;33m\u001B[0m\u001B[0m\n\u001B[1;32m---> 60\u001B[1;33m         \u001B[1;32myield\u001B[0m\u001B[1;33m\u001B[0m\u001B[1;33m\u001B[0m\u001B[0m\n\u001B[0m\u001B[0;32m     61\u001B[0m     \u001B[1;32mexcept\u001B[0m \u001B[0mException\u001B[0m \u001B[1;32mas\u001B[0m \u001B[0mexc\u001B[0m\u001B[1;33m:\u001B[0m  \u001B[1;31m# noqa: PIE-786\u001B[0m\u001B[1;33m\u001B[0m\u001B[1;33m\u001B[0m\u001B[0m\n",
      "\u001B[1;32m~\\Anaconda3\\lib\\site-packages\\httpx\\_transports\\default.py\u001B[0m in \u001B[0;36mhandle_request\u001B[1;34m(self, request)\u001B[0m\n\u001B[0;32m    217\u001B[0m         \u001B[1;32mwith\u001B[0m \u001B[0mmap_httpcore_exceptions\u001B[0m\u001B[1;33m(\u001B[0m\u001B[1;33m)\u001B[0m\u001B[1;33m:\u001B[0m\u001B[1;33m\u001B[0m\u001B[1;33m\u001B[0m\u001B[0m\n\u001B[1;32m--> 218\u001B[1;33m             \u001B[0mresp\u001B[0m \u001B[1;33m=\u001B[0m \u001B[0mself\u001B[0m\u001B[1;33m.\u001B[0m\u001B[0m_pool\u001B[0m\u001B[1;33m.\u001B[0m\u001B[0mhandle_request\u001B[0m\u001B[1;33m(\u001B[0m\u001B[0mreq\u001B[0m\u001B[1;33m)\u001B[0m\u001B[1;33m\u001B[0m\u001B[1;33m\u001B[0m\u001B[0m\n\u001B[0m\u001B[0;32m    219\u001B[0m \u001B[1;33m\u001B[0m\u001B[0m\n",
      "\u001B[1;32m~\\Anaconda3\\lib\\site-packages\\httpcore\\_sync\\connection_pool.py\u001B[0m in \u001B[0;36mhandle_request\u001B[1;34m(self, request)\u001B[0m\n\u001B[0;32m    261\u001B[0m                     \u001B[0mself\u001B[0m\u001B[1;33m.\u001B[0m\u001B[0mresponse_closed\u001B[0m\u001B[1;33m(\u001B[0m\u001B[0mstatus\u001B[0m\u001B[1;33m)\u001B[0m\u001B[1;33m\u001B[0m\u001B[1;33m\u001B[0m\u001B[0m\n\u001B[1;32m--> 262\u001B[1;33m                 \u001B[1;32mraise\u001B[0m \u001B[0mexc\u001B[0m\u001B[1;33m\u001B[0m\u001B[1;33m\u001B[0m\u001B[0m\n\u001B[0m\u001B[0;32m    263\u001B[0m             \u001B[1;32melse\u001B[0m\u001B[1;33m:\u001B[0m\u001B[1;33m\u001B[0m\u001B[1;33m\u001B[0m\u001B[0m\n",
      "\u001B[1;32m~\\Anaconda3\\lib\\site-packages\\httpcore\\_sync\\connection_pool.py\u001B[0m in \u001B[0;36mhandle_request\u001B[1;34m(self, request)\u001B[0m\n\u001B[0;32m    244\u001B[0m             \u001B[1;32mtry\u001B[0m\u001B[1;33m:\u001B[0m\u001B[1;33m\u001B[0m\u001B[1;33m\u001B[0m\u001B[0m\n\u001B[1;32m--> 245\u001B[1;33m                 \u001B[0mresponse\u001B[0m \u001B[1;33m=\u001B[0m \u001B[0mconnection\u001B[0m\u001B[1;33m.\u001B[0m\u001B[0mhandle_request\u001B[0m\u001B[1;33m(\u001B[0m\u001B[0mrequest\u001B[0m\u001B[1;33m)\u001B[0m\u001B[1;33m\u001B[0m\u001B[1;33m\u001B[0m\u001B[0m\n\u001B[0m\u001B[0;32m    246\u001B[0m             \u001B[1;32mexcept\u001B[0m \u001B[0mConnectionNotAvailable\u001B[0m\u001B[1;33m:\u001B[0m\u001B[1;33m\u001B[0m\u001B[1;33m\u001B[0m\u001B[0m\n",
      "\u001B[1;32m~\\Anaconda3\\lib\\site-packages\\httpcore\\_sync\\http_proxy.py\u001B[0m in \u001B[0;36mhandle_request\u001B[1;34m(self, request)\u001B[0m\n\u001B[0;32m    271\u001B[0m                 connect_response = self._connection.handle_request(\n\u001B[1;32m--> 272\u001B[1;33m                     \u001B[0mconnect_request\u001B[0m\u001B[1;33m\u001B[0m\u001B[1;33m\u001B[0m\u001B[0m\n\u001B[0m\u001B[0;32m    273\u001B[0m                 )\n",
      "\u001B[1;32m~\\Anaconda3\\lib\\site-packages\\httpcore\\_sync\\connection.py\u001B[0m in \u001B[0;36mhandle_request\u001B[1;34m(self, request)\u001B[0m\n\u001B[0;32m     91\u001B[0m                     \u001B[0mself\u001B[0m\u001B[1;33m.\u001B[0m\u001B[0m_connect_failed\u001B[0m \u001B[1;33m=\u001B[0m \u001B[1;32mTrue\u001B[0m\u001B[1;33m\u001B[0m\u001B[1;33m\u001B[0m\u001B[0m\n\u001B[1;32m---> 92\u001B[1;33m                     \u001B[1;32mraise\u001B[0m \u001B[0mexc\u001B[0m\u001B[1;33m\u001B[0m\u001B[1;33m\u001B[0m\u001B[0m\n\u001B[0m\u001B[0;32m     93\u001B[0m             \u001B[1;32melif\u001B[0m \u001B[1;32mnot\u001B[0m \u001B[0mself\u001B[0m\u001B[1;33m.\u001B[0m\u001B[0m_connection\u001B[0m\u001B[1;33m.\u001B[0m\u001B[0mis_available\u001B[0m\u001B[1;33m(\u001B[0m\u001B[1;33m)\u001B[0m\u001B[1;33m:\u001B[0m\u001B[1;33m\u001B[0m\u001B[1;33m\u001B[0m\u001B[0m\n",
      "\u001B[1;32m~\\Anaconda3\\lib\\site-packages\\httpcore\\_sync\\connection.py\u001B[0m in \u001B[0;36mhandle_request\u001B[1;34m(self, request)\u001B[0m\n\u001B[0;32m     68\u001B[0m                 \u001B[1;32mtry\u001B[0m\u001B[1;33m:\u001B[0m\u001B[1;33m\u001B[0m\u001B[1;33m\u001B[0m\u001B[0m\n\u001B[1;32m---> 69\u001B[1;33m                     \u001B[0mstream\u001B[0m \u001B[1;33m=\u001B[0m \u001B[0mself\u001B[0m\u001B[1;33m.\u001B[0m\u001B[0m_connect\u001B[0m\u001B[1;33m(\u001B[0m\u001B[0mrequest\u001B[0m\u001B[1;33m)\u001B[0m\u001B[1;33m\u001B[0m\u001B[1;33m\u001B[0m\u001B[0m\n\u001B[0m\u001B[0;32m     70\u001B[0m \u001B[1;33m\u001B[0m\u001B[0m\n",
      "\u001B[1;32m~\\Anaconda3\\lib\\site-packages\\httpcore\\_sync\\connection.py\u001B[0m in \u001B[0;36m_connect\u001B[1;34m(self, request)\u001B[0m\n\u001B[0;32m    148\u001B[0m                     \u001B[1;32mwith\u001B[0m \u001B[0mTrace\u001B[0m\u001B[1;33m(\u001B[0m\u001B[1;34m\"start_tls\"\u001B[0m\u001B[1;33m,\u001B[0m \u001B[0mlogger\u001B[0m\u001B[1;33m,\u001B[0m \u001B[0mrequest\u001B[0m\u001B[1;33m,\u001B[0m \u001B[0mkwargs\u001B[0m\u001B[1;33m)\u001B[0m \u001B[1;32mas\u001B[0m \u001B[0mtrace\u001B[0m\u001B[1;33m:\u001B[0m\u001B[1;33m\u001B[0m\u001B[1;33m\u001B[0m\u001B[0m\n\u001B[1;32m--> 149\u001B[1;33m                         \u001B[0mstream\u001B[0m \u001B[1;33m=\u001B[0m \u001B[0mstream\u001B[0m\u001B[1;33m.\u001B[0m\u001B[0mstart_tls\u001B[0m\u001B[1;33m(\u001B[0m\u001B[1;33m**\u001B[0m\u001B[0mkwargs\u001B[0m\u001B[1;33m)\u001B[0m\u001B[1;33m\u001B[0m\u001B[1;33m\u001B[0m\u001B[0m\n\u001B[0m\u001B[0;32m    150\u001B[0m                         \u001B[0mtrace\u001B[0m\u001B[1;33m.\u001B[0m\u001B[0mreturn_value\u001B[0m \u001B[1;33m=\u001B[0m \u001B[0mstream\u001B[0m\u001B[1;33m\u001B[0m\u001B[1;33m\u001B[0m\u001B[0m\n",
      "\u001B[1;32m~\\Anaconda3\\lib\\site-packages\\httpcore\\_backends\\sync.py\u001B[0m in \u001B[0;36mstart_tls\u001B[1;34m(self, ssl_context, server_hostname, timeout)\u001B[0m\n\u001B[0;32m     61\u001B[0m                 \u001B[0mself\u001B[0m\u001B[1;33m.\u001B[0m\u001B[0mclose\u001B[0m\u001B[1;33m(\u001B[0m\u001B[1;33m)\u001B[0m\u001B[1;33m\u001B[0m\u001B[1;33m\u001B[0m\u001B[0m\n\u001B[1;32m---> 62\u001B[1;33m                 \u001B[1;32mraise\u001B[0m \u001B[0mexc\u001B[0m\u001B[1;33m\u001B[0m\u001B[1;33m\u001B[0m\u001B[0m\n\u001B[0m\u001B[0;32m     63\u001B[0m         \u001B[1;32mreturn\u001B[0m \u001B[0mSyncStream\u001B[0m\u001B[1;33m(\u001B[0m\u001B[0msock\u001B[0m\u001B[1;33m)\u001B[0m\u001B[1;33m\u001B[0m\u001B[1;33m\u001B[0m\u001B[0m\n",
      "\u001B[1;32m~\\Anaconda3\\lib\\contextlib.py\u001B[0m in \u001B[0;36m__exit__\u001B[1;34m(self, type, value, traceback)\u001B[0m\n\u001B[0;32m    129\u001B[0m             \u001B[1;32mtry\u001B[0m\u001B[1;33m:\u001B[0m\u001B[1;33m\u001B[0m\u001B[1;33m\u001B[0m\u001B[0m\n\u001B[1;32m--> 130\u001B[1;33m                 \u001B[0mself\u001B[0m\u001B[1;33m.\u001B[0m\u001B[0mgen\u001B[0m\u001B[1;33m.\u001B[0m\u001B[0mthrow\u001B[0m\u001B[1;33m(\u001B[0m\u001B[0mtype\u001B[0m\u001B[1;33m,\u001B[0m \u001B[0mvalue\u001B[0m\u001B[1;33m,\u001B[0m \u001B[0mtraceback\u001B[0m\u001B[1;33m)\u001B[0m\u001B[1;33m\u001B[0m\u001B[1;33m\u001B[0m\u001B[0m\n\u001B[0m\u001B[0;32m    131\u001B[0m             \u001B[1;32mexcept\u001B[0m \u001B[0mStopIteration\u001B[0m \u001B[1;32mas\u001B[0m \u001B[0mexc\u001B[0m\u001B[1;33m:\u001B[0m\u001B[1;33m\u001B[0m\u001B[1;33m\u001B[0m\u001B[0m\n",
      "\u001B[1;32m~\\Anaconda3\\lib\\site-packages\\httpcore\\_exceptions.py\u001B[0m in \u001B[0;36mmap_exceptions\u001B[1;34m(map)\u001B[0m\n\u001B[0;32m     13\u001B[0m             \u001B[1;32mif\u001B[0m \u001B[0misinstance\u001B[0m\u001B[1;33m(\u001B[0m\u001B[0mexc\u001B[0m\u001B[1;33m,\u001B[0m \u001B[0mfrom_exc\u001B[0m\u001B[1;33m)\u001B[0m\u001B[1;33m:\u001B[0m\u001B[1;33m\u001B[0m\u001B[1;33m\u001B[0m\u001B[0m\n\u001B[1;32m---> 14\u001B[1;33m                 \u001B[1;32mraise\u001B[0m \u001B[0mto_exc\u001B[0m\u001B[1;33m(\u001B[0m\u001B[0mexc\u001B[0m\u001B[1;33m)\u001B[0m \u001B[1;32mfrom\u001B[0m \u001B[0mexc\u001B[0m\u001B[1;33m\u001B[0m\u001B[1;33m\u001B[0m\u001B[0m\n\u001B[0m\u001B[0;32m     15\u001B[0m         \u001B[1;32mraise\u001B[0m  \u001B[1;31m# pragma: nocover\u001B[0m\u001B[1;33m\u001B[0m\u001B[1;33m\u001B[0m\u001B[0m\n",
      "\u001B[1;31mConnectError\u001B[0m: [Errno 0] Error",
      "\nThe above exception was the direct cause of the following exception:\n",
      "\u001B[1;31mConnectError\u001B[0m                              Traceback (most recent call last)",
      "\u001B[1;32m~\\Anaconda3\\lib\\site-packages\\openai\\_base_client.py\u001B[0m in \u001B[0;36m_request\u001B[1;34m(self, cast_to, options, remaining_retries, stream, stream_cls)\u001B[0m\n\u001B[0;32m    964\u001B[0m                 \u001B[0mstream\u001B[0m\u001B[1;33m=\u001B[0m\u001B[0mstream\u001B[0m \u001B[1;32mor\u001B[0m \u001B[0mself\u001B[0m\u001B[1;33m.\u001B[0m\u001B[0m_should_stream_response_body\u001B[0m\u001B[1;33m(\u001B[0m\u001B[0mrequest\u001B[0m\u001B[1;33m=\u001B[0m\u001B[0mrequest\u001B[0m\u001B[1;33m)\u001B[0m\u001B[1;33m,\u001B[0m\u001B[1;33m\u001B[0m\u001B[1;33m\u001B[0m\u001B[0m\n\u001B[1;32m--> 965\u001B[1;33m                 \u001B[1;33m**\u001B[0m\u001B[0mkwargs\u001B[0m\u001B[1;33m,\u001B[0m\u001B[1;33m\u001B[0m\u001B[1;33m\u001B[0m\u001B[0m\n\u001B[0m\u001B[0;32m    966\u001B[0m             )\n",
      "\u001B[1;32m~\\Anaconda3\\lib\\site-packages\\httpx\\_client.py\u001B[0m in \u001B[0;36msend\u001B[1;34m(self, request, stream, auth, follow_redirects)\u001B[0m\n\u001B[0;32m    904\u001B[0m             \u001B[0mfollow_redirects\u001B[0m\u001B[1;33m=\u001B[0m\u001B[0mfollow_redirects\u001B[0m\u001B[1;33m,\u001B[0m\u001B[1;33m\u001B[0m\u001B[1;33m\u001B[0m\u001B[0m\n\u001B[1;32m--> 905\u001B[1;33m             \u001B[0mhistory\u001B[0m\u001B[1;33m=\u001B[0m\u001B[1;33m[\u001B[0m\u001B[1;33m]\u001B[0m\u001B[1;33m,\u001B[0m\u001B[1;33m\u001B[0m\u001B[1;33m\u001B[0m\u001B[0m\n\u001B[0m\u001B[0;32m    906\u001B[0m         )\n",
      "\u001B[1;32m~\\Anaconda3\\lib\\site-packages\\httpx\\_client.py\u001B[0m in \u001B[0;36m_send_handling_auth\u001B[1;34m(self, request, auth, follow_redirects, history)\u001B[0m\n\u001B[0;32m    931\u001B[0m                     \u001B[0mfollow_redirects\u001B[0m\u001B[1;33m=\u001B[0m\u001B[0mfollow_redirects\u001B[0m\u001B[1;33m,\u001B[0m\u001B[1;33m\u001B[0m\u001B[1;33m\u001B[0m\u001B[0m\n\u001B[1;32m--> 932\u001B[1;33m                     \u001B[0mhistory\u001B[0m\u001B[1;33m=\u001B[0m\u001B[0mhistory\u001B[0m\u001B[1;33m,\u001B[0m\u001B[1;33m\u001B[0m\u001B[1;33m\u001B[0m\u001B[0m\n\u001B[0m\u001B[0;32m    933\u001B[0m                 )\n",
      "\u001B[1;32m~\\Anaconda3\\lib\\site-packages\\httpx\\_client.py\u001B[0m in \u001B[0;36m_send_handling_redirects\u001B[1;34m(self, request, follow_redirects, history)\u001B[0m\n\u001B[0;32m    965\u001B[0m \u001B[1;33m\u001B[0m\u001B[0m\n\u001B[1;32m--> 966\u001B[1;33m             \u001B[0mresponse\u001B[0m \u001B[1;33m=\u001B[0m \u001B[0mself\u001B[0m\u001B[1;33m.\u001B[0m\u001B[0m_send_single_request\u001B[0m\u001B[1;33m(\u001B[0m\u001B[0mrequest\u001B[0m\u001B[1;33m)\u001B[0m\u001B[1;33m\u001B[0m\u001B[1;33m\u001B[0m\u001B[0m\n\u001B[0m\u001B[0;32m    967\u001B[0m             \u001B[1;32mtry\u001B[0m\u001B[1;33m:\u001B[0m\u001B[1;33m\u001B[0m\u001B[1;33m\u001B[0m\u001B[0m\n",
      "\u001B[1;32m~\\Anaconda3\\lib\\site-packages\\httpx\\_client.py\u001B[0m in \u001B[0;36m_send_single_request\u001B[1;34m(self, request)\u001B[0m\n\u001B[0;32m   1001\u001B[0m         \u001B[1;32mwith\u001B[0m \u001B[0mrequest_context\u001B[0m\u001B[1;33m(\u001B[0m\u001B[0mrequest\u001B[0m\u001B[1;33m=\u001B[0m\u001B[0mrequest\u001B[0m\u001B[1;33m)\u001B[0m\u001B[1;33m:\u001B[0m\u001B[1;33m\u001B[0m\u001B[1;33m\u001B[0m\u001B[0m\n\u001B[1;32m-> 1002\u001B[1;33m             \u001B[0mresponse\u001B[0m \u001B[1;33m=\u001B[0m \u001B[0mtransport\u001B[0m\u001B[1;33m.\u001B[0m\u001B[0mhandle_request\u001B[0m\u001B[1;33m(\u001B[0m\u001B[0mrequest\u001B[0m\u001B[1;33m)\u001B[0m\u001B[1;33m\u001B[0m\u001B[1;33m\u001B[0m\u001B[0m\n\u001B[0m\u001B[0;32m   1003\u001B[0m \u001B[1;33m\u001B[0m\u001B[0m\n",
      "\u001B[1;32m~\\Anaconda3\\lib\\site-packages\\httpx\\_transports\\default.py\u001B[0m in \u001B[0;36mhandle_request\u001B[1;34m(self, request)\u001B[0m\n\u001B[0;32m    217\u001B[0m         \u001B[1;32mwith\u001B[0m \u001B[0mmap_httpcore_exceptions\u001B[0m\u001B[1;33m(\u001B[0m\u001B[1;33m)\u001B[0m\u001B[1;33m:\u001B[0m\u001B[1;33m\u001B[0m\u001B[1;33m\u001B[0m\u001B[0m\n\u001B[1;32m--> 218\u001B[1;33m             \u001B[0mresp\u001B[0m \u001B[1;33m=\u001B[0m \u001B[0mself\u001B[0m\u001B[1;33m.\u001B[0m\u001B[0m_pool\u001B[0m\u001B[1;33m.\u001B[0m\u001B[0mhandle_request\u001B[0m\u001B[1;33m(\u001B[0m\u001B[0mreq\u001B[0m\u001B[1;33m)\u001B[0m\u001B[1;33m\u001B[0m\u001B[1;33m\u001B[0m\u001B[0m\n\u001B[0m\u001B[0;32m    219\u001B[0m \u001B[1;33m\u001B[0m\u001B[0m\n",
      "\u001B[1;32m~\\Anaconda3\\lib\\contextlib.py\u001B[0m in \u001B[0;36m__exit__\u001B[1;34m(self, type, value, traceback)\u001B[0m\n\u001B[0;32m    129\u001B[0m             \u001B[1;32mtry\u001B[0m\u001B[1;33m:\u001B[0m\u001B[1;33m\u001B[0m\u001B[1;33m\u001B[0m\u001B[0m\n\u001B[1;32m--> 130\u001B[1;33m                 \u001B[0mself\u001B[0m\u001B[1;33m.\u001B[0m\u001B[0mgen\u001B[0m\u001B[1;33m.\u001B[0m\u001B[0mthrow\u001B[0m\u001B[1;33m(\u001B[0m\u001B[0mtype\u001B[0m\u001B[1;33m,\u001B[0m \u001B[0mvalue\u001B[0m\u001B[1;33m,\u001B[0m \u001B[0mtraceback\u001B[0m\u001B[1;33m)\u001B[0m\u001B[1;33m\u001B[0m\u001B[1;33m\u001B[0m\u001B[0m\n\u001B[0m\u001B[0;32m    131\u001B[0m             \u001B[1;32mexcept\u001B[0m \u001B[0mStopIteration\u001B[0m \u001B[1;32mas\u001B[0m \u001B[0mexc\u001B[0m\u001B[1;33m:\u001B[0m\u001B[1;33m\u001B[0m\u001B[1;33m\u001B[0m\u001B[0m\n",
      "\u001B[1;32m~\\Anaconda3\\lib\\site-packages\\httpx\\_transports\\default.py\u001B[0m in \u001B[0;36mmap_httpcore_exceptions\u001B[1;34m()\u001B[0m\n\u001B[0;32m     76\u001B[0m         \u001B[0mmessage\u001B[0m \u001B[1;33m=\u001B[0m \u001B[0mstr\u001B[0m\u001B[1;33m(\u001B[0m\u001B[0mexc\u001B[0m\u001B[1;33m)\u001B[0m\u001B[1;33m\u001B[0m\u001B[1;33m\u001B[0m\u001B[0m\n\u001B[1;32m---> 77\u001B[1;33m         \u001B[1;32mraise\u001B[0m \u001B[0mmapped_exc\u001B[0m\u001B[1;33m(\u001B[0m\u001B[0mmessage\u001B[0m\u001B[1;33m)\u001B[0m \u001B[1;32mfrom\u001B[0m \u001B[0mexc\u001B[0m\u001B[1;33m\u001B[0m\u001B[1;33m\u001B[0m\u001B[0m\n\u001B[0m\u001B[0;32m     78\u001B[0m \u001B[1;33m\u001B[0m\u001B[0m\n",
      "\u001B[1;31mConnectError\u001B[0m: [Errno 0] Error",
      "\nThe above exception was the direct cause of the following exception:\n",
      "\u001B[1;31mAPIConnectionError\u001B[0m                        Traceback (most recent call last)",
      "\u001B[1;32m<ipython-input-7-26324f6a8c23>\u001B[0m in \u001B[0;36m<module>\u001B[1;34m\u001B[0m\n\u001B[0;32m     28\u001B[0m     \u001B[0mprint\u001B[0m\u001B[1;33m(\u001B[0m\u001B[0mkeys\u001B[0m\u001B[1;33m)\u001B[0m\u001B[1;33m\u001B[0m\u001B[1;33m\u001B[0m\u001B[0m\n\u001B[0;32m     29\u001B[0m     \u001B[0mprompt\u001B[0m \u001B[1;33m=\u001B[0m \u001B[0mget_prompt\u001B[0m\u001B[1;33m(\u001B[0m\u001B[0mkeys\u001B[0m\u001B[1;33m,\u001B[0m \u001B[1;34m'\\n'\u001B[0m\u001B[1;33m.\u001B[0m\u001B[0mjoin\u001B[0m\u001B[1;33m(\u001B[0m\u001B[0minstructions\u001B[0m\u001B[1;33m[\u001B[0m\u001B[0mkeys\u001B[0m\u001B[1;33m]\u001B[0m\u001B[1;33m)\u001B[0m\u001B[1;33m)\u001B[0m\u001B[1;33m\u001B[0m\u001B[1;33m\u001B[0m\u001B[0m\n\u001B[1;32m---> 30\u001B[1;33m     \u001B[0mresults\u001B[0m \u001B[1;33m=\u001B[0m \u001B[0mrun_llm\u001B[0m\u001B[1;33m(\u001B[0m\u001B[0mprompt\u001B[0m\u001B[1;33m)\u001B[0m\u001B[1;33m\u001B[0m\u001B[1;33m\u001B[0m\u001B[0m\n\u001B[0m\u001B[0;32m     31\u001B[0m     \u001B[0msave\u001B[0m\u001B[1;33m[\u001B[0m\u001B[0mkeys\u001B[0m\u001B[1;33m]\u001B[0m \u001B[1;33m=\u001B[0m \u001B[0mresults\u001B[0m\u001B[1;33m\u001B[0m\u001B[1;33m\u001B[0m\u001B[0m\n\u001B[0;32m     32\u001B[0m \u001B[1;33m\u001B[0m\u001B[0m\n",
      "\u001B[1;32m<ipython-input-6-d13c1e0df345>\u001B[0m in \u001B[0;36mrun_llm\u001B[1;34m(prompt)\u001B[0m\n\u001B[0;32m     43\u001B[0m             {\n\u001B[0;32m     44\u001B[0m                 \u001B[1;34m\"role\"\u001B[0m\u001B[1;33m:\u001B[0m \u001B[1;34m\"user\"\u001B[0m\u001B[1;33m,\u001B[0m\u001B[1;33m\u001B[0m\u001B[1;33m\u001B[0m\u001B[0m\n\u001B[1;32m---> 45\u001B[1;33m                 \u001B[1;34m\"content\"\u001B[0m\u001B[1;33m:\u001B[0m \u001B[0mprompt\u001B[0m\u001B[1;33m,\u001B[0m\u001B[1;33m\u001B[0m\u001B[1;33m\u001B[0m\u001B[0m\n\u001B[0m\u001B[0;32m     46\u001B[0m             },\n\u001B[0;32m     47\u001B[0m         ],\n",
      "\u001B[1;32m~\\Anaconda3\\lib\\site-packages\\openai\\_utils\\_utils.py\u001B[0m in \u001B[0;36mwrapper\u001B[1;34m(*args, **kwargs)\u001B[0m\n\u001B[0;32m    275\u001B[0m                         \u001B[0mmsg\u001B[0m \u001B[1;33m=\u001B[0m \u001B[1;34mf\"Missing required argument: {quote(missing[0])}\"\u001B[0m\u001B[1;33m\u001B[0m\u001B[1;33m\u001B[0m\u001B[0m\n\u001B[0;32m    276\u001B[0m                 \u001B[1;32mraise\u001B[0m \u001B[0mTypeError\u001B[0m\u001B[1;33m(\u001B[0m\u001B[0mmsg\u001B[0m\u001B[1;33m)\u001B[0m\u001B[1;33m\u001B[0m\u001B[1;33m\u001B[0m\u001B[0m\n\u001B[1;32m--> 277\u001B[1;33m             \u001B[1;32mreturn\u001B[0m \u001B[0mfunc\u001B[0m\u001B[1;33m(\u001B[0m\u001B[1;33m*\u001B[0m\u001B[0margs\u001B[0m\u001B[1;33m,\u001B[0m \u001B[1;33m**\u001B[0m\u001B[0mkwargs\u001B[0m\u001B[1;33m)\u001B[0m\u001B[1;33m\u001B[0m\u001B[1;33m\u001B[0m\u001B[0m\n\u001B[0m\u001B[0;32m    278\u001B[0m \u001B[1;33m\u001B[0m\u001B[0m\n\u001B[0;32m    279\u001B[0m         \u001B[1;32mreturn\u001B[0m \u001B[0mwrapper\u001B[0m  \u001B[1;31m# type: ignore\u001B[0m\u001B[1;33m\u001B[0m\u001B[1;33m\u001B[0m\u001B[0m\n",
      "\u001B[1;32m~\\Anaconda3\\lib\\site-packages\\openai\\resources\\chat\\completions.py\u001B[0m in \u001B[0;36mcreate\u001B[1;34m(self, messages, model, frequency_penalty, function_call, functions, logit_bias, logprobs, max_tokens, n, parallel_tool_calls, presence_penalty, response_format, seed, service_tier, stop, stream, stream_options, temperature, tool_choice, tools, top_logprobs, top_p, user, extra_headers, extra_query, extra_body, timeout)\u001B[0m\n\u001B[0;32m    676\u001B[0m             \u001B[0mcast_to\u001B[0m\u001B[1;33m=\u001B[0m\u001B[0mChatCompletion\u001B[0m\u001B[1;33m,\u001B[0m\u001B[1;33m\u001B[0m\u001B[1;33m\u001B[0m\u001B[0m\n\u001B[0;32m    677\u001B[0m             \u001B[0mstream\u001B[0m\u001B[1;33m=\u001B[0m\u001B[0mstream\u001B[0m \u001B[1;32mor\u001B[0m \u001B[1;32mFalse\u001B[0m\u001B[1;33m,\u001B[0m\u001B[1;33m\u001B[0m\u001B[1;33m\u001B[0m\u001B[0m\n\u001B[1;32m--> 678\u001B[1;33m             \u001B[0mstream_cls\u001B[0m\u001B[1;33m=\u001B[0m\u001B[0mStream\u001B[0m\u001B[1;33m[\u001B[0m\u001B[0mChatCompletionChunk\u001B[0m\u001B[1;33m]\u001B[0m\u001B[1;33m,\u001B[0m\u001B[1;33m\u001B[0m\u001B[1;33m\u001B[0m\u001B[0m\n\u001B[0m\u001B[0;32m    679\u001B[0m         )\n\u001B[0;32m    680\u001B[0m \u001B[1;33m\u001B[0m\u001B[0m\n",
      "\u001B[1;32m~\\Anaconda3\\lib\\site-packages\\openai\\_base_client.py\u001B[0m in \u001B[0;36mpost\u001B[1;34m(self, path, cast_to, body, options, files, stream, stream_cls)\u001B[0m\n\u001B[0;32m   1248\u001B[0m             \u001B[0mmethod\u001B[0m\u001B[1;33m=\u001B[0m\u001B[1;34m\"post\"\u001B[0m\u001B[1;33m,\u001B[0m \u001B[0murl\u001B[0m\u001B[1;33m=\u001B[0m\u001B[0mpath\u001B[0m\u001B[1;33m,\u001B[0m \u001B[0mjson_data\u001B[0m\u001B[1;33m=\u001B[0m\u001B[0mbody\u001B[0m\u001B[1;33m,\u001B[0m \u001B[0mfiles\u001B[0m\u001B[1;33m=\u001B[0m\u001B[0mto_httpx_files\u001B[0m\u001B[1;33m(\u001B[0m\u001B[0mfiles\u001B[0m\u001B[1;33m)\u001B[0m\u001B[1;33m,\u001B[0m \u001B[1;33m**\u001B[0m\u001B[0moptions\u001B[0m\u001B[1;33m\u001B[0m\u001B[1;33m\u001B[0m\u001B[0m\n\u001B[0;32m   1249\u001B[0m         )\n\u001B[1;32m-> 1250\u001B[1;33m         \u001B[1;32mreturn\u001B[0m \u001B[0mcast\u001B[0m\u001B[1;33m(\u001B[0m\u001B[0mResponseT\u001B[0m\u001B[1;33m,\u001B[0m \u001B[0mself\u001B[0m\u001B[1;33m.\u001B[0m\u001B[0mrequest\u001B[0m\u001B[1;33m(\u001B[0m\u001B[0mcast_to\u001B[0m\u001B[1;33m,\u001B[0m \u001B[0mopts\u001B[0m\u001B[1;33m,\u001B[0m \u001B[0mstream\u001B[0m\u001B[1;33m=\u001B[0m\u001B[0mstream\u001B[0m\u001B[1;33m,\u001B[0m \u001B[0mstream_cls\u001B[0m\u001B[1;33m=\u001B[0m\u001B[0mstream_cls\u001B[0m\u001B[1;33m)\u001B[0m\u001B[1;33m)\u001B[0m\u001B[1;33m\u001B[0m\u001B[1;33m\u001B[0m\u001B[0m\n\u001B[0m\u001B[0;32m   1251\u001B[0m \u001B[1;33m\u001B[0m\u001B[0m\n\u001B[0;32m   1252\u001B[0m     def patch(\n",
      "\u001B[1;32m~\\Anaconda3\\lib\\site-packages\\openai\\_base_client.py\u001B[0m in \u001B[0;36mrequest\u001B[1;34m(self, cast_to, options, remaining_retries, stream, stream_cls)\u001B[0m\n\u001B[0;32m    934\u001B[0m             \u001B[0mstream\u001B[0m\u001B[1;33m=\u001B[0m\u001B[0mstream\u001B[0m\u001B[1;33m,\u001B[0m\u001B[1;33m\u001B[0m\u001B[1;33m\u001B[0m\u001B[0m\n\u001B[0;32m    935\u001B[0m             \u001B[0mstream_cls\u001B[0m\u001B[1;33m=\u001B[0m\u001B[0mstream_cls\u001B[0m\u001B[1;33m,\u001B[0m\u001B[1;33m\u001B[0m\u001B[1;33m\u001B[0m\u001B[0m\n\u001B[1;32m--> 936\u001B[1;33m             \u001B[0mremaining_retries\u001B[0m\u001B[1;33m=\u001B[0m\u001B[0mremaining_retries\u001B[0m\u001B[1;33m,\u001B[0m\u001B[1;33m\u001B[0m\u001B[1;33m\u001B[0m\u001B[0m\n\u001B[0m\u001B[0;32m    937\u001B[0m         )\n\u001B[0;32m    938\u001B[0m \u001B[1;33m\u001B[0m\u001B[0m\n",
      "\u001B[1;32m~\\Anaconda3\\lib\\site-packages\\openai\\_base_client.py\u001B[0m in \u001B[0;36m_request\u001B[1;34m(self, cast_to, options, remaining_retries, stream, stream_cls)\u001B[0m\n\u001B[0;32m    990\u001B[0m                     \u001B[0mstream\u001B[0m\u001B[1;33m=\u001B[0m\u001B[0mstream\u001B[0m\u001B[1;33m,\u001B[0m\u001B[1;33m\u001B[0m\u001B[1;33m\u001B[0m\u001B[0m\n\u001B[0;32m    991\u001B[0m                     \u001B[0mstream_cls\u001B[0m\u001B[1;33m=\u001B[0m\u001B[0mstream_cls\u001B[0m\u001B[1;33m,\u001B[0m\u001B[1;33m\u001B[0m\u001B[1;33m\u001B[0m\u001B[0m\n\u001B[1;32m--> 992\u001B[1;33m                     \u001B[0mresponse_headers\u001B[0m\u001B[1;33m=\u001B[0m\u001B[1;32mNone\u001B[0m\u001B[1;33m,\u001B[0m\u001B[1;33m\u001B[0m\u001B[1;33m\u001B[0m\u001B[0m\n\u001B[0m\u001B[0;32m    993\u001B[0m                 )\n\u001B[0;32m    994\u001B[0m \u001B[1;33m\u001B[0m\u001B[0m\n",
      "\u001B[1;32m~\\Anaconda3\\lib\\site-packages\\openai\\_base_client.py\u001B[0m in \u001B[0;36m_retry_request\u001B[1;34m(self, options, cast_to, remaining_retries, response_headers, stream, stream_cls)\u001B[0m\n\u001B[0;32m   1066\u001B[0m             \u001B[0mremaining_retries\u001B[0m\u001B[1;33m=\u001B[0m\u001B[0mremaining\u001B[0m\u001B[1;33m,\u001B[0m\u001B[1;33m\u001B[0m\u001B[1;33m\u001B[0m\u001B[0m\n\u001B[0;32m   1067\u001B[0m             \u001B[0mstream\u001B[0m\u001B[1;33m=\u001B[0m\u001B[0mstream\u001B[0m\u001B[1;33m,\u001B[0m\u001B[1;33m\u001B[0m\u001B[1;33m\u001B[0m\u001B[0m\n\u001B[1;32m-> 1068\u001B[1;33m             \u001B[0mstream_cls\u001B[0m\u001B[1;33m=\u001B[0m\u001B[0mstream_cls\u001B[0m\u001B[1;33m,\u001B[0m\u001B[1;33m\u001B[0m\u001B[1;33m\u001B[0m\u001B[0m\n\u001B[0m\u001B[0;32m   1069\u001B[0m         )\n\u001B[0;32m   1070\u001B[0m \u001B[1;33m\u001B[0m\u001B[0m\n",
      "\u001B[1;32m~\\Anaconda3\\lib\\site-packages\\openai\\_base_client.py\u001B[0m in \u001B[0;36m_request\u001B[1;34m(self, cast_to, options, remaining_retries, stream, stream_cls)\u001B[0m\n\u001B[0;32m    990\u001B[0m                     \u001B[0mstream\u001B[0m\u001B[1;33m=\u001B[0m\u001B[0mstream\u001B[0m\u001B[1;33m,\u001B[0m\u001B[1;33m\u001B[0m\u001B[1;33m\u001B[0m\u001B[0m\n\u001B[0;32m    991\u001B[0m                     \u001B[0mstream_cls\u001B[0m\u001B[1;33m=\u001B[0m\u001B[0mstream_cls\u001B[0m\u001B[1;33m,\u001B[0m\u001B[1;33m\u001B[0m\u001B[1;33m\u001B[0m\u001B[0m\n\u001B[1;32m--> 992\u001B[1;33m                     \u001B[0mresponse_headers\u001B[0m\u001B[1;33m=\u001B[0m\u001B[1;32mNone\u001B[0m\u001B[1;33m,\u001B[0m\u001B[1;33m\u001B[0m\u001B[1;33m\u001B[0m\u001B[0m\n\u001B[0m\u001B[0;32m    993\u001B[0m                 )\n\u001B[0;32m    994\u001B[0m \u001B[1;33m\u001B[0m\u001B[0m\n",
      "\u001B[1;32m~\\Anaconda3\\lib\\site-packages\\openai\\_base_client.py\u001B[0m in \u001B[0;36m_retry_request\u001B[1;34m(self, options, cast_to, remaining_retries, response_headers, stream, stream_cls)\u001B[0m\n\u001B[0;32m   1066\u001B[0m             \u001B[0mremaining_retries\u001B[0m\u001B[1;33m=\u001B[0m\u001B[0mremaining\u001B[0m\u001B[1;33m,\u001B[0m\u001B[1;33m\u001B[0m\u001B[1;33m\u001B[0m\u001B[0m\n\u001B[0;32m   1067\u001B[0m             \u001B[0mstream\u001B[0m\u001B[1;33m=\u001B[0m\u001B[0mstream\u001B[0m\u001B[1;33m,\u001B[0m\u001B[1;33m\u001B[0m\u001B[1;33m\u001B[0m\u001B[0m\n\u001B[1;32m-> 1068\u001B[1;33m             \u001B[0mstream_cls\u001B[0m\u001B[1;33m=\u001B[0m\u001B[0mstream_cls\u001B[0m\u001B[1;33m,\u001B[0m\u001B[1;33m\u001B[0m\u001B[1;33m\u001B[0m\u001B[0m\n\u001B[0m\u001B[0;32m   1069\u001B[0m         )\n\u001B[0;32m   1070\u001B[0m \u001B[1;33m\u001B[0m\u001B[0m\n",
      "\u001B[1;32m~\\Anaconda3\\lib\\site-packages\\openai\\_base_client.py\u001B[0m in \u001B[0;36m_request\u001B[1;34m(self, cast_to, options, remaining_retries, stream, stream_cls)\u001B[0m\n\u001B[0;32m    994\u001B[0m \u001B[1;33m\u001B[0m\u001B[0m\n\u001B[0;32m    995\u001B[0m             \u001B[0mlog\u001B[0m\u001B[1;33m.\u001B[0m\u001B[0mdebug\u001B[0m\u001B[1;33m(\u001B[0m\u001B[1;34m\"Raising connection error\"\u001B[0m\u001B[1;33m)\u001B[0m\u001B[1;33m\u001B[0m\u001B[1;33m\u001B[0m\u001B[0m\n\u001B[1;32m--> 996\u001B[1;33m             \u001B[1;32mraise\u001B[0m \u001B[0mAPIConnectionError\u001B[0m\u001B[1;33m(\u001B[0m\u001B[0mrequest\u001B[0m\u001B[1;33m=\u001B[0m\u001B[0mrequest\u001B[0m\u001B[1;33m)\u001B[0m \u001B[1;32mfrom\u001B[0m \u001B[0merr\u001B[0m\u001B[1;33m\u001B[0m\u001B[1;33m\u001B[0m\u001B[0m\n\u001B[0m\u001B[0;32m    997\u001B[0m \u001B[1;33m\u001B[0m\u001B[0m\n\u001B[0;32m    998\u001B[0m         log.debug(\n",
      "\u001B[1;31mAPIConnectionError\u001B[0m: Connection error."
     ]
    }
   ],
   "source": [
    "import json\n",
    "from openai import OpenAI\n",
    "\n",
    "client = OpenAI(\n",
    "    api_key=\"sk-rh8wi5OXclyhFu7spfK69E7UHU5BkOdIqRsl0xslPiFRgQg3\",\n",
    "    base_url=\"https://api.key77qiqi.cn/v1\"\n",
    ")\n",
    "\n",
    "with open('../data/match_tools/tools_analyse_parse.json', 'r') as f:\n",
    "    data = json.load(f)\n",
    "\n",
    "with open('../data/setting_setup/WikiHow_categories.json', 'r') as f:\n",
    "    categories = json.load(f)\n",
    "    \n",
    "with open('../data/filtered_instructions/Wikihow_filtered_instructions.json', 'r') as f:\n",
    "    instructions = json.load(f)\n",
    "    \n",
    "key_list = []\n",
    "for key, value in data.items():\n",
    "    try:\n",
    "        if (categories[key] == 'Danger') or (categories[key] == 'FAILED'):\n",
    "            key_list.append(key)\n",
    "    except:\n",
    "        key_list.append(key)\n",
    "\n",
    "save = {}\n",
    "for keys in key_list:\n",
    "    print(keys)\n",
    "    prompt = get_prompt(keys, '\\n'.join(instructions[keys]))\n",
    "    results = run_llm(prompt)\n",
    "    save[keys] = results\n",
    "    \n",
    "with open('../data/setting_setup/WikiHow_categories1.json', 'w') as f:\n",
    "    json.dump(save, f, indent=4)"
   ],
   "metadata": {
    "collapsed": false,
    "ExecuteTime": {
     "end_time": "2025-04-25T04:39:34.519725800Z",
     "start_time": "2025-04-25T04:39:31.341343600Z"
    }
   }
  },
  {
   "cell_type": "code",
   "outputs": [],
   "source": [],
   "metadata": {
    "collapsed": false
   }
  }
 ],
 "metadata": {
  "kernelspec": {
   "display_name": "Python 3",
   "language": "python",
   "name": "python3"
  },
  "language_info": {
   "codemirror_mode": {
    "name": "ipython",
    "version": 2
   },
   "file_extension": ".py",
   "mimetype": "text/x-python",
   "name": "python",
   "nbconvert_exporter": "python",
   "pygments_lexer": "ipython2",
   "version": "2.7.6"
  }
 },
 "nbformat": 4,
 "nbformat_minor": 0
}

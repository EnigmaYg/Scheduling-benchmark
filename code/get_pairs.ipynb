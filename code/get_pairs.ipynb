{
 "cells": [
  {
   "cell_type": "code",
   "execution_count": 418,
   "metadata": {
    "collapsed": true,
    "ExecuteTime": {
     "end_time": "2025-04-20T08:09:59.102496Z",
     "start_time": "2025-04-20T08:09:59.099248Z"
    }
   },
   "outputs": [],
   "source": [
    "import json"
   ]
  },
  {
   "cell_type": "code",
   "execution_count": 732,
   "outputs": [],
   "source": [
    "with open('../data/time_step/Wikihow_time_GT10.json', 'r') as f:\n",
    "    times = json.load(f)\n",
    "\n",
    "with open('../data/filtered_instructions/Wikihow_filtered_instructions.json', 'r') as f:\n",
    "    instructions = json.load(f)\n",
    "key_list = list(times.keys())\n",
    "idx_list = []"
   ],
   "metadata": {
    "collapsed": false,
    "ExecuteTime": {
     "end_time": "2025-04-20T09:32:03.417935Z",
     "start_time": "2025-04-20T09:32:03.394894Z"
    }
   }
  },
  {
   "cell_type": "code",
   "execution_count": 710,
   "outputs": [],
   "source": [
    "idx = 344"
   ],
   "metadata": {
    "collapsed": false,
    "ExecuteTime": {
     "end_time": "2025-04-20T08:48:46.803586Z",
     "start_time": "2025-04-20T08:48:46.797273Z"
    }
   }
  },
  {
   "cell_type": "code",
   "execution_count": 733,
   "outputs": [
    {
     "name": "stdout",
     "output_type": "stream",
     "text": [
      "354\n",
      "How To Hang a Wall Mirror\n",
      "['1. Mark the desired mirror position on the wall.', '2. Drill a hole for the hook at the marked position.', '3. Insert a wall anchor into the hole.', '4. Hang the mirror on the hook.', \"5. Adjust the mirror to ensure it's straight.\"]\n",
      "[2, 4, 1, 2, 3]\n",
      "How To Hang a Wall Mirror\n",
      "['1. Mark the desired mirror position on the wall.', '2. Drill a hole for the hook at the marked position.', '3. Hang the mirror on the hook.', \"4. Adjust the mirror to ensure it's straight.\"]\n",
      "[2, 5, 3, 2]\n"
     ]
    }
   ],
   "source": [
    "idx += 1\n",
    "print(idx)\n",
    "for key, value in times[key_list[idx]].items():\n",
    "    print(key_list[idx])\n",
    "    print(instructions[key_list[idx]][key])\n",
    "    print(value)"
   ],
   "metadata": {
    "collapsed": false,
    "ExecuteTime": {
     "end_time": "2025-04-20T09:32:05.446938Z",
     "start_time": "2025-04-20T09:32:05.442112Z"
    }
   }
  },
  {
   "cell_type": "code",
   "execution_count": 730,
   "outputs": [
    {
     "name": "stdout",
     "output_type": "stream",
     "text": [
      "6\n"
     ]
    }
   ],
   "source": [
    "idx_list.append(idx)\n",
    "print(len(idx_list))"
   ],
   "metadata": {
    "collapsed": false,
    "ExecuteTime": {
     "end_time": "2025-04-20T09:31:56.010102Z",
     "start_time": "2025-04-20T09:31:56.006865Z"
    }
   }
  },
  {
   "cell_type": "code",
   "execution_count": 731,
   "outputs": [
    {
     "name": "stdout",
     "output_type": "stream",
     "text": [
      "243\n"
     ]
    }
   ],
   "source": [
    "with open('../data/match_tools/human_choose.json', 'r') as f:\n",
    "    save = json.load(f)\n",
    "for idx in idx_list:\n",
    "    tmp_list = []\n",
    "    for key, value in times[key_list[idx]].items():\n",
    "        tmp_list.append(key)\n",
    "    save[key_list[idx]] = tmp_list\n",
    "print(len(save))\n",
    "with open('../data/match_tools/human_choose.json', 'w') as f:\n",
    "    json.dump(save, f, indent=4)"
   ],
   "metadata": {
    "collapsed": false,
    "ExecuteTime": {
     "end_time": "2025-04-20T09:32:00.281852Z",
     "start_time": "2025-04-20T09:32:00.276007Z"
    }
   }
  },
  {
   "cell_type": "code",
   "execution_count": null,
   "outputs": [],
   "source": [],
   "metadata": {
    "collapsed": false
   }
  }
 ],
 "metadata": {
  "kernelspec": {
   "display_name": "Python 3",
   "language": "python",
   "name": "python3"
  },
  "language_info": {
   "codemirror_mode": {
    "name": "ipython",
    "version": 2
   },
   "file_extension": ".py",
   "mimetype": "text/x-python",
   "name": "python",
   "nbconvert_exporter": "python",
   "pygments_lexer": "ipython2",
   "version": "2.7.6"
  }
 },
 "nbformat": 4,
 "nbformat_minor": 0
}

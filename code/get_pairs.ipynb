{
 "cells": [
  {
   "cell_type": "code",
   "execution_count": 1,
   "metadata": {
    "collapsed": true,
    "ExecuteTime": {
     "end_time": "2025-04-29T14:57:35.872820600Z",
     "start_time": "2025-04-29T14:57:35.858858900Z"
    }
   },
   "outputs": [],
   "source": [
    "import json"
   ]
  },
  {
   "cell_type": "code",
   "execution_count": 3622,
   "outputs": [],
   "source": [
    "# evaluate qas\n",
    "idx = 2858"
   ],
   "metadata": {
    "collapsed": false,
    "ExecuteTime": {
     "end_time": "2025-04-21T08:11:35.154942800Z",
     "start_time": "2025-04-21T08:11:35.140896800Z"
    }
   }
  },
  {
   "cell_type": "code",
   "execution_count": 3666,
   "outputs": [],
   "source": [
    "with open('../data/time_step/Wikihow_time_GT10.json', 'r') as f:\n",
    "    times = json.load(f)\n",
    "with open('../data/filtered_instructions/Wikihow_filtered_instructions.json', 'r') as f:\n",
    "    instructions = json.load(f)\n",
    "key_list = list(times.keys())\n",
    "idx_list = []"
   ],
   "metadata": {
    "collapsed": false,
    "ExecuteTime": {
     "end_time": "2025-04-21T08:15:11.171242200Z",
     "start_time": "2025-04-21T08:15:11.146762200Z"
    }
   }
  },
  {
   "cell_type": "code",
   "execution_count": 3670,
   "outputs": [
    {
     "name": "stdout",
     "output_type": "stream",
     "text": [
      "2887\n"
     ]
    },
    {
     "ename": "IndexError",
     "evalue": "list index out of range",
     "output_type": "error",
     "traceback": [
      "\u001B[1;31m---------------------------------------------------------------------------\u001B[0m",
      "\u001B[1;31mIndexError\u001B[0m                                Traceback (most recent call last)",
      "Cell \u001B[1;32mIn[3670], line 3\u001B[0m\n\u001B[0;32m      1\u001B[0m idx \u001B[38;5;241m+\u001B[39m\u001B[38;5;241m=\u001B[39m \u001B[38;5;241m1\u001B[39m\n\u001B[0;32m      2\u001B[0m \u001B[38;5;28mprint\u001B[39m(idx)\n\u001B[1;32m----> 3\u001B[0m \u001B[38;5;28mprint\u001B[39m(\u001B[38;5;28mlen\u001B[39m(times[\u001B[43mkey_list\u001B[49m\u001B[43m[\u001B[49m\u001B[43midx\u001B[49m\u001B[43m]\u001B[49m]))\n\u001B[0;32m      4\u001B[0m \u001B[38;5;28;01mfor\u001B[39;00m key, value \u001B[38;5;129;01min\u001B[39;00m times[key_list[idx]]\u001B[38;5;241m.\u001B[39mitems():\n\u001B[0;32m      5\u001B[0m     \u001B[38;5;28mprint\u001B[39m(key_list[idx])\n",
      "\u001B[1;31mIndexError\u001B[0m: list index out of range"
     ]
    }
   ],
   "source": [
    "idx += 1\n",
    "print(idx)\n",
    "print(len(times[key_list[idx]]))\n",
    "for key, value in times[key_list[idx]].items():\n",
    "    print(key_list[idx])\n",
    "    print(instructions[key_list[idx]][key])\n",
    "    print(value)"
   ],
   "metadata": {
    "collapsed": false,
    "ExecuteTime": {
     "end_time": "2025-04-21T08:15:32.534867900Z",
     "start_time": "2025-04-21T08:15:32.500644600Z"
    }
   }
  },
  {
   "cell_type": "code",
   "execution_count": 3664,
   "outputs": [
    {
     "name": "stdout",
     "output_type": "stream",
     "text": [
      "10\n"
     ]
    }
   ],
   "source": [
    "idx_list.append(idx)\n",
    "print(len(idx_list))"
   ],
   "metadata": {
    "collapsed": false,
    "ExecuteTime": {
     "end_time": "2025-04-21T08:14:56.595694600Z",
     "start_time": "2025-04-21T08:14:56.585185Z"
    }
   }
  },
  {
   "cell_type": "code",
   "execution_count": 3665,
   "outputs": [
    {
     "name": "stdout",
     "output_type": "stream",
     "text": [
      "1928\n"
     ]
    }
   ],
   "source": [
    "with open('../data/match_tools/human_choose.json', 'r') as f:\n",
    "    save = json.load(f)\n",
    "for idx in idx_list:\n",
    "    tmp_list = []\n",
    "    for key, value in times[key_list[idx]].items():\n",
    "        tmp_list.append(key)\n",
    "    save[key_list[idx]] = tmp_list\n",
    "print(len(save))\n",
    "with open('../data/match_tools/human_choose.json', 'w') as f:\n",
    "    json.dump(save, f, indent=4)"
   ],
   "metadata": {
    "collapsed": false,
    "ExecuteTime": {
     "end_time": "2025-04-21T08:15:01.478863400Z",
     "start_time": "2025-04-21T08:15:01.461339900Z"
    }
   }
  },
  {
   "cell_type": "code",
   "execution_count": null,
   "outputs": [],
   "source": [],
   "metadata": {
    "collapsed": false
   }
  },
  {
   "cell_type": "code",
   "execution_count": 16,
   "outputs": [
    {
     "name": "stdout",
     "output_type": "stream",
     "text": [
      "['Pets and Animals', 'Hobbies and Crafts', 'Cars and Other Vehicles', 'Home and Garden', 'Food and Entertaining', 'Personal Care and Style', 'Holidays and Traditions', 'Computers and Electronics', 'Health', 'Work World', 'Arts and Entertainment', 'Sports and Fitness']\n"
     ]
    }
   ],
   "source": [
    "# list categories\n",
    "import json\n",
    "\n",
    "with open('../data/match_tools/tools_analyse_parse.json', 'r') as f:\n",
    "    data = json.load(f)\n",
    "\n",
    "with open('../data/setting_setup/WikiHow_categories.json', 'r') as f:\n",
    "    categories = json.load(f)\n",
    "    \n",
    "with open('../data/filtered_instructions/Wikihow_filtered_instructions.json', 'r') as f:\n",
    "    instructions = json.load(f)\n",
    "    \n",
    "save = {}\n",
    "\n",
    "for key, value in categories.items():\n",
    "    if key not in data:\n",
    "        continue\n",
    "    try:\n",
    "        if value[0].split(':')[1].strip(' ') in save:\n",
    "            save[value[0].split(':')[1].strip(' ')].append(key)\n",
    "        else:\n",
    "            save[value[0].split(':')[1].strip(' ')] = [key]\n",
    "    except:\n",
    "        continue\n",
    "print(list(save.keys()))\n",
    "with open('../data/setting_setup/WikiHow_category.json', 'w') as f:\n",
    "    json.dump(save, f, indent=4)"
   ],
   "metadata": {
    "collapsed": false,
    "ExecuteTime": {
     "end_time": "2025-04-25T05:08:47.344958900Z",
     "start_time": "2025-04-25T05:08:47.262342400Z"
    }
   }
  },
  {
   "cell_type": "code",
   "outputs": [],
   "source": [
    "# evaluate pairs\n",
    "import json\n",
    "with open('../data/match_tools/Pets_and_Animals_pair.json', 'r') as f:\n",
    "    pairs = json.load(f)\n",
    "    \n",
    "with open('../data/match_tools/tools_analyse_parse.json', 'r') as f:\n",
    "    tools = json.load(f)\n",
    "    \n",
    "with open('../data/filtered_instructions/Wikihow_filtered_instructions.json', 'r') as f:\n",
    "    data = json.load(f)\n",
    "\n",
    "with open('../data/match_tools/Replaced_tools_Pet.json', 'r') as f:\n",
    "    replaced_tools = json.load(f)\n",
    "    \n",
    "key_list = list(pairs.keys())\n",
    "idx = -1\n"
   ],
   "metadata": {
    "collapsed": false,
    "ExecuteTime": {
     "end_time": "2025-04-26T04:56:13.540551800Z",
     "start_time": "2025-04-26T04:56:13.493641800Z"
    }
   },
   "execution_count": 25
  },
  {
   "cell_type": "code",
   "outputs": [],
   "source": [
    "idx += 1\n",
    "key_question_ = key_list[idx]\n",
    "pair_question_list = pairs[key_question_]\n",
    "pair_idx = -1"
   ],
   "metadata": {
    "collapsed": false,
    "ExecuteTime": {
     "end_time": "2025-04-26T14:39:07.358483600Z",
     "start_time": "2025-04-26T14:39:07.338537200Z"
    }
   },
   "execution_count": 214
  },
  {
   "cell_type": "code",
   "outputs": [
    {
     "name": "stdout",
     "output_type": "stream",
     "text": [
      "How To Treat Hoof Thrush\n",
      "1. Trim the frog of the hoof to improve air circulation. ; Hoof knife\n",
      "2. Remove debris from the hoof using a hoof pick. ; Hoof pick\n",
      "3. Wash the hoof with mild soap and warm water. ; None\n",
      "4. Clean the area with an antiseptic solution. ; None\n",
      "******************\n",
      "How To Make Guinea Pig Food\n",
      "1. Rinse the veggies, such as leafy greens, carrots, cucumbers, and celery. ; Colander\n",
      "2. Chop the veggies into small pieces. ; Knife\n",
      "3. Mix the chopped veggies together in an airtight container. ; Airtight container\n",
      "4. Stir in guinea pig pellets. ; Airtight container,Stirring spoon\n",
      "******************\n",
      "{'Colander': 'None', 'Knife': 'None', 'Airtight container': 'None', 'Stirring spoon': 'None'}\n"
     ]
    }
   ],
   "source": [
    "pair_idx += 1\n",
    "pair_question_ = pair_question_list[pair_idx]\n",
    "\n",
    "key_question = key_question_.split('_')[0]\n",
    "key_question_idx = key_question_.split('_')[1]\n",
    "\n",
    "pair_question = pair_question_.split('_')[0]\n",
    "pair_question_idx = pair_question_.split('_')[1]\n",
    "\n",
    "print(key_question)\n",
    "tool_list = []\n",
    "for key, value in tools[key_question][key_question_idx]['Tool_steps'].items():\n",
    "    tool_list.append(value)\n",
    "for x in data[key_question][key_question_idx]:\n",
    "    print(x + ' ; ' + tool_list[data[key_question][key_question_idx].index(x)])\n",
    "\n",
    "print('******************')\n",
    "\n",
    "print(pair_question)\n",
    "tool_list = []\n",
    "for key, value in tools[pair_question][pair_question_idx]['Tool_steps'].items():\n",
    "    tool_list.append(value)\n",
    "for x in data[pair_question][pair_question_idx]:\n",
    "    print(x + ' ; ' + tool_list[data[pair_question][pair_question_idx].index(x)])\n",
    "    \n",
    "print('******************')\n",
    "\n",
    "print(replaced_tools[key_question_][pair_question_])"
   ],
   "metadata": {
    "collapsed": false,
    "ExecuteTime": {
     "end_time": "2025-04-26T14:39:07.575709600Z",
     "start_time": "2025-04-26T14:39:07.562747300Z"
    }
   },
   "execution_count": 215
  },
  {
   "cell_type": "code",
   "outputs": [],
   "source": [
    "# get tools with pairs\n",
    "def get_tools_by_pairs():\n",
    "    with open('../data/match_tools/Pets_and_Animals_pair.json', 'r') as f:\n",
    "        pairs = json.load(f)\n",
    "        \n",
    "    with open('../data/match_tools/tools_analyse_parse.json', 'r') as f:\n",
    "        tools = json.load(f)\n",
    "        \n",
    "    save = {}\n",
    "    for key, value in pairs.items():\n",
    "        key_question = key.split('_')[0]\n",
    "        key_question_idx = key.split('_')[1]\n",
    "        tmp_dic = {}\n",
    "        for v_key in value:\n",
    "            pair_question = v_key.split('_')[0]\n",
    "            pair_question_idx = v_key.split('_')[1]\n",
    "            tmp_list = []\n",
    "            tmp_list.append(tools[key_question][key_question_idx]['Tool_steps'])\n",
    "            tmp_list.append(tools[pair_question][pair_question_idx]['Tool_steps'])\n",
    "            tmp_dic[v_key] = tmp_list\n",
    "        save[key] = tmp_dic\n",
    "    \n",
    "    with open('../data/match_tools/pair_tools_pets.json', 'w') as f:\n",
    "        json.dump(save, f, indent=4)\n",
    "            "
   ],
   "metadata": {
    "collapsed": false,
    "ExecuteTime": {
     "end_time": "2025-04-26T04:52:48.437994500Z",
     "start_time": "2025-04-26T04:52:48.397104200Z"
    }
   },
   "execution_count": 17
  },
  {
   "cell_type": "code",
   "outputs": [],
   "source": [
    "# get tools with question\n",
    "with open('../data/match_tools/tools_analyse_parse.json', 'r') as f:\n",
    "    tools = json.load(f)\n",
    "    \n",
    "with open('../data/setting_setup/WikiHow_category.json', 'r') as f:\n",
    "    categories = json.load(f)\n",
    "    \n",
    "save = {}\n",
    "for question in categories['Health']:\n",
    "    tmp_dic = {}\n",
    "    for key, value in tools[question].items():\n",
    "        tmp_dic[key] = value['Tool_steps']\n",
    "    save[question] = tmp_dic\n",
    "with open('../data/match_tools/Tools_health_tools.json', 'w') as f:\n",
    "    json.dump(save, f, indent=4)"
   ],
   "metadata": {
    "collapsed": false,
    "ExecuteTime": {
     "end_time": "2025-04-29T15:47:15.064853100Z",
     "start_time": "2025-04-29T15:47:15.008004600Z"
    }
   },
   "execution_count": 63
  },
  {
   "cell_type": "code",
   "outputs": [],
   "source": [
    "# evaluate each questions' tools\n",
    "with open('../data/match_tools/Tools_health_tools.json', 'r') as f:\n",
    "    tools = json.load(f)\n",
    "    \n",
    "with open('../data/filtered_instructions/Wikihow_filtered_instructions.json', 'r') as f:\n",
    "    instructions = json.load(f)\n",
    "\n",
    "key_list = list(tools.keys())\n",
    "idx = -1\n"
   ],
   "metadata": {
    "collapsed": false,
    "ExecuteTime": {
     "end_time": "2025-04-29T15:47:17.859078400Z",
     "start_time": "2025-04-29T15:47:17.813193500Z"
    }
   },
   "execution_count": 64
  },
  {
   "cell_type": "code",
   "outputs": [
    {
     "name": "stdout",
     "output_type": "stream",
     "text": [
      "How To Make a Medical Marijuana Oil\n",
      "['1. Pour high-proof alcohol over the medical marijuana buds.', '2. Stir and mash the cannabis and solvent together for 2-3 minutes.', '3. Strain the mixture into another container.', '4. Pour the mixture into a double boiler.', '5. Bring the marijuana mixture to a boil.', '6. Simmer the mixture for 25 minutes.']\n",
      "{'1': 'Container', '2': 'Container', '3': 'None', '4': 'Double boiler', '5': 'Double boiler', '6': 'Double boiler'}\n"
     ]
    }
   ],
   "source": [
    "idx += 1\n",
    "for key, value in tools[key_list[idx]].items():\n",
    "    print(key_list[idx])\n",
    "    print(instructions[key_list[idx]][key])\n",
    "    print(value)"
   ],
   "metadata": {
    "collapsed": false,
    "ExecuteTime": {
     "end_time": "2025-04-29T15:50:15.626215900Z",
     "start_time": "2025-04-29T15:50:15.591665300Z"
    }
   },
   "execution_count": 72
  },
  {
   "cell_type": "code",
   "outputs": [
    {
     "name": "stdout",
     "output_type": "stream",
     "text": [
      "175\n"
     ]
    }
   ],
   "source": [
    "# filter out not shared tools\n",
    "with open('../data/match_tools/pair_tools_pets.json', 'r') as f:\n",
    "    data = json.load(f)\n",
    "    \n",
    "cnt = 0\n",
    "save = {}\n",
    "for key, value in data.items():\n",
    "    tmp_dic = {}\n",
    "    for v_key, v_value in value.items():\n",
    "        tmp_tool_list1 = []\n",
    "        tmp_tool_list2 = []\n",
    "        for tmp_key, tmp_value in v_value[0].items():\n",
    "            for x in tmp_value.split(','):\n",
    "                if x.strip(' ') not in tmp_tool_list1:\n",
    "                    tmp_tool_list1.append(x.strip(' '))\n",
    "        for tmp_key, tmp_value in v_value[1].items():\n",
    "            for x in tmp_value.split(','):\n",
    "                if x.strip(' ') not in tmp_tool_list2:\n",
    "                    tmp_tool_list2.append(x.strip(' '))     \n",
    "        flag = 0\n",
    "        for x in tmp_tool_list1:\n",
    "            if x in tmp_tool_list2:\n",
    "                flag = 1\n",
    "                break\n",
    "        if flag == 0:\n",
    "            print(key)\n",
    "            print(v_key)\n",
    "            print('====')\n",
    "        else:\n",
    "            tmp_dic[v_key] = v_value\n",
    "            cnt += 1\n",
    "    if len(tmp_dic) != 0:\n",
    "        save[key] = tmp_dic\n",
    "print(cnt)\n",
    "# with open('../data/match_tools/pair_tools_cars.json', 'w') as f:\n",
    "#     json.dump(save, f, indent=4)"
   ],
   "metadata": {
    "collapsed": false,
    "ExecuteTime": {
     "end_time": "2025-04-27T04:01:47.313207300Z",
     "start_time": "2025-04-27T04:01:47.289270900Z"
    }
   },
   "execution_count": 118
  },
  {
   "cell_type": "code",
   "outputs": [],
   "source": [],
   "metadata": {
    "collapsed": false
   }
  }
 ],
 "metadata": {
  "kernelspec": {
   "display_name": "Python 3",
   "language": "python",
   "name": "python3"
  },
  "language_info": {
   "codemirror_mode": {
    "name": "ipython",
    "version": 2
   },
   "file_extension": ".py",
   "mimetype": "text/x-python",
   "name": "python",
   "nbconvert_exporter": "python",
   "pygments_lexer": "ipython2",
   "version": "2.7.6"
  }
 },
 "nbformat": 4,
 "nbformat_minor": 0
}

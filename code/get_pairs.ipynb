{
 "cells": [
  {
   "cell_type": "code",
   "execution_count": 1807,
   "metadata": {
    "collapsed": true,
    "ExecuteTime": {
     "end_time": "2025-04-21T04:55:11.996578600Z",
     "start_time": "2025-04-21T04:55:11.985478700Z"
    }
   },
   "outputs": [],
   "source": [
    "import json"
   ]
  },
  {
   "cell_type": "code",
   "execution_count": 3622,
   "outputs": [],
   "source": [
    "idx = 2858"
   ],
   "metadata": {
    "collapsed": false,
    "ExecuteTime": {
     "end_time": "2025-04-21T08:11:35.154942800Z",
     "start_time": "2025-04-21T08:11:35.140896800Z"
    }
   }
  },
  {
   "cell_type": "code",
   "execution_count": 3666,
   "outputs": [],
   "source": [
    "with open('../data/time_step/Wikihow_time_GT10.json', 'r') as f:\n",
    "    times = json.load(f)\n",
    "with open('../data/filtered_instructions/Wikihow_filtered_instructions.json', 'r') as f:\n",
    "    instructions = json.load(f)\n",
    "key_list = list(times.keys())\n",
    "idx_list = []"
   ],
   "metadata": {
    "collapsed": false,
    "ExecuteTime": {
     "end_time": "2025-04-21T08:15:11.171242200Z",
     "start_time": "2025-04-21T08:15:11.146762200Z"
    }
   }
  },
  {
   "cell_type": "code",
   "execution_count": 3670,
   "outputs": [
    {
     "name": "stdout",
     "output_type": "stream",
     "text": [
      "2887\n"
     ]
    },
    {
     "ename": "IndexError",
     "evalue": "list index out of range",
     "output_type": "error",
     "traceback": [
      "\u001B[1;31m---------------------------------------------------------------------------\u001B[0m",
      "\u001B[1;31mIndexError\u001B[0m                                Traceback (most recent call last)",
      "Cell \u001B[1;32mIn[3670], line 3\u001B[0m\n\u001B[0;32m      1\u001B[0m idx \u001B[38;5;241m+\u001B[39m\u001B[38;5;241m=\u001B[39m \u001B[38;5;241m1\u001B[39m\n\u001B[0;32m      2\u001B[0m \u001B[38;5;28mprint\u001B[39m(idx)\n\u001B[1;32m----> 3\u001B[0m \u001B[38;5;28mprint\u001B[39m(\u001B[38;5;28mlen\u001B[39m(times[\u001B[43mkey_list\u001B[49m\u001B[43m[\u001B[49m\u001B[43midx\u001B[49m\u001B[43m]\u001B[49m]))\n\u001B[0;32m      4\u001B[0m \u001B[38;5;28;01mfor\u001B[39;00m key, value \u001B[38;5;129;01min\u001B[39;00m times[key_list[idx]]\u001B[38;5;241m.\u001B[39mitems():\n\u001B[0;32m      5\u001B[0m     \u001B[38;5;28mprint\u001B[39m(key_list[idx])\n",
      "\u001B[1;31mIndexError\u001B[0m: list index out of range"
     ]
    }
   ],
   "source": [
    "idx += 1\n",
    "print(idx)\n",
    "print(len(times[key_list[idx]]))\n",
    "for key, value in times[key_list[idx]].items():\n",
    "    print(key_list[idx])\n",
    "    print(instructions[key_list[idx]][key])\n",
    "    print(value)"
   ],
   "metadata": {
    "collapsed": false,
    "ExecuteTime": {
     "end_time": "2025-04-21T08:15:32.534867900Z",
     "start_time": "2025-04-21T08:15:32.500644600Z"
    }
   }
  },
  {
   "cell_type": "code",
   "execution_count": 3664,
   "outputs": [
    {
     "name": "stdout",
     "output_type": "stream",
     "text": [
      "10\n"
     ]
    }
   ],
   "source": [
    "idx_list.append(idx)\n",
    "print(len(idx_list))"
   ],
   "metadata": {
    "collapsed": false,
    "ExecuteTime": {
     "end_time": "2025-04-21T08:14:56.595694600Z",
     "start_time": "2025-04-21T08:14:56.585185Z"
    }
   }
  },
  {
   "cell_type": "code",
   "execution_count": 3665,
   "outputs": [
    {
     "name": "stdout",
     "output_type": "stream",
     "text": [
      "1928\n"
     ]
    }
   ],
   "source": [
    "with open('../data/match_tools/human_choose.json', 'r') as f:\n",
    "    save = json.load(f)\n",
    "for idx in idx_list:\n",
    "    tmp_list = []\n",
    "    for key, value in times[key_list[idx]].items():\n",
    "        tmp_list.append(key)\n",
    "    save[key_list[idx]] = tmp_list\n",
    "print(len(save))\n",
    "with open('../data/match_tools/human_choose.json', 'w') as f:\n",
    "    json.dump(save, f, indent=4)"
   ],
   "metadata": {
    "collapsed": false,
    "ExecuteTime": {
     "end_time": "2025-04-21T08:15:01.478863400Z",
     "start_time": "2025-04-21T08:15:01.461339900Z"
    }
   }
  },
  {
   "cell_type": "code",
   "execution_count": null,
   "outputs": [],
   "source": [],
   "metadata": {
    "collapsed": false
   }
  },
  {
   "cell_type": "code",
   "execution_count": 3690,
   "outputs": [],
   "source": [
    "idx = 0"
   ],
   "metadata": {
    "collapsed": false,
    "ExecuteTime": {
     "end_time": "2025-04-21T11:05:01.766465700Z",
     "start_time": "2025-04-21T11:05:01.758426300Z"
    }
   }
  },
  {
   "cell_type": "code",
   "execution_count": 3680,
   "outputs": [],
   "source": [
    "with open('../data/time_step/Wikihow_time_GT10.json', 'r') as f:\n",
    "    times = json.load(f)\n",
    "with open('../data/filtered_instructions/Wikihow_filtered_instructions.json', 'r') as f:\n",
    "    instructions = json.load(f)\n",
    "with open('../data/match_tools/tools_analyse_parse.json', 'r') as f:\n",
    "    tools = json.load(f)\n",
    "key_list = list(tools.keys())"
   ],
   "metadata": {
    "collapsed": false,
    "ExecuteTime": {
     "end_time": "2025-04-21T10:46:43.584673400Z",
     "start_time": "2025-04-21T10:46:43.556159100Z"
    }
   }
  },
  {
   "cell_type": "code",
   "execution_count": 3691,
   "outputs": [
    {
     "name": "stdout",
     "output_type": "stream",
     "text": [
      "1\n",
      "How To Make a Thor Costume\n",
      "[\"1. Tape a tissue box and an empty paper towel roll together with silver duct tape to create Thor's hammer.\", \"2. Cut Thor's cape out of red flannel material.\", '3. Attach circular medallions made out of black felt to the shoulders of the cape.', \"4. Use glue and silver spray paint to build Thor's helmet out of a paper plate.\", '5. Combine the hammer, cape, helmet, and a long, blonde wig to complete the costume.']\n",
      "{'Tool_steps': {'1': 'Silver duct tape, Tissue box, Paper towel roll', '2': 'Scissors', '3': 'Hot glue gun(Carried-over Tools)', '4': 'Hot glue gun(Carried-over Tools), Silver spray paint, Paper plate', '5': 'None'}, 'Materials': 'Tissue box, Empty paper towel roll, Silver duct tape, Red flannel material, Black felt, Glue, Silver spray paint, Hammer, Cape, Helmet, Long blonde wig, ', 'Tools': {'Silver duct tape': 1, 'Scissors': 1, 'Hot glue gun': 1, 'Silver spray paint': 1, 'Paper plate': 1}}\n"
     ]
    }
   ],
   "source": [
    "idx += 1\n",
    "print(idx)\n",
    "print(key_list[idx])\n",
    "for key, value in tools[key_list[idx]].items():\n",
    "    print(instructions[key_list[idx]][key])\n",
    "    print(value)"
   ],
   "metadata": {
    "collapsed": false,
    "ExecuteTime": {
     "end_time": "2025-04-21T11:05:06.285664100Z",
     "start_time": "2025-04-21T11:05:06.274667900Z"
    }
   }
  },
  {
   "cell_type": "code",
   "execution_count": 3674,
   "outputs": [],
   "source": [],
   "metadata": {
    "collapsed": false,
    "ExecuteTime": {
     "end_time": "2025-04-21T10:27:57.716327700Z",
     "start_time": "2025-04-21T10:27:57.685277200Z"
    }
   }
  }
 ],
 "metadata": {
  "kernelspec": {
   "display_name": "Python 3",
   "language": "python",
   "name": "python3"
  },
  "language_info": {
   "codemirror_mode": {
    "name": "ipython",
    "version": 2
   },
   "file_extension": ".py",
   "mimetype": "text/x-python",
   "name": "python",
   "nbconvert_exporter": "python",
   "pygments_lexer": "ipython2",
   "version": "2.7.6"
  }
 },
 "nbformat": 4,
 "nbformat_minor": 0
}
